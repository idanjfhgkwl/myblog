{
  "nbformat": 4,
  "nbformat_minor": 0,
  "metadata": {
    "colab": {
      "name": "pandas_10minutes.ipynb",
      "provenance": [],
      "collapsed_sections": [],
      "authorship_tag": "ABX9TyMdT4LJ8yGrc2Qt55AAnDPe",
      "include_colab_link": true
    },
    "kernelspec": {
      "name": "python3",
      "display_name": "Python 3"
    }
  },
  "cells": [
    {
      "cell_type": "markdown",
      "metadata": {
        "id": "view-in-github",
        "colab_type": "text"
      },
      "source": [
        "<a href=\"https://colab.research.google.com/github/idanjfhgkwl/myblog/blob/master/source/_posts/pandas_10minutes/pandas_10minutes.ipynb\" target=\"_parent\"><img src=\"https://colab.research.google.com/assets/colab-badge.svg\" alt=\"Open In Colab\"/></a>"
      ]
    },
    {
      "cell_type": "markdown",
      "metadata": {
        "id": "9_VGNifQ21Kt"
      },
      "source": [
        "# 판다스 10분 완성"
      ]
    },
    {
      "cell_type": "markdown",
      "metadata": {
        "id": "gqEBoApaFa6H"
      },
      "source": [
        "[데잇걸즈2](https://dataitgirls2.github.io/10minutes2pandas/)  \n",
        "[10 minutes to pandas](https://pandas.pydata.org/pandas-docs/stable/user_guide/10min.html)  \n",
        "[Pandas Cheat Sheet](https://pandas.pydata.org/Pandas_Cheat_Sheet.pdf)  \n",
        "[Cookbook](https://pandas.pydata.org/pandas-docs/stable/user_guide/cookbook.html)"
      ]
    },
    {
      "cell_type": "code",
      "metadata": {
        "id": "wBRb5e1871Hq"
      },
      "source": [
        "import pandas as pd\n",
        "import numpy as np\n",
        "import matplotlib.pyplot as plt"
      ],
      "execution_count": 34,
      "outputs": []
    },
    {
      "cell_type": "markdown",
      "metadata": {
        "id": "Gl0x6T1v7xmL"
      },
      "source": [
        "## 1) 객체 생성 (Object Creation)"
      ]
    },
    {
      "cell_type": "markdown",
      "metadata": {
        "id": "7mGJiI7p8KHj"
      },
      "source": [
        "[데이터 구조 소개 섹션 (Intro to data structures)](https://pandas.pydata.org/pandas-docs/stable/user_guide/dsintro.html)\n",
        "\n",
        "**pandas.Series()**  \n",
        "값을 가지고 있는 리스트를 통해 [Series](https://pandas.pydata.org/pandas-docs/stable/reference/api/pandas.Series.html)를 만들고, 정수로 만들어진 인덱스를 기본값으로 불러온다."
      ]
    },
    {
      "cell_type": "code",
      "metadata": {
        "id": "KmdRnFl-8Lz1",
        "outputId": "ebf8262d-72dc-4189-e0c8-a36acf938b8c",
        "colab": {
          "base_uri": "https://localhost:8080/"
        }
      },
      "source": [
        "s = pd.Series([1,3,5,np.nan,6,8])\n",
        "s"
      ],
      "execution_count": 35,
      "outputs": [
        {
          "output_type": "execute_result",
          "data": {
            "text/plain": [
              "0    1.0\n",
              "1    3.0\n",
              "2    5.0\n",
              "3    NaN\n",
              "4    6.0\n",
              "5    8.0\n",
              "dtype: float64"
            ]
          },
          "metadata": {
            "tags": []
          },
          "execution_count": 35
        }
      ]
    },
    {
      "cell_type": "markdown",
      "metadata": {
        "id": "jtFtpVhD8RfN"
      },
      "source": [
        "**pandas.date_range()**  \n",
        "DatetimeIndex 데이터프레임을 만든다."
      ]
    },
    {
      "cell_type": "code",
      "metadata": {
        "id": "vrcnjmu-8g_d",
        "outputId": "cba28dba-1bb9-42c3-eebd-171e60f60767",
        "colab": {
          "base_uri": "https://localhost:8080/"
        }
      },
      "source": [
        "dates = pd.date_range('20130101', periods=6)\n",
        "dates"
      ],
      "execution_count": 36,
      "outputs": [
        {
          "output_type": "execute_result",
          "data": {
            "text/plain": [
              "DatetimeIndex(['2013-01-01', '2013-01-02', '2013-01-03', '2013-01-04',\n",
              "               '2013-01-05', '2013-01-06'],\n",
              "              dtype='datetime64[ns]', freq='D')"
            ]
          },
          "metadata": {
            "tags": []
          },
          "execution_count": 36
        }
      ]
    },
    {
      "cell_type": "markdown",
      "metadata": {
        "id": "z02MYhNl804D"
      },
      "source": [
        "**pandas.DataFrame()**  \n",
        "레이블이 있는 열을 가지고 있는 numpy 배열을 전달하여 데이터프레임을 만든다."
      ]
    },
    {
      "cell_type": "code",
      "metadata": {
        "id": "W8FCIzPo8qz8",
        "outputId": "dc12e78e-143d-40a1-f8b9-42645303be29",
        "colab": {
          "base_uri": "https://localhost:8080/",
          "height": 235
        }
      },
      "source": [
        "df = pd.DataFrame(np.random.randn(6,4), index=dates, columns=list('ABCD'))\n",
        "df"
      ],
      "execution_count": 37,
      "outputs": [
        {
          "output_type": "execute_result",
          "data": {
            "text/html": [
              "<div>\n",
              "<style scoped>\n",
              "    .dataframe tbody tr th:only-of-type {\n",
              "        vertical-align: middle;\n",
              "    }\n",
              "\n",
              "    .dataframe tbody tr th {\n",
              "        vertical-align: top;\n",
              "    }\n",
              "\n",
              "    .dataframe thead th {\n",
              "        text-align: right;\n",
              "    }\n",
              "</style>\n",
              "<table border=\"1\" class=\"dataframe\">\n",
              "  <thead>\n",
              "    <tr style=\"text-align: right;\">\n",
              "      <th></th>\n",
              "      <th>A</th>\n",
              "      <th>B</th>\n",
              "      <th>C</th>\n",
              "      <th>D</th>\n",
              "    </tr>\n",
              "  </thead>\n",
              "  <tbody>\n",
              "    <tr>\n",
              "      <th>2013-01-01</th>\n",
              "      <td>0.682032</td>\n",
              "      <td>-1.905166</td>\n",
              "      <td>-0.545421</td>\n",
              "      <td>0.238074</td>\n",
              "    </tr>\n",
              "    <tr>\n",
              "      <th>2013-01-02</th>\n",
              "      <td>0.120775</td>\n",
              "      <td>-0.572338</td>\n",
              "      <td>-2.020728</td>\n",
              "      <td>-0.542485</td>\n",
              "    </tr>\n",
              "    <tr>\n",
              "      <th>2013-01-03</th>\n",
              "      <td>-0.575200</td>\n",
              "      <td>-0.442130</td>\n",
              "      <td>-0.154726</td>\n",
              "      <td>-1.433836</td>\n",
              "    </tr>\n",
              "    <tr>\n",
              "      <th>2013-01-04</th>\n",
              "      <td>0.509850</td>\n",
              "      <td>0.801045</td>\n",
              "      <td>0.015410</td>\n",
              "      <td>-0.671559</td>\n",
              "    </tr>\n",
              "    <tr>\n",
              "      <th>2013-01-05</th>\n",
              "      <td>1.403769</td>\n",
              "      <td>1.191673</td>\n",
              "      <td>-1.332947</td>\n",
              "      <td>0.663252</td>\n",
              "    </tr>\n",
              "    <tr>\n",
              "      <th>2013-01-06</th>\n",
              "      <td>0.825406</td>\n",
              "      <td>1.283820</td>\n",
              "      <td>0.421918</td>\n",
              "      <td>-0.115307</td>\n",
              "    </tr>\n",
              "  </tbody>\n",
              "</table>\n",
              "</div>"
            ],
            "text/plain": [
              "                   A         B         C         D\n",
              "2013-01-01  0.682032 -1.905166 -0.545421  0.238074\n",
              "2013-01-02  0.120775 -0.572338 -2.020728 -0.542485\n",
              "2013-01-03 -0.575200 -0.442130 -0.154726 -1.433836\n",
              "2013-01-04  0.509850  0.801045  0.015410 -0.671559\n",
              "2013-01-05  1.403769  1.191673 -1.332947  0.663252\n",
              "2013-01-06  0.825406  1.283820  0.421918 -0.115307"
            ]
          },
          "metadata": {
            "tags": []
          },
          "execution_count": 37
        }
      ]
    },
    {
      "cell_type": "markdown",
      "metadata": {
        "id": "1gUZQnIc8_Rl"
      },
      "source": [
        "Series와 같은 것으로 변환될 수 있는 객체들의 딕셔너리로 구성된 데이터프레임을 만든다."
      ]
    },
    {
      "cell_type": "code",
      "metadata": {
        "id": "5nWkL8cI9DWN",
        "outputId": "f6a99ce4-6c95-4ce6-8309-8a8813ab658b",
        "colab": {
          "base_uri": "https://localhost:8080/",
          "height": 173
        }
      },
      "source": [
        "df2 = pd.DataFrame({'A' : 1.,\n",
        "                    'B' : pd.Timestamp('20130102'),\n",
        "                    'C' : pd.Series(1,index=list(range(4)),dtype='float32'),\n",
        "                    'D' : np.array([3] * 4,dtype='int32'),\n",
        "                    'E' : pd.Categorical([\"test\",\"train\",\"test\",\"train\"]),\n",
        "                    'F' : 'foo' })\n",
        "df2"
      ],
      "execution_count": 27,
      "outputs": [
        {
          "output_type": "execute_result",
          "data": {
            "text/html": [
              "<div>\n",
              "<style scoped>\n",
              "    .dataframe tbody tr th:only-of-type {\n",
              "        vertical-align: middle;\n",
              "    }\n",
              "\n",
              "    .dataframe tbody tr th {\n",
              "        vertical-align: top;\n",
              "    }\n",
              "\n",
              "    .dataframe thead th {\n",
              "        text-align: right;\n",
              "    }\n",
              "</style>\n",
              "<table border=\"1\" class=\"dataframe\">\n",
              "  <thead>\n",
              "    <tr style=\"text-align: right;\">\n",
              "      <th></th>\n",
              "      <th>A</th>\n",
              "      <th>B</th>\n",
              "      <th>C</th>\n",
              "      <th>D</th>\n",
              "      <th>E</th>\n",
              "      <th>F</th>\n",
              "    </tr>\n",
              "  </thead>\n",
              "  <tbody>\n",
              "    <tr>\n",
              "      <th>0</th>\n",
              "      <td>1.0</td>\n",
              "      <td>2013-01-02</td>\n",
              "      <td>1.0</td>\n",
              "      <td>3</td>\n",
              "      <td>test</td>\n",
              "      <td>foo</td>\n",
              "    </tr>\n",
              "    <tr>\n",
              "      <th>1</th>\n",
              "      <td>1.0</td>\n",
              "      <td>2013-01-02</td>\n",
              "      <td>1.0</td>\n",
              "      <td>3</td>\n",
              "      <td>train</td>\n",
              "      <td>foo</td>\n",
              "    </tr>\n",
              "    <tr>\n",
              "      <th>2</th>\n",
              "      <td>1.0</td>\n",
              "      <td>2013-01-02</td>\n",
              "      <td>1.0</td>\n",
              "      <td>3</td>\n",
              "      <td>test</td>\n",
              "      <td>foo</td>\n",
              "    </tr>\n",
              "    <tr>\n",
              "      <th>3</th>\n",
              "      <td>1.0</td>\n",
              "      <td>2013-01-02</td>\n",
              "      <td>1.0</td>\n",
              "      <td>3</td>\n",
              "      <td>train</td>\n",
              "      <td>foo</td>\n",
              "    </tr>\n",
              "  </tbody>\n",
              "</table>\n",
              "</div>"
            ],
            "text/plain": [
              "     A          B    C  D      E    F\n",
              "0  1.0 2013-01-02  1.0  3   test  foo\n",
              "1  1.0 2013-01-02  1.0  3  train  foo\n",
              "2  1.0 2013-01-02  1.0  3   test  foo\n",
              "3  1.0 2013-01-02  1.0  3  train  foo"
            ]
          },
          "metadata": {
            "tags": []
          },
          "execution_count": 27
        }
      ]
    },
    {
      "cell_type": "markdown",
      "metadata": {
        "id": "oJNazGvP9I4F"
      },
      "source": [
        "**.dtypes**  \n",
        "데이터프레임 결과물의 열은 다양한 데이터 타입으로 구성된다."
      ]
    },
    {
      "cell_type": "code",
      "metadata": {
        "id": "rSZRttqH9NK1",
        "outputId": "8ea644a5-95b6-4a2f-aeb3-02a22ab6a093",
        "colab": {
          "base_uri": "https://localhost:8080/"
        }
      },
      "source": [
        "df2.dtypes"
      ],
      "execution_count": 38,
      "outputs": [
        {
          "output_type": "execute_result",
          "data": {
            "text/plain": [
              "A           float64\n",
              "B    datetime64[ns]\n",
              "C           float32\n",
              "D             int32\n",
              "E          category\n",
              "F            object\n",
              "dtype: object"
            ]
          },
          "metadata": {
            "tags": []
          },
          "execution_count": 38
        }
      ]
    },
    {
      "cell_type": "markdown",
      "metadata": {
        "id": "j1R8EHc49lPT"
      },
      "source": [
        "## 2) 데이터 확인하기 (Viewing Data)"
      ]
    },
    {
      "cell_type": "markdown",
      "metadata": {
        "id": "8WfF9Zw_9vNW"
      },
      "source": [
        "[Basic Section (Essential basic functionality)](https://pandas.pydata.org/pandas-docs/stable/user_guide/basics.html#essential-basic-functionality)\n",
        "\n",
        "**.head(), .tail()**  \n",
        "괄호() 안에 숫자가 들어간다면 처음/마지막 줄의 특정 줄을 불러올 수 있다. 숫자가 들어가지 않으면 기본값인 5줄로 처리된다."
      ]
    },
    {
      "cell_type": "code",
      "metadata": {
        "id": "E2J0ivIr95uN",
        "outputId": "72a4b8a9-27d1-459f-9a20-a4ed9d05722c",
        "colab": {
          "base_uri": "https://localhost:8080/",
          "height": 204
        }
      },
      "source": [
        "df.head() # 시작에서 처음 5줄 불러온다."
      ],
      "execution_count": 39,
      "outputs": [
        {
          "output_type": "execute_result",
          "data": {
            "text/html": [
              "<div>\n",
              "<style scoped>\n",
              "    .dataframe tbody tr th:only-of-type {\n",
              "        vertical-align: middle;\n",
              "    }\n",
              "\n",
              "    .dataframe tbody tr th {\n",
              "        vertical-align: top;\n",
              "    }\n",
              "\n",
              "    .dataframe thead th {\n",
              "        text-align: right;\n",
              "    }\n",
              "</style>\n",
              "<table border=\"1\" class=\"dataframe\">\n",
              "  <thead>\n",
              "    <tr style=\"text-align: right;\">\n",
              "      <th></th>\n",
              "      <th>A</th>\n",
              "      <th>B</th>\n",
              "      <th>C</th>\n",
              "      <th>D</th>\n",
              "    </tr>\n",
              "  </thead>\n",
              "  <tbody>\n",
              "    <tr>\n",
              "      <th>2013-01-01</th>\n",
              "      <td>0.682032</td>\n",
              "      <td>-1.905166</td>\n",
              "      <td>-0.545421</td>\n",
              "      <td>0.238074</td>\n",
              "    </tr>\n",
              "    <tr>\n",
              "      <th>2013-01-02</th>\n",
              "      <td>0.120775</td>\n",
              "      <td>-0.572338</td>\n",
              "      <td>-2.020728</td>\n",
              "      <td>-0.542485</td>\n",
              "    </tr>\n",
              "    <tr>\n",
              "      <th>2013-01-03</th>\n",
              "      <td>-0.575200</td>\n",
              "      <td>-0.442130</td>\n",
              "      <td>-0.154726</td>\n",
              "      <td>-1.433836</td>\n",
              "    </tr>\n",
              "    <tr>\n",
              "      <th>2013-01-04</th>\n",
              "      <td>0.509850</td>\n",
              "      <td>0.801045</td>\n",
              "      <td>0.015410</td>\n",
              "      <td>-0.671559</td>\n",
              "    </tr>\n",
              "    <tr>\n",
              "      <th>2013-01-05</th>\n",
              "      <td>1.403769</td>\n",
              "      <td>1.191673</td>\n",
              "      <td>-1.332947</td>\n",
              "      <td>0.663252</td>\n",
              "    </tr>\n",
              "  </tbody>\n",
              "</table>\n",
              "</div>"
            ],
            "text/plain": [
              "                   A         B         C         D\n",
              "2013-01-01  0.682032 -1.905166 -0.545421  0.238074\n",
              "2013-01-02  0.120775 -0.572338 -2.020728 -0.542485\n",
              "2013-01-03 -0.575200 -0.442130 -0.154726 -1.433836\n",
              "2013-01-04  0.509850  0.801045  0.015410 -0.671559\n",
              "2013-01-05  1.403769  1.191673 -1.332947  0.663252"
            ]
          },
          "metadata": {
            "tags": []
          },
          "execution_count": 39
        }
      ]
    },
    {
      "cell_type": "code",
      "metadata": {
        "id": "r7R-bsjy-INt",
        "outputId": "a5e813ef-dfea-49c0-f586-5b4a623d739e",
        "colab": {
          "base_uri": "https://localhost:8080/",
          "height": 142
        }
      },
      "source": [
        "df.tail(3) # 끝에서 마지막 3줄을 불러온다."
      ],
      "execution_count": 40,
      "outputs": [
        {
          "output_type": "execute_result",
          "data": {
            "text/html": [
              "<div>\n",
              "<style scoped>\n",
              "    .dataframe tbody tr th:only-of-type {\n",
              "        vertical-align: middle;\n",
              "    }\n",
              "\n",
              "    .dataframe tbody tr th {\n",
              "        vertical-align: top;\n",
              "    }\n",
              "\n",
              "    .dataframe thead th {\n",
              "        text-align: right;\n",
              "    }\n",
              "</style>\n",
              "<table border=\"1\" class=\"dataframe\">\n",
              "  <thead>\n",
              "    <tr style=\"text-align: right;\">\n",
              "      <th></th>\n",
              "      <th>A</th>\n",
              "      <th>B</th>\n",
              "      <th>C</th>\n",
              "      <th>D</th>\n",
              "    </tr>\n",
              "  </thead>\n",
              "  <tbody>\n",
              "    <tr>\n",
              "      <th>2013-01-04</th>\n",
              "      <td>0.509850</td>\n",
              "      <td>0.801045</td>\n",
              "      <td>0.015410</td>\n",
              "      <td>-0.671559</td>\n",
              "    </tr>\n",
              "    <tr>\n",
              "      <th>2013-01-05</th>\n",
              "      <td>1.403769</td>\n",
              "      <td>1.191673</td>\n",
              "      <td>-1.332947</td>\n",
              "      <td>0.663252</td>\n",
              "    </tr>\n",
              "    <tr>\n",
              "      <th>2013-01-06</th>\n",
              "      <td>0.825406</td>\n",
              "      <td>1.283820</td>\n",
              "      <td>0.421918</td>\n",
              "      <td>-0.115307</td>\n",
              "    </tr>\n",
              "  </tbody>\n",
              "</table>\n",
              "</div>"
            ],
            "text/plain": [
              "                   A         B         C         D\n",
              "2013-01-04  0.509850  0.801045  0.015410 -0.671559\n",
              "2013-01-05  1.403769  1.191673 -1.332947  0.663252\n",
              "2013-01-06  0.825406  1.283820  0.421918 -0.115307"
            ]
          },
          "metadata": {
            "tags": []
          },
          "execution_count": 40
        }
      ]
    },
    {
      "cell_type": "markdown",
      "metadata": {
        "id": "INUh0oZT-QK1"
      },
      "source": [
        "**.index, .columns, .values**  \n",
        "인덱스, 열 그리고 numpy 데이터에 대한 세부 정보를 본다."
      ]
    },
    {
      "cell_type": "code",
      "metadata": {
        "id": "zXaqbnV4-Uh9",
        "outputId": "072a704d-6096-423c-f6d9-5eb6bfc443be",
        "colab": {
          "base_uri": "https://localhost:8080/"
        }
      },
      "source": [
        "df.index"
      ],
      "execution_count": 41,
      "outputs": [
        {
          "output_type": "execute_result",
          "data": {
            "text/plain": [
              "DatetimeIndex(['2013-01-01', '2013-01-02', '2013-01-03', '2013-01-04',\n",
              "               '2013-01-05', '2013-01-06'],\n",
              "              dtype='datetime64[ns]', freq='D')"
            ]
          },
          "metadata": {
            "tags": []
          },
          "execution_count": 41
        }
      ]
    },
    {
      "cell_type": "code",
      "metadata": {
        "id": "IV_KdykZ-XDD",
        "outputId": "7a7dc022-2737-4f29-84d0-eee1b0b5b005",
        "colab": {
          "base_uri": "https://localhost:8080/"
        }
      },
      "source": [
        "df.columns"
      ],
      "execution_count": 42,
      "outputs": [
        {
          "output_type": "execute_result",
          "data": {
            "text/plain": [
              "Index(['A', 'B', 'C', 'D'], dtype='object')"
            ]
          },
          "metadata": {
            "tags": []
          },
          "execution_count": 42
        }
      ]
    },
    {
      "cell_type": "code",
      "metadata": {
        "id": "GiYMvF9p-ZDW",
        "outputId": "8b1baa59-3d06-47ae-f7aa-0c80e6d5d16b",
        "colab": {
          "base_uri": "https://localhost:8080/"
        }
      },
      "source": [
        "df.values"
      ],
      "execution_count": 43,
      "outputs": [
        {
          "output_type": "execute_result",
          "data": {
            "text/plain": [
              "array([[ 0.68203244, -1.90516572, -0.54542119,  0.23807417],\n",
              "       [ 0.12077523, -0.57233779, -2.02072777, -0.5424847 ],\n",
              "       [-0.57519992, -0.44213025, -0.15472648, -1.43383629],\n",
              "       [ 0.5098502 ,  0.8010451 ,  0.01541041, -0.67155854],\n",
              "       [ 1.40376854,  1.1916732 , -1.33294702,  0.66325193],\n",
              "       [ 0.82540573,  1.28382005,  0.42191767, -0.11530747]])"
            ]
          },
          "metadata": {
            "tags": []
          },
          "execution_count": 43
        }
      ]
    },
    {
      "cell_type": "markdown",
      "metadata": {
        "id": "PGVgtHby-dYO"
      },
      "source": [
        "**.describe()**  \n",
        "[describe()](https://pandas.pydata.org/pandas-docs/stable/reference/api/pandas.DataFrame.describe.html)는 데이터의 대략적인 통계적 정보 요약을 보여준다."
      ]
    },
    {
      "cell_type": "code",
      "metadata": {
        "id": "LprZ8BTr-e62",
        "outputId": "882dd4c6-6fdc-43ee-e664-7b0271c43be6",
        "colab": {
          "base_uri": "https://localhost:8080/",
          "height": 297
        }
      },
      "source": [
        "df.describe()"
      ],
      "execution_count": 44,
      "outputs": [
        {
          "output_type": "execute_result",
          "data": {
            "text/html": [
              "<div>\n",
              "<style scoped>\n",
              "    .dataframe tbody tr th:only-of-type {\n",
              "        vertical-align: middle;\n",
              "    }\n",
              "\n",
              "    .dataframe tbody tr th {\n",
              "        vertical-align: top;\n",
              "    }\n",
              "\n",
              "    .dataframe thead th {\n",
              "        text-align: right;\n",
              "    }\n",
              "</style>\n",
              "<table border=\"1\" class=\"dataframe\">\n",
              "  <thead>\n",
              "    <tr style=\"text-align: right;\">\n",
              "      <th></th>\n",
              "      <th>A</th>\n",
              "      <th>B</th>\n",
              "      <th>C</th>\n",
              "      <th>D</th>\n",
              "    </tr>\n",
              "  </thead>\n",
              "  <tbody>\n",
              "    <tr>\n",
              "      <th>count</th>\n",
              "      <td>6.000000</td>\n",
              "      <td>6.000000</td>\n",
              "      <td>6.000000</td>\n",
              "      <td>6.000000</td>\n",
              "    </tr>\n",
              "    <tr>\n",
              "      <th>mean</th>\n",
              "      <td>0.494439</td>\n",
              "      <td>0.059484</td>\n",
              "      <td>-0.602749</td>\n",
              "      <td>-0.310310</td>\n",
              "    </tr>\n",
              "    <tr>\n",
              "      <th>std</th>\n",
              "      <td>0.671655</td>\n",
              "      <td>1.252312</td>\n",
              "      <td>0.914322</td>\n",
              "      <td>0.739363</td>\n",
              "    </tr>\n",
              "    <tr>\n",
              "      <th>min</th>\n",
              "      <td>-0.575200</td>\n",
              "      <td>-1.905166</td>\n",
              "      <td>-2.020728</td>\n",
              "      <td>-1.433836</td>\n",
              "    </tr>\n",
              "    <tr>\n",
              "      <th>25%</th>\n",
              "      <td>0.218044</td>\n",
              "      <td>-0.539786</td>\n",
              "      <td>-1.136066</td>\n",
              "      <td>-0.639290</td>\n",
              "    </tr>\n",
              "    <tr>\n",
              "      <th>50%</th>\n",
              "      <td>0.595941</td>\n",
              "      <td>0.179457</td>\n",
              "      <td>-0.350074</td>\n",
              "      <td>-0.328896</td>\n",
              "    </tr>\n",
              "    <tr>\n",
              "      <th>75%</th>\n",
              "      <td>0.789562</td>\n",
              "      <td>1.094016</td>\n",
              "      <td>-0.027124</td>\n",
              "      <td>0.149729</td>\n",
              "    </tr>\n",
              "    <tr>\n",
              "      <th>max</th>\n",
              "      <td>1.403769</td>\n",
              "      <td>1.283820</td>\n",
              "      <td>0.421918</td>\n",
              "      <td>0.663252</td>\n",
              "    </tr>\n",
              "  </tbody>\n",
              "</table>\n",
              "</div>"
            ],
            "text/plain": [
              "              A         B         C         D\n",
              "count  6.000000  6.000000  6.000000  6.000000\n",
              "mean   0.494439  0.059484 -0.602749 -0.310310\n",
              "std    0.671655  1.252312  0.914322  0.739363\n",
              "min   -0.575200 -1.905166 -2.020728 -1.433836\n",
              "25%    0.218044 -0.539786 -1.136066 -0.639290\n",
              "50%    0.595941  0.179457 -0.350074 -0.328896\n",
              "75%    0.789562  1.094016 -0.027124  0.149729\n",
              "max    1.403769  1.283820  0.421918  0.663252"
            ]
          },
          "metadata": {
            "tags": []
          },
          "execution_count": 44
        }
      ]
    },
    {
      "cell_type": "markdown",
      "metadata": {
        "id": "XomHNqoo-kjg"
      },
      "source": [
        "**.T**  \n",
        "데이터를 전치한다.  \n",
        "전치 행렬은 행과 열을 교환하여 얻는 행렬이다. 주대각선을 축으로 하는 반사 대칭을 가하여 얻는 행렬이다."
      ]
    },
    {
      "cell_type": "code",
      "metadata": {
        "id": "jJnrIPyM-lqm",
        "outputId": "a78a0786-4b87-40a8-8a26-a7405833aec8",
        "colab": {
          "base_uri": "https://localhost:8080/",
          "height": 173
        }
      },
      "source": [
        "df.T"
      ],
      "execution_count": 45,
      "outputs": [
        {
          "output_type": "execute_result",
          "data": {
            "text/html": [
              "<div>\n",
              "<style scoped>\n",
              "    .dataframe tbody tr th:only-of-type {\n",
              "        vertical-align: middle;\n",
              "    }\n",
              "\n",
              "    .dataframe tbody tr th {\n",
              "        vertical-align: top;\n",
              "    }\n",
              "\n",
              "    .dataframe thead th {\n",
              "        text-align: right;\n",
              "    }\n",
              "</style>\n",
              "<table border=\"1\" class=\"dataframe\">\n",
              "  <thead>\n",
              "    <tr style=\"text-align: right;\">\n",
              "      <th></th>\n",
              "      <th>2013-01-01</th>\n",
              "      <th>2013-01-02</th>\n",
              "      <th>2013-01-03</th>\n",
              "      <th>2013-01-04</th>\n",
              "      <th>2013-01-05</th>\n",
              "      <th>2013-01-06</th>\n",
              "    </tr>\n",
              "  </thead>\n",
              "  <tbody>\n",
              "    <tr>\n",
              "      <th>A</th>\n",
              "      <td>0.682032</td>\n",
              "      <td>0.120775</td>\n",
              "      <td>-0.575200</td>\n",
              "      <td>0.509850</td>\n",
              "      <td>1.403769</td>\n",
              "      <td>0.825406</td>\n",
              "    </tr>\n",
              "    <tr>\n",
              "      <th>B</th>\n",
              "      <td>-1.905166</td>\n",
              "      <td>-0.572338</td>\n",
              "      <td>-0.442130</td>\n",
              "      <td>0.801045</td>\n",
              "      <td>1.191673</td>\n",
              "      <td>1.283820</td>\n",
              "    </tr>\n",
              "    <tr>\n",
              "      <th>C</th>\n",
              "      <td>-0.545421</td>\n",
              "      <td>-2.020728</td>\n",
              "      <td>-0.154726</td>\n",
              "      <td>0.015410</td>\n",
              "      <td>-1.332947</td>\n",
              "      <td>0.421918</td>\n",
              "    </tr>\n",
              "    <tr>\n",
              "      <th>D</th>\n",
              "      <td>0.238074</td>\n",
              "      <td>-0.542485</td>\n",
              "      <td>-1.433836</td>\n",
              "      <td>-0.671559</td>\n",
              "      <td>0.663252</td>\n",
              "      <td>-0.115307</td>\n",
              "    </tr>\n",
              "  </tbody>\n",
              "</table>\n",
              "</div>"
            ],
            "text/plain": [
              "   2013-01-01  2013-01-02  2013-01-03  2013-01-04  2013-01-05  2013-01-06\n",
              "A    0.682032    0.120775   -0.575200    0.509850    1.403769    0.825406\n",
              "B   -1.905166   -0.572338   -0.442130    0.801045    1.191673    1.283820\n",
              "C   -0.545421   -2.020728   -0.154726    0.015410   -1.332947    0.421918\n",
              "D    0.238074   -0.542485   -1.433836   -0.671559    0.663252   -0.115307"
            ]
          },
          "metadata": {
            "tags": []
          },
          "execution_count": 45
        }
      ]
    },
    {
      "cell_type": "markdown",
      "metadata": {
        "id": "5nAdNtW9_Br_"
      },
      "source": [
        "**.sort_index()**  \n",
        "축 별로 정렬한다."
      ]
    },
    {
      "cell_type": "code",
      "metadata": {
        "id": "-Ur_ksNN_D9j",
        "outputId": "ba81d48d-3f19-499d-bb82-fdf40fe51906",
        "colab": {
          "base_uri": "https://localhost:8080/",
          "height": 235
        }
      },
      "source": [
        "df.sort_index(axis=1, ascending=False)"
      ],
      "execution_count": 46,
      "outputs": [
        {
          "output_type": "execute_result",
          "data": {
            "text/html": [
              "<div>\n",
              "<style scoped>\n",
              "    .dataframe tbody tr th:only-of-type {\n",
              "        vertical-align: middle;\n",
              "    }\n",
              "\n",
              "    .dataframe tbody tr th {\n",
              "        vertical-align: top;\n",
              "    }\n",
              "\n",
              "    .dataframe thead th {\n",
              "        text-align: right;\n",
              "    }\n",
              "</style>\n",
              "<table border=\"1\" class=\"dataframe\">\n",
              "  <thead>\n",
              "    <tr style=\"text-align: right;\">\n",
              "      <th></th>\n",
              "      <th>D</th>\n",
              "      <th>C</th>\n",
              "      <th>B</th>\n",
              "      <th>A</th>\n",
              "    </tr>\n",
              "  </thead>\n",
              "  <tbody>\n",
              "    <tr>\n",
              "      <th>2013-01-01</th>\n",
              "      <td>0.238074</td>\n",
              "      <td>-0.545421</td>\n",
              "      <td>-1.905166</td>\n",
              "      <td>0.682032</td>\n",
              "    </tr>\n",
              "    <tr>\n",
              "      <th>2013-01-02</th>\n",
              "      <td>-0.542485</td>\n",
              "      <td>-2.020728</td>\n",
              "      <td>-0.572338</td>\n",
              "      <td>0.120775</td>\n",
              "    </tr>\n",
              "    <tr>\n",
              "      <th>2013-01-03</th>\n",
              "      <td>-1.433836</td>\n",
              "      <td>-0.154726</td>\n",
              "      <td>-0.442130</td>\n",
              "      <td>-0.575200</td>\n",
              "    </tr>\n",
              "    <tr>\n",
              "      <th>2013-01-04</th>\n",
              "      <td>-0.671559</td>\n",
              "      <td>0.015410</td>\n",
              "      <td>0.801045</td>\n",
              "      <td>0.509850</td>\n",
              "    </tr>\n",
              "    <tr>\n",
              "      <th>2013-01-05</th>\n",
              "      <td>0.663252</td>\n",
              "      <td>-1.332947</td>\n",
              "      <td>1.191673</td>\n",
              "      <td>1.403769</td>\n",
              "    </tr>\n",
              "    <tr>\n",
              "      <th>2013-01-06</th>\n",
              "      <td>-0.115307</td>\n",
              "      <td>0.421918</td>\n",
              "      <td>1.283820</td>\n",
              "      <td>0.825406</td>\n",
              "    </tr>\n",
              "  </tbody>\n",
              "</table>\n",
              "</div>"
            ],
            "text/plain": [
              "                   D         C         B         A\n",
              "2013-01-01  0.238074 -0.545421 -1.905166  0.682032\n",
              "2013-01-02 -0.542485 -2.020728 -0.572338  0.120775\n",
              "2013-01-03 -1.433836 -0.154726 -0.442130 -0.575200\n",
              "2013-01-04 -0.671559  0.015410  0.801045  0.509850\n",
              "2013-01-05  0.663252 -1.332947  1.191673  1.403769\n",
              "2013-01-06 -0.115307  0.421918  1.283820  0.825406"
            ]
          },
          "metadata": {
            "tags": []
          },
          "execution_count": 46
        }
      ]
    },
    {
      "cell_type": "markdown",
      "metadata": {
        "id": "QS5Gt-xK_GZN"
      },
      "source": [
        "**.sort_values()**  \n",
        "값 별로 정렬한다."
      ]
    },
    {
      "cell_type": "code",
      "metadata": {
        "id": "JPv1Quim_HXd",
        "outputId": "1b9ccebd-38c4-4f11-ea9a-c218810200ba",
        "colab": {
          "base_uri": "https://localhost:8080/",
          "height": 235
        }
      },
      "source": [
        "df.sort_values(by='B')"
      ],
      "execution_count": 47,
      "outputs": [
        {
          "output_type": "execute_result",
          "data": {
            "text/html": [
              "<div>\n",
              "<style scoped>\n",
              "    .dataframe tbody tr th:only-of-type {\n",
              "        vertical-align: middle;\n",
              "    }\n",
              "\n",
              "    .dataframe tbody tr th {\n",
              "        vertical-align: top;\n",
              "    }\n",
              "\n",
              "    .dataframe thead th {\n",
              "        text-align: right;\n",
              "    }\n",
              "</style>\n",
              "<table border=\"1\" class=\"dataframe\">\n",
              "  <thead>\n",
              "    <tr style=\"text-align: right;\">\n",
              "      <th></th>\n",
              "      <th>A</th>\n",
              "      <th>B</th>\n",
              "      <th>C</th>\n",
              "      <th>D</th>\n",
              "    </tr>\n",
              "  </thead>\n",
              "  <tbody>\n",
              "    <tr>\n",
              "      <th>2013-01-01</th>\n",
              "      <td>0.682032</td>\n",
              "      <td>-1.905166</td>\n",
              "      <td>-0.545421</td>\n",
              "      <td>0.238074</td>\n",
              "    </tr>\n",
              "    <tr>\n",
              "      <th>2013-01-02</th>\n",
              "      <td>0.120775</td>\n",
              "      <td>-0.572338</td>\n",
              "      <td>-2.020728</td>\n",
              "      <td>-0.542485</td>\n",
              "    </tr>\n",
              "    <tr>\n",
              "      <th>2013-01-03</th>\n",
              "      <td>-0.575200</td>\n",
              "      <td>-0.442130</td>\n",
              "      <td>-0.154726</td>\n",
              "      <td>-1.433836</td>\n",
              "    </tr>\n",
              "    <tr>\n",
              "      <th>2013-01-04</th>\n",
              "      <td>0.509850</td>\n",
              "      <td>0.801045</td>\n",
              "      <td>0.015410</td>\n",
              "      <td>-0.671559</td>\n",
              "    </tr>\n",
              "    <tr>\n",
              "      <th>2013-01-05</th>\n",
              "      <td>1.403769</td>\n",
              "      <td>1.191673</td>\n",
              "      <td>-1.332947</td>\n",
              "      <td>0.663252</td>\n",
              "    </tr>\n",
              "    <tr>\n",
              "      <th>2013-01-06</th>\n",
              "      <td>0.825406</td>\n",
              "      <td>1.283820</td>\n",
              "      <td>0.421918</td>\n",
              "      <td>-0.115307</td>\n",
              "    </tr>\n",
              "  </tbody>\n",
              "</table>\n",
              "</div>"
            ],
            "text/plain": [
              "                   A         B         C         D\n",
              "2013-01-01  0.682032 -1.905166 -0.545421  0.238074\n",
              "2013-01-02  0.120775 -0.572338 -2.020728 -0.542485\n",
              "2013-01-03 -0.575200 -0.442130 -0.154726 -1.433836\n",
              "2013-01-04  0.509850  0.801045  0.015410 -0.671559\n",
              "2013-01-05  1.403769  1.191673 -1.332947  0.663252\n",
              "2013-01-06  0.825406  1.283820  0.421918 -0.115307"
            ]
          },
          "metadata": {
            "tags": []
          },
          "execution_count": 47
        }
      ]
    },
    {
      "cell_type": "markdown",
      "metadata": {
        "id": "YqXd8RGg_Lss"
      },
      "source": [
        "## 3) 선택 (Selection)"
      ]
    },
    {
      "cell_type": "markdown",
      "metadata": {
        "id": "3NY3ElcqG5T4"
      },
      "source": [
        "[데이터 인덱싱 및 선택 문서 (Indexing and selecting data)](https://pandas.pydata.org/pandas-docs/stable/user_guide/indexing.html)  \n",
        "[다중 인덱싱 / 심화 인덱싱 (MultiIndex / advanced indexing)](https://pandas.pydata.org/pandas-docs/stable/user_guide/advanced.html)"
      ]
    },
    {
      "cell_type": "markdown",
      "metadata": {
        "id": "gvYhLxx7_Wio"
      },
      "source": [
        "### 3-1) 데이터 얻기 (Getting)"
      ]
    },
    {
      "cell_type": "markdown",
      "metadata": {
        "id": "vdzZE8eY_ln-"
      },
      "source": [
        "df.A 와 동일한 Series를 생성하는 단일 열을 선택한다."
      ]
    },
    {
      "cell_type": "code",
      "metadata": {
        "id": "P3JkysgA_rDG",
        "outputId": "f48319ac-f680-4101-f8f7-5328847790df",
        "colab": {
          "base_uri": "https://localhost:8080/"
        }
      },
      "source": [
        "df['A']"
      ],
      "execution_count": 48,
      "outputs": [
        {
          "output_type": "execute_result",
          "data": {
            "text/plain": [
              "2013-01-01    0.682032\n",
              "2013-01-02    0.120775\n",
              "2013-01-03   -0.575200\n",
              "2013-01-04    0.509850\n",
              "2013-01-05    1.403769\n",
              "2013-01-06    0.825406\n",
              "Freq: D, Name: A, dtype: float64"
            ]
          },
          "metadata": {
            "tags": []
          },
          "execution_count": 48
        }
      ]
    },
    {
      "cell_type": "markdown",
      "metadata": {
        "id": "qC7tNU7aEfzH"
      },
      "source": [
        "행을 분할하는 [ ]를 통해 선택한다."
      ]
    },
    {
      "cell_type": "code",
      "metadata": {
        "id": "X-JD7gU9EfOJ",
        "outputId": "a1f75ba2-de3e-4af9-beda-549e0e6865cb",
        "colab": {
          "base_uri": "https://localhost:8080/",
          "height": 142
        }
      },
      "source": [
        "df[0:3]"
      ],
      "execution_count": 49,
      "outputs": [
        {
          "output_type": "execute_result",
          "data": {
            "text/html": [
              "<div>\n",
              "<style scoped>\n",
              "    .dataframe tbody tr th:only-of-type {\n",
              "        vertical-align: middle;\n",
              "    }\n",
              "\n",
              "    .dataframe tbody tr th {\n",
              "        vertical-align: top;\n",
              "    }\n",
              "\n",
              "    .dataframe thead th {\n",
              "        text-align: right;\n",
              "    }\n",
              "</style>\n",
              "<table border=\"1\" class=\"dataframe\">\n",
              "  <thead>\n",
              "    <tr style=\"text-align: right;\">\n",
              "      <th></th>\n",
              "      <th>A</th>\n",
              "      <th>B</th>\n",
              "      <th>C</th>\n",
              "      <th>D</th>\n",
              "    </tr>\n",
              "  </thead>\n",
              "  <tbody>\n",
              "    <tr>\n",
              "      <th>2013-01-01</th>\n",
              "      <td>0.682032</td>\n",
              "      <td>-1.905166</td>\n",
              "      <td>-0.545421</td>\n",
              "      <td>0.238074</td>\n",
              "    </tr>\n",
              "    <tr>\n",
              "      <th>2013-01-02</th>\n",
              "      <td>0.120775</td>\n",
              "      <td>-0.572338</td>\n",
              "      <td>-2.020728</td>\n",
              "      <td>-0.542485</td>\n",
              "    </tr>\n",
              "    <tr>\n",
              "      <th>2013-01-03</th>\n",
              "      <td>-0.575200</td>\n",
              "      <td>-0.442130</td>\n",
              "      <td>-0.154726</td>\n",
              "      <td>-1.433836</td>\n",
              "    </tr>\n",
              "  </tbody>\n",
              "</table>\n",
              "</div>"
            ],
            "text/plain": [
              "                   A         B         C         D\n",
              "2013-01-01  0.682032 -1.905166 -0.545421  0.238074\n",
              "2013-01-02  0.120775 -0.572338 -2.020728 -0.542485\n",
              "2013-01-03 -0.575200 -0.442130 -0.154726 -1.433836"
            ]
          },
          "metadata": {
            "tags": []
          },
          "execution_count": 49
        }
      ]
    },
    {
      "cell_type": "code",
      "metadata": {
        "id": "uTN1jtVBEn8v",
        "outputId": "73b7f6be-39ed-4383-c8af-1703123f085a",
        "colab": {
          "base_uri": "https://localhost:8080/",
          "height": 142
        }
      },
      "source": [
        "df['20130102':'20130104']"
      ],
      "execution_count": 50,
      "outputs": [
        {
          "output_type": "execute_result",
          "data": {
            "text/html": [
              "<div>\n",
              "<style scoped>\n",
              "    .dataframe tbody tr th:only-of-type {\n",
              "        vertical-align: middle;\n",
              "    }\n",
              "\n",
              "    .dataframe tbody tr th {\n",
              "        vertical-align: top;\n",
              "    }\n",
              "\n",
              "    .dataframe thead th {\n",
              "        text-align: right;\n",
              "    }\n",
              "</style>\n",
              "<table border=\"1\" class=\"dataframe\">\n",
              "  <thead>\n",
              "    <tr style=\"text-align: right;\">\n",
              "      <th></th>\n",
              "      <th>A</th>\n",
              "      <th>B</th>\n",
              "      <th>C</th>\n",
              "      <th>D</th>\n",
              "    </tr>\n",
              "  </thead>\n",
              "  <tbody>\n",
              "    <tr>\n",
              "      <th>2013-01-02</th>\n",
              "      <td>0.120775</td>\n",
              "      <td>-0.572338</td>\n",
              "      <td>-2.020728</td>\n",
              "      <td>-0.542485</td>\n",
              "    </tr>\n",
              "    <tr>\n",
              "      <th>2013-01-03</th>\n",
              "      <td>-0.575200</td>\n",
              "      <td>-0.442130</td>\n",
              "      <td>-0.154726</td>\n",
              "      <td>-1.433836</td>\n",
              "    </tr>\n",
              "    <tr>\n",
              "      <th>2013-01-04</th>\n",
              "      <td>0.509850</td>\n",
              "      <td>0.801045</td>\n",
              "      <td>0.015410</td>\n",
              "      <td>-0.671559</td>\n",
              "    </tr>\n",
              "  </tbody>\n",
              "</table>\n",
              "</div>"
            ],
            "text/plain": [
              "                   A         B         C         D\n",
              "2013-01-02  0.120775 -0.572338 -2.020728 -0.542485\n",
              "2013-01-03 -0.575200 -0.442130 -0.154726 -1.433836\n",
              "2013-01-04  0.509850  0.801045  0.015410 -0.671559"
            ]
          },
          "metadata": {
            "tags": []
          },
          "execution_count": 50
        }
      ]
    },
    {
      "cell_type": "markdown",
      "metadata": {
        "id": "6oPz-ojnEtP_"
      },
      "source": [
        "### 3-2) Label 을 통한 선택 (Selection by Label)"
      ]
    },
    {
      "cell_type": "markdown",
      "metadata": {
        "id": "gLopDN3LEz4_"
      },
      "source": [
        "[Label을 통한 선택 (Indexing and selecting data)](https://pandas.pydata.org/pandas-docs/stable/user_guide/indexing.html)  \n",
        "라벨을 사용하여 횡단면을 얻는다."
      ]
    },
    {
      "cell_type": "code",
      "metadata": {
        "id": "2MDOykfsE1SC",
        "outputId": "3d9e4a0d-5a8e-4e0f-af7d-ddad1cb83191",
        "colab": {
          "base_uri": "https://localhost:8080/"
        }
      },
      "source": [
        "df.loc[dates[0]] # 2013-01-01 가로 데이터"
      ],
      "execution_count": 51,
      "outputs": [
        {
          "output_type": "execute_result",
          "data": {
            "text/plain": [
              "A    0.682032\n",
              "B   -1.905166\n",
              "C   -0.545421\n",
              "D    0.238074\n",
              "Name: 2013-01-01 00:00:00, dtype: float64"
            ]
          },
          "metadata": {
            "tags": []
          },
          "execution_count": 51
        }
      ]
    },
    {
      "cell_type": "markdown",
      "metadata": {
        "id": "DboZNvcIFAmH"
      },
      "source": [
        "라벨을 사용하여 여러 축(의 데이터)을 얻는다."
      ]
    },
    {
      "cell_type": "code",
      "metadata": {
        "id": "sT5EsGnJFCuP",
        "outputId": "1d2dfdb5-4dcc-43ed-d8d5-7b26c1543e5f",
        "colab": {
          "base_uri": "https://localhost:8080/",
          "height": 235
        }
      },
      "source": [
        "df.loc[:,['A','B']] # 맨 처음 \":\"는 인덱스 범위인 것 같은데 아무것도 안 적으면 모든 데이터를 말하는 것 같다."
      ],
      "execution_count": 52,
      "outputs": [
        {
          "output_type": "execute_result",
          "data": {
            "text/html": [
              "<div>\n",
              "<style scoped>\n",
              "    .dataframe tbody tr th:only-of-type {\n",
              "        vertical-align: middle;\n",
              "    }\n",
              "\n",
              "    .dataframe tbody tr th {\n",
              "        vertical-align: top;\n",
              "    }\n",
              "\n",
              "    .dataframe thead th {\n",
              "        text-align: right;\n",
              "    }\n",
              "</style>\n",
              "<table border=\"1\" class=\"dataframe\">\n",
              "  <thead>\n",
              "    <tr style=\"text-align: right;\">\n",
              "      <th></th>\n",
              "      <th>A</th>\n",
              "      <th>B</th>\n",
              "    </tr>\n",
              "  </thead>\n",
              "  <tbody>\n",
              "    <tr>\n",
              "      <th>2013-01-01</th>\n",
              "      <td>0.682032</td>\n",
              "      <td>-1.905166</td>\n",
              "    </tr>\n",
              "    <tr>\n",
              "      <th>2013-01-02</th>\n",
              "      <td>0.120775</td>\n",
              "      <td>-0.572338</td>\n",
              "    </tr>\n",
              "    <tr>\n",
              "      <th>2013-01-03</th>\n",
              "      <td>-0.575200</td>\n",
              "      <td>-0.442130</td>\n",
              "    </tr>\n",
              "    <tr>\n",
              "      <th>2013-01-04</th>\n",
              "      <td>0.509850</td>\n",
              "      <td>0.801045</td>\n",
              "    </tr>\n",
              "    <tr>\n",
              "      <th>2013-01-05</th>\n",
              "      <td>1.403769</td>\n",
              "      <td>1.191673</td>\n",
              "    </tr>\n",
              "    <tr>\n",
              "      <th>2013-01-06</th>\n",
              "      <td>0.825406</td>\n",
              "      <td>1.283820</td>\n",
              "    </tr>\n",
              "  </tbody>\n",
              "</table>\n",
              "</div>"
            ],
            "text/plain": [
              "                   A         B\n",
              "2013-01-01  0.682032 -1.905166\n",
              "2013-01-02  0.120775 -0.572338\n",
              "2013-01-03 -0.575200 -0.442130\n",
              "2013-01-04  0.509850  0.801045\n",
              "2013-01-05  1.403769  1.191673\n",
              "2013-01-06  0.825406  1.283820"
            ]
          },
          "metadata": {
            "tags": []
          },
          "execution_count": 52
        }
      ]
    },
    {
      "cell_type": "markdown",
      "metadata": {
        "id": "oLN_70pAHhnA"
      },
      "source": [
        "양쪽 종단점을 포함한 라벨 슬라이싱을 본다."
      ]
    },
    {
      "cell_type": "code",
      "metadata": {
        "id": "i9gkk01EHkD2",
        "outputId": "84e7c742-dc88-412c-9e3c-4ee57a0702b3",
        "colab": {
          "base_uri": "https://localhost:8080/",
          "height": 142
        }
      },
      "source": [
        "df.loc['20130102':'20130104', ['A','B']]"
      ],
      "execution_count": 53,
      "outputs": [
        {
          "output_type": "execute_result",
          "data": {
            "text/html": [
              "<div>\n",
              "<style scoped>\n",
              "    .dataframe tbody tr th:only-of-type {\n",
              "        vertical-align: middle;\n",
              "    }\n",
              "\n",
              "    .dataframe tbody tr th {\n",
              "        vertical-align: top;\n",
              "    }\n",
              "\n",
              "    .dataframe thead th {\n",
              "        text-align: right;\n",
              "    }\n",
              "</style>\n",
              "<table border=\"1\" class=\"dataframe\">\n",
              "  <thead>\n",
              "    <tr style=\"text-align: right;\">\n",
              "      <th></th>\n",
              "      <th>A</th>\n",
              "      <th>B</th>\n",
              "    </tr>\n",
              "  </thead>\n",
              "  <tbody>\n",
              "    <tr>\n",
              "      <th>2013-01-02</th>\n",
              "      <td>0.120775</td>\n",
              "      <td>-0.572338</td>\n",
              "    </tr>\n",
              "    <tr>\n",
              "      <th>2013-01-03</th>\n",
              "      <td>-0.575200</td>\n",
              "      <td>-0.442130</td>\n",
              "    </tr>\n",
              "    <tr>\n",
              "      <th>2013-01-04</th>\n",
              "      <td>0.509850</td>\n",
              "      <td>0.801045</td>\n",
              "    </tr>\n",
              "  </tbody>\n",
              "</table>\n",
              "</div>"
            ],
            "text/plain": [
              "                   A         B\n",
              "2013-01-02  0.120775 -0.572338\n",
              "2013-01-03 -0.575200 -0.442130\n",
              "2013-01-04  0.509850  0.801045"
            ]
          },
          "metadata": {
            "tags": []
          },
          "execution_count": 53
        }
      ]
    },
    {
      "cell_type": "markdown",
      "metadata": {
        "id": "AXBpxtkSH2mQ"
      },
      "source": [
        "반환되는 객체의 차원를 줄인다."
      ]
    },
    {
      "cell_type": "code",
      "metadata": {
        "id": "eGp0i6L9H12o",
        "outputId": "2a1b05d9-77b9-46d1-9ea3-c75a2b65fc20",
        "colab": {
          "base_uri": "https://localhost:8080/"
        }
      },
      "source": [
        "df.loc['20130102',['A','B']]"
      ],
      "execution_count": 54,
      "outputs": [
        {
          "output_type": "execute_result",
          "data": {
            "text/plain": [
              "A    0.120775\n",
              "B   -0.572338\n",
              "Name: 2013-01-02 00:00:00, dtype: float64"
            ]
          },
          "metadata": {
            "tags": []
          },
          "execution_count": 54
        }
      ]
    },
    {
      "cell_type": "markdown",
      "metadata": {
        "id": "52r94JlzIupB"
      },
      "source": [
        "스칼라 값을 얻는다.  \n",
        "스칼라란 선형대수학에서 선형공간을 정의 할 때, 선형공간의 원소와 스칼라 곱을 하는 체의 원소이다."
      ]
    },
    {
      "cell_type": "code",
      "metadata": {
        "id": "RVtqmC1sIwBM",
        "outputId": "2539fb19-1cf6-44dc-e83a-f9e167a8332c",
        "colab": {
          "base_uri": "https://localhost:8080/"
        }
      },
      "source": [
        "df.loc[dates[0],'A']"
      ],
      "execution_count": 55,
      "outputs": [
        {
          "output_type": "execute_result",
          "data": {
            "text/plain": [
              "0.6820324363584261"
            ]
          },
          "metadata": {
            "tags": []
          },
          "execution_count": 55
        }
      ]
    },
    {
      "cell_type": "markdown",
      "metadata": {
        "id": "VbHPaugLI_zo"
      },
      "source": [
        "스칼라 값을 더 빠르게 구하는 방법이다."
      ]
    },
    {
      "cell_type": "code",
      "metadata": {
        "id": "oydegNVGJB3g",
        "outputId": "fd9311f8-d93c-41ee-939e-e9a75fdb0450",
        "colab": {
          "base_uri": "https://localhost:8080/"
        }
      },
      "source": [
        "df.at[dates[0],'A']"
      ],
      "execution_count": 56,
      "outputs": [
        {
          "output_type": "execute_result",
          "data": {
            "text/plain": [
              "0.6820324363584261"
            ]
          },
          "metadata": {
            "tags": []
          },
          "execution_count": 56
        }
      ]
    },
    {
      "cell_type": "markdown",
      "metadata": {
        "id": "4zqCJLmkJFBw"
      },
      "source": [
        "### 3-3) 위치로 선택하기 (Selection by Position)"
      ]
    },
    {
      "cell_type": "markdown",
      "metadata": {
        "id": "o3KPEkmLJLdo"
      },
      "source": [
        "[위치로 선택하기 (Indexing and selecting data)](https://pandas.pydata.org/pandas-docs/stable/user_guide/indexing.html)  \n",
        "넘겨받은 정수의 위치를 기준으로 선택한다."
      ]
    },
    {
      "cell_type": "code",
      "metadata": {
        "id": "qIiTMLarJUog",
        "outputId": "88a21b46-09fb-40c3-f63a-d8f5a698a3e9",
        "colab": {
          "base_uri": "https://localhost:8080/"
        }
      },
      "source": [
        "df.iloc[3] # 2013-01-04 데이터"
      ],
      "execution_count": 57,
      "outputs": [
        {
          "output_type": "execute_result",
          "data": {
            "text/plain": [
              "A    0.509850\n",
              "B    0.801045\n",
              "C    0.015410\n",
              "D   -0.671559\n",
              "Name: 2013-01-04 00:00:00, dtype: float64"
            ]
          },
          "metadata": {
            "tags": []
          },
          "execution_count": 57
        }
      ]
    },
    {
      "cell_type": "markdown",
      "metadata": {
        "id": "JXxnB9xBJkHw"
      },
      "source": [
        "정수로 표기된 슬라이스들을 통해, numpy / python과 유사하게 작동한다."
      ]
    },
    {
      "cell_type": "code",
      "metadata": {
        "id": "NfaA-ooPJlZA",
        "outputId": "d6a5a8d1-823d-4c43-d36f-084662636432",
        "colab": {
          "base_uri": "https://localhost:8080/",
          "height": 111
        }
      },
      "source": [
        "df.iloc[3:5,0:2] # 3:5 -> 3 이상 5 미만?"
      ],
      "execution_count": 67,
      "outputs": [
        {
          "output_type": "execute_result",
          "data": {
            "text/html": [
              "<div>\n",
              "<style scoped>\n",
              "    .dataframe tbody tr th:only-of-type {\n",
              "        vertical-align: middle;\n",
              "    }\n",
              "\n",
              "    .dataframe tbody tr th {\n",
              "        vertical-align: top;\n",
              "    }\n",
              "\n",
              "    .dataframe thead th {\n",
              "        text-align: right;\n",
              "    }\n",
              "</style>\n",
              "<table border=\"1\" class=\"dataframe\">\n",
              "  <thead>\n",
              "    <tr style=\"text-align: right;\">\n",
              "      <th></th>\n",
              "      <th>A</th>\n",
              "      <th>B</th>\n",
              "    </tr>\n",
              "  </thead>\n",
              "  <tbody>\n",
              "    <tr>\n",
              "      <th>2013-01-04</th>\n",
              "      <td>0.509850</td>\n",
              "      <td>0.801045</td>\n",
              "    </tr>\n",
              "    <tr>\n",
              "      <th>2013-01-05</th>\n",
              "      <td>1.403769</td>\n",
              "      <td>1.191673</td>\n",
              "    </tr>\n",
              "  </tbody>\n",
              "</table>\n",
              "</div>"
            ],
            "text/plain": [
              "                   A         B\n",
              "2013-01-04  0.509850  0.801045\n",
              "2013-01-05  1.403769  1.191673"
            ]
          },
          "metadata": {
            "tags": []
          },
          "execution_count": 67
        }
      ]
    },
    {
      "cell_type": "markdown",
      "metadata": {
        "id": "rQfM4yeZKFyn"
      },
      "source": [
        "정수로 표기된 위치값의 리스트들을 통해, numpy / python의 스타일과 유사해진다."
      ]
    },
    {
      "cell_type": "code",
      "metadata": {
        "id": "qXB5kJ-GKXcq",
        "outputId": "f7e0ec15-574f-4d7e-eb77-11c68d016232",
        "colab": {
          "base_uri": "https://localhost:8080/",
          "height": 142
        }
      },
      "source": [
        "df.iloc[[1,2,4],[0,2]]"
      ],
      "execution_count": 65,
      "outputs": [
        {
          "output_type": "execute_result",
          "data": {
            "text/html": [
              "<div>\n",
              "<style scoped>\n",
              "    .dataframe tbody tr th:only-of-type {\n",
              "        vertical-align: middle;\n",
              "    }\n",
              "\n",
              "    .dataframe tbody tr th {\n",
              "        vertical-align: top;\n",
              "    }\n",
              "\n",
              "    .dataframe thead th {\n",
              "        text-align: right;\n",
              "    }\n",
              "</style>\n",
              "<table border=\"1\" class=\"dataframe\">\n",
              "  <thead>\n",
              "    <tr style=\"text-align: right;\">\n",
              "      <th></th>\n",
              "      <th>A</th>\n",
              "      <th>C</th>\n",
              "    </tr>\n",
              "  </thead>\n",
              "  <tbody>\n",
              "    <tr>\n",
              "      <th>2013-01-02</th>\n",
              "      <td>0.120775</td>\n",
              "      <td>-2.020728</td>\n",
              "    </tr>\n",
              "    <tr>\n",
              "      <th>2013-01-03</th>\n",
              "      <td>-0.575200</td>\n",
              "      <td>-0.154726</td>\n",
              "    </tr>\n",
              "    <tr>\n",
              "      <th>2013-01-05</th>\n",
              "      <td>1.403769</td>\n",
              "      <td>-1.332947</td>\n",
              "    </tr>\n",
              "  </tbody>\n",
              "</table>\n",
              "</div>"
            ],
            "text/plain": [
              "                   A         C\n",
              "2013-01-02  0.120775 -2.020728\n",
              "2013-01-03 -0.575200 -0.154726\n",
              "2013-01-05  1.403769 -1.332947"
            ]
          },
          "metadata": {
            "tags": []
          },
          "execution_count": 65
        }
      ]
    },
    {
      "cell_type": "markdown",
      "metadata": {
        "id": "D38udyuRKuxp"
      },
      "source": [
        "명시적으로 행을 나누고자 하는 경우이다."
      ]
    },
    {
      "cell_type": "code",
      "metadata": {
        "id": "jKe5EzTYKwB4",
        "outputId": "5be6a871-a6da-4818-d8ac-a9f7d59e5334",
        "colab": {
          "base_uri": "https://localhost:8080/",
          "height": 111
        }
      },
      "source": [
        "df.iloc[1:3,:]"
      ],
      "execution_count": 68,
      "outputs": [
        {
          "output_type": "execute_result",
          "data": {
            "text/html": [
              "<div>\n",
              "<style scoped>\n",
              "    .dataframe tbody tr th:only-of-type {\n",
              "        vertical-align: middle;\n",
              "    }\n",
              "\n",
              "    .dataframe tbody tr th {\n",
              "        vertical-align: top;\n",
              "    }\n",
              "\n",
              "    .dataframe thead th {\n",
              "        text-align: right;\n",
              "    }\n",
              "</style>\n",
              "<table border=\"1\" class=\"dataframe\">\n",
              "  <thead>\n",
              "    <tr style=\"text-align: right;\">\n",
              "      <th></th>\n",
              "      <th>A</th>\n",
              "      <th>B</th>\n",
              "      <th>C</th>\n",
              "      <th>D</th>\n",
              "    </tr>\n",
              "  </thead>\n",
              "  <tbody>\n",
              "    <tr>\n",
              "      <th>2013-01-02</th>\n",
              "      <td>0.120775</td>\n",
              "      <td>-0.572338</td>\n",
              "      <td>-2.020728</td>\n",
              "      <td>-0.542485</td>\n",
              "    </tr>\n",
              "    <tr>\n",
              "      <th>2013-01-03</th>\n",
              "      <td>-0.575200</td>\n",
              "      <td>-0.442130</td>\n",
              "      <td>-0.154726</td>\n",
              "      <td>-1.433836</td>\n",
              "    </tr>\n",
              "  </tbody>\n",
              "</table>\n",
              "</div>"
            ],
            "text/plain": [
              "                   A         B         C         D\n",
              "2013-01-02  0.120775 -0.572338 -2.020728 -0.542485\n",
              "2013-01-03 -0.575200 -0.442130 -0.154726 -1.433836"
            ]
          },
          "metadata": {
            "tags": []
          },
          "execution_count": 68
        }
      ]
    },
    {
      "cell_type": "markdown",
      "metadata": {
        "id": "Kl1TFHUMK1bp"
      },
      "source": [
        "명시적으로 열을 나누고자 하는 경우이다."
      ]
    },
    {
      "cell_type": "code",
      "metadata": {
        "id": "yU0Rk0OAK2mw",
        "outputId": "65be391f-adda-4530-c4c3-81114f6958f3",
        "colab": {
          "base_uri": "https://localhost:8080/",
          "height": 235
        }
      },
      "source": [
        "df.iloc[:,1:3]"
      ],
      "execution_count": 69,
      "outputs": [
        {
          "output_type": "execute_result",
          "data": {
            "text/html": [
              "<div>\n",
              "<style scoped>\n",
              "    .dataframe tbody tr th:only-of-type {\n",
              "        vertical-align: middle;\n",
              "    }\n",
              "\n",
              "    .dataframe tbody tr th {\n",
              "        vertical-align: top;\n",
              "    }\n",
              "\n",
              "    .dataframe thead th {\n",
              "        text-align: right;\n",
              "    }\n",
              "</style>\n",
              "<table border=\"1\" class=\"dataframe\">\n",
              "  <thead>\n",
              "    <tr style=\"text-align: right;\">\n",
              "      <th></th>\n",
              "      <th>B</th>\n",
              "      <th>C</th>\n",
              "    </tr>\n",
              "  </thead>\n",
              "  <tbody>\n",
              "    <tr>\n",
              "      <th>2013-01-01</th>\n",
              "      <td>-1.905166</td>\n",
              "      <td>-0.545421</td>\n",
              "    </tr>\n",
              "    <tr>\n",
              "      <th>2013-01-02</th>\n",
              "      <td>-0.572338</td>\n",
              "      <td>-2.020728</td>\n",
              "    </tr>\n",
              "    <tr>\n",
              "      <th>2013-01-03</th>\n",
              "      <td>-0.442130</td>\n",
              "      <td>-0.154726</td>\n",
              "    </tr>\n",
              "    <tr>\n",
              "      <th>2013-01-04</th>\n",
              "      <td>0.801045</td>\n",
              "      <td>0.015410</td>\n",
              "    </tr>\n",
              "    <tr>\n",
              "      <th>2013-01-05</th>\n",
              "      <td>1.191673</td>\n",
              "      <td>-1.332947</td>\n",
              "    </tr>\n",
              "    <tr>\n",
              "      <th>2013-01-06</th>\n",
              "      <td>1.283820</td>\n",
              "      <td>0.421918</td>\n",
              "    </tr>\n",
              "  </tbody>\n",
              "</table>\n",
              "</div>"
            ],
            "text/plain": [
              "                   B         C\n",
              "2013-01-01 -1.905166 -0.545421\n",
              "2013-01-02 -0.572338 -2.020728\n",
              "2013-01-03 -0.442130 -0.154726\n",
              "2013-01-04  0.801045  0.015410\n",
              "2013-01-05  1.191673 -1.332947\n",
              "2013-01-06  1.283820  0.421918"
            ]
          },
          "metadata": {
            "tags": []
          },
          "execution_count": 69
        }
      ]
    },
    {
      "cell_type": "markdown",
      "metadata": {
        "id": "f0wbRgpjK_l4"
      },
      "source": [
        "명시적으로 (특정한) 값을 얻고자 하는 경우이다."
      ]
    },
    {
      "cell_type": "code",
      "metadata": {
        "id": "IPcBznP0LA8A",
        "outputId": "a6bc7796-24fb-4353-cc31-27cddc82441c",
        "colab": {
          "base_uri": "https://localhost:8080/"
        }
      },
      "source": [
        "df.iloc[1,1] # 2013-01-02의 B 데이터"
      ],
      "execution_count": 70,
      "outputs": [
        {
          "output_type": "execute_result",
          "data": {
            "text/plain": [
              "-0.5723377908969021"
            ]
          },
          "metadata": {
            "tags": []
          },
          "execution_count": 70
        }
      ]
    },
    {
      "cell_type": "markdown",
      "metadata": {
        "id": "BKPQSV3CLJoY"
      },
      "source": [
        "스칼라 값을 빠르게 얻는 방법이다."
      ]
    },
    {
      "cell_type": "code",
      "metadata": {
        "id": "ggK8AYZDLLmI",
        "outputId": "1e16a9e6-8e0b-4cb5-c60c-ff24b718b378",
        "colab": {
          "base_uri": "https://localhost:8080/"
        }
      },
      "source": [
        "df.iat[1,1]"
      ],
      "execution_count": 71,
      "outputs": [
        {
          "output_type": "execute_result",
          "data": {
            "text/plain": [
              "-0.5723377908969021"
            ]
          },
          "metadata": {
            "tags": []
          },
          "execution_count": 71
        }
      ]
    },
    {
      "cell_type": "markdown",
      "metadata": {
        "id": "O6nl8FvELQaO"
      },
      "source": [
        "### 3-4) Boolean Indexing"
      ]
    },
    {
      "cell_type": "markdown",
      "metadata": {
        "id": "1C8l5I0hLUnY"
      },
      "source": [
        "데이터를 선택하기 위해 단일 열의 값을 사용한다."
      ]
    },
    {
      "cell_type": "code",
      "metadata": {
        "id": "y4qsbkP9LXBh",
        "outputId": "06701fd4-0d33-43c9-e15c-14888eb21b1f",
        "colab": {
          "base_uri": "https://localhost:8080/",
          "height": 204
        }
      },
      "source": [
        "df[df.A > 0] # A값 음수인 2013-01-03 데이터 빠진다."
      ],
      "execution_count": 72,
      "outputs": [
        {
          "output_type": "execute_result",
          "data": {
            "text/html": [
              "<div>\n",
              "<style scoped>\n",
              "    .dataframe tbody tr th:only-of-type {\n",
              "        vertical-align: middle;\n",
              "    }\n",
              "\n",
              "    .dataframe tbody tr th {\n",
              "        vertical-align: top;\n",
              "    }\n",
              "\n",
              "    .dataframe thead th {\n",
              "        text-align: right;\n",
              "    }\n",
              "</style>\n",
              "<table border=\"1\" class=\"dataframe\">\n",
              "  <thead>\n",
              "    <tr style=\"text-align: right;\">\n",
              "      <th></th>\n",
              "      <th>A</th>\n",
              "      <th>B</th>\n",
              "      <th>C</th>\n",
              "      <th>D</th>\n",
              "    </tr>\n",
              "  </thead>\n",
              "  <tbody>\n",
              "    <tr>\n",
              "      <th>2013-01-01</th>\n",
              "      <td>0.682032</td>\n",
              "      <td>-1.905166</td>\n",
              "      <td>-0.545421</td>\n",
              "      <td>0.238074</td>\n",
              "    </tr>\n",
              "    <tr>\n",
              "      <th>2013-01-02</th>\n",
              "      <td>0.120775</td>\n",
              "      <td>-0.572338</td>\n",
              "      <td>-2.020728</td>\n",
              "      <td>-0.542485</td>\n",
              "    </tr>\n",
              "    <tr>\n",
              "      <th>2013-01-04</th>\n",
              "      <td>0.509850</td>\n",
              "      <td>0.801045</td>\n",
              "      <td>0.015410</td>\n",
              "      <td>-0.671559</td>\n",
              "    </tr>\n",
              "    <tr>\n",
              "      <th>2013-01-05</th>\n",
              "      <td>1.403769</td>\n",
              "      <td>1.191673</td>\n",
              "      <td>-1.332947</td>\n",
              "      <td>0.663252</td>\n",
              "    </tr>\n",
              "    <tr>\n",
              "      <th>2013-01-06</th>\n",
              "      <td>0.825406</td>\n",
              "      <td>1.283820</td>\n",
              "      <td>0.421918</td>\n",
              "      <td>-0.115307</td>\n",
              "    </tr>\n",
              "  </tbody>\n",
              "</table>\n",
              "</div>"
            ],
            "text/plain": [
              "                   A         B         C         D\n",
              "2013-01-01  0.682032 -1.905166 -0.545421  0.238074\n",
              "2013-01-02  0.120775 -0.572338 -2.020728 -0.542485\n",
              "2013-01-04  0.509850  0.801045  0.015410 -0.671559\n",
              "2013-01-05  1.403769  1.191673 -1.332947  0.663252\n",
              "2013-01-06  0.825406  1.283820  0.421918 -0.115307"
            ]
          },
          "metadata": {
            "tags": []
          },
          "execution_count": 72
        }
      ]
    },
    {
      "cell_type": "markdown",
      "metadata": {
        "id": "PUghwIRvLds7"
      },
      "source": [
        "Boolean 조건을 충족하는 데이터프레임에서 값을 선택한다."
      ]
    },
    {
      "cell_type": "code",
      "metadata": {
        "id": "ns2a-hQNLiUp",
        "outputId": "de8dd21c-442b-4df7-f6f1-4ffaac02d548",
        "colab": {
          "base_uri": "https://localhost:8080/",
          "height": 235
        }
      },
      "source": [
        "df[df > 0] # 음수는 NaN 처리된다."
      ],
      "execution_count": 73,
      "outputs": [
        {
          "output_type": "execute_result",
          "data": {
            "text/html": [
              "<div>\n",
              "<style scoped>\n",
              "    .dataframe tbody tr th:only-of-type {\n",
              "        vertical-align: middle;\n",
              "    }\n",
              "\n",
              "    .dataframe tbody tr th {\n",
              "        vertical-align: top;\n",
              "    }\n",
              "\n",
              "    .dataframe thead th {\n",
              "        text-align: right;\n",
              "    }\n",
              "</style>\n",
              "<table border=\"1\" class=\"dataframe\">\n",
              "  <thead>\n",
              "    <tr style=\"text-align: right;\">\n",
              "      <th></th>\n",
              "      <th>A</th>\n",
              "      <th>B</th>\n",
              "      <th>C</th>\n",
              "      <th>D</th>\n",
              "    </tr>\n",
              "  </thead>\n",
              "  <tbody>\n",
              "    <tr>\n",
              "      <th>2013-01-01</th>\n",
              "      <td>0.682032</td>\n",
              "      <td>NaN</td>\n",
              "      <td>NaN</td>\n",
              "      <td>0.238074</td>\n",
              "    </tr>\n",
              "    <tr>\n",
              "      <th>2013-01-02</th>\n",
              "      <td>0.120775</td>\n",
              "      <td>NaN</td>\n",
              "      <td>NaN</td>\n",
              "      <td>NaN</td>\n",
              "    </tr>\n",
              "    <tr>\n",
              "      <th>2013-01-03</th>\n",
              "      <td>NaN</td>\n",
              "      <td>NaN</td>\n",
              "      <td>NaN</td>\n",
              "      <td>NaN</td>\n",
              "    </tr>\n",
              "    <tr>\n",
              "      <th>2013-01-04</th>\n",
              "      <td>0.509850</td>\n",
              "      <td>0.801045</td>\n",
              "      <td>0.015410</td>\n",
              "      <td>NaN</td>\n",
              "    </tr>\n",
              "    <tr>\n",
              "      <th>2013-01-05</th>\n",
              "      <td>1.403769</td>\n",
              "      <td>1.191673</td>\n",
              "      <td>NaN</td>\n",
              "      <td>0.663252</td>\n",
              "    </tr>\n",
              "    <tr>\n",
              "      <th>2013-01-06</th>\n",
              "      <td>0.825406</td>\n",
              "      <td>1.283820</td>\n",
              "      <td>0.421918</td>\n",
              "      <td>NaN</td>\n",
              "    </tr>\n",
              "  </tbody>\n",
              "</table>\n",
              "</div>"
            ],
            "text/plain": [
              "                   A         B         C         D\n",
              "2013-01-01  0.682032       NaN       NaN  0.238074\n",
              "2013-01-02  0.120775       NaN       NaN       NaN\n",
              "2013-01-03       NaN       NaN       NaN       NaN\n",
              "2013-01-04  0.509850  0.801045  0.015410       NaN\n",
              "2013-01-05  1.403769  1.191673       NaN  0.663252\n",
              "2013-01-06  0.825406  1.283820  0.421918       NaN"
            ]
          },
          "metadata": {
            "tags": []
          },
          "execution_count": 73
        }
      ]
    },
    {
      "cell_type": "markdown",
      "metadata": {
        "id": "H7TIp5drL3Oh"
      },
      "source": [
        "필터링을 위한 메소드 [isin()](https://pandas.pydata.org/pandas-docs/stable/reference/api/pandas.Series.isin.html)을 사용한다."
      ]
    },
    {
      "cell_type": "code",
      "metadata": {
        "id": "54j5eJzrL_h4",
        "outputId": "5aab7252-0b6f-4987-9f1d-62ab1da4170f",
        "colab": {
          "base_uri": "https://localhost:8080/",
          "height": 235
        }
      },
      "source": [
        "df2 = df.copy()\n",
        "df2['E'] = ['one', 'one', 'two', 'three', 'four', 'three']\n",
        "df2"
      ],
      "execution_count": 74,
      "outputs": [
        {
          "output_type": "execute_result",
          "data": {
            "text/html": [
              "<div>\n",
              "<style scoped>\n",
              "    .dataframe tbody tr th:only-of-type {\n",
              "        vertical-align: middle;\n",
              "    }\n",
              "\n",
              "    .dataframe tbody tr th {\n",
              "        vertical-align: top;\n",
              "    }\n",
              "\n",
              "    .dataframe thead th {\n",
              "        text-align: right;\n",
              "    }\n",
              "</style>\n",
              "<table border=\"1\" class=\"dataframe\">\n",
              "  <thead>\n",
              "    <tr style=\"text-align: right;\">\n",
              "      <th></th>\n",
              "      <th>A</th>\n",
              "      <th>B</th>\n",
              "      <th>C</th>\n",
              "      <th>D</th>\n",
              "      <th>E</th>\n",
              "    </tr>\n",
              "  </thead>\n",
              "  <tbody>\n",
              "    <tr>\n",
              "      <th>2013-01-01</th>\n",
              "      <td>0.682032</td>\n",
              "      <td>-1.905166</td>\n",
              "      <td>-0.545421</td>\n",
              "      <td>0.238074</td>\n",
              "      <td>one</td>\n",
              "    </tr>\n",
              "    <tr>\n",
              "      <th>2013-01-02</th>\n",
              "      <td>0.120775</td>\n",
              "      <td>-0.572338</td>\n",
              "      <td>-2.020728</td>\n",
              "      <td>-0.542485</td>\n",
              "      <td>one</td>\n",
              "    </tr>\n",
              "    <tr>\n",
              "      <th>2013-01-03</th>\n",
              "      <td>-0.575200</td>\n",
              "      <td>-0.442130</td>\n",
              "      <td>-0.154726</td>\n",
              "      <td>-1.433836</td>\n",
              "      <td>two</td>\n",
              "    </tr>\n",
              "    <tr>\n",
              "      <th>2013-01-04</th>\n",
              "      <td>0.509850</td>\n",
              "      <td>0.801045</td>\n",
              "      <td>0.015410</td>\n",
              "      <td>-0.671559</td>\n",
              "      <td>three</td>\n",
              "    </tr>\n",
              "    <tr>\n",
              "      <th>2013-01-05</th>\n",
              "      <td>1.403769</td>\n",
              "      <td>1.191673</td>\n",
              "      <td>-1.332947</td>\n",
              "      <td>0.663252</td>\n",
              "      <td>four</td>\n",
              "    </tr>\n",
              "    <tr>\n",
              "      <th>2013-01-06</th>\n",
              "      <td>0.825406</td>\n",
              "      <td>1.283820</td>\n",
              "      <td>0.421918</td>\n",
              "      <td>-0.115307</td>\n",
              "      <td>three</td>\n",
              "    </tr>\n",
              "  </tbody>\n",
              "</table>\n",
              "</div>"
            ],
            "text/plain": [
              "                   A         B         C         D      E\n",
              "2013-01-01  0.682032 -1.905166 -0.545421  0.238074    one\n",
              "2013-01-02  0.120775 -0.572338 -2.020728 -0.542485    one\n",
              "2013-01-03 -0.575200 -0.442130 -0.154726 -1.433836    two\n",
              "2013-01-04  0.509850  0.801045  0.015410 -0.671559  three\n",
              "2013-01-05  1.403769  1.191673 -1.332947  0.663252   four\n",
              "2013-01-06  0.825406  1.283820  0.421918 -0.115307  three"
            ]
          },
          "metadata": {
            "tags": []
          },
          "execution_count": 74
        }
      ]
    },
    {
      "cell_type": "code",
      "metadata": {
        "id": "DtWRFlFRMEoA",
        "outputId": "384166a2-c9bf-4e49-8231-4274f507b450",
        "colab": {
          "base_uri": "https://localhost:8080/",
          "height": 111
        }
      },
      "source": [
        "df2[df2['E'].isin(['two','four'])]"
      ],
      "execution_count": 75,
      "outputs": [
        {
          "output_type": "execute_result",
          "data": {
            "text/html": [
              "<div>\n",
              "<style scoped>\n",
              "    .dataframe tbody tr th:only-of-type {\n",
              "        vertical-align: middle;\n",
              "    }\n",
              "\n",
              "    .dataframe tbody tr th {\n",
              "        vertical-align: top;\n",
              "    }\n",
              "\n",
              "    .dataframe thead th {\n",
              "        text-align: right;\n",
              "    }\n",
              "</style>\n",
              "<table border=\"1\" class=\"dataframe\">\n",
              "  <thead>\n",
              "    <tr style=\"text-align: right;\">\n",
              "      <th></th>\n",
              "      <th>A</th>\n",
              "      <th>B</th>\n",
              "      <th>C</th>\n",
              "      <th>D</th>\n",
              "      <th>E</th>\n",
              "    </tr>\n",
              "  </thead>\n",
              "  <tbody>\n",
              "    <tr>\n",
              "      <th>2013-01-03</th>\n",
              "      <td>-0.575200</td>\n",
              "      <td>-0.442130</td>\n",
              "      <td>-0.154726</td>\n",
              "      <td>-1.433836</td>\n",
              "      <td>two</td>\n",
              "    </tr>\n",
              "    <tr>\n",
              "      <th>2013-01-05</th>\n",
              "      <td>1.403769</td>\n",
              "      <td>1.191673</td>\n",
              "      <td>-1.332947</td>\n",
              "      <td>0.663252</td>\n",
              "      <td>four</td>\n",
              "    </tr>\n",
              "  </tbody>\n",
              "</table>\n",
              "</div>"
            ],
            "text/plain": [
              "                   A         B         C         D     E\n",
              "2013-01-03 -0.575200 -0.442130 -0.154726 -1.433836   two\n",
              "2013-01-05  1.403769  1.191673 -1.332947  0.663252  four"
            ]
          },
          "metadata": {
            "tags": []
          },
          "execution_count": 75
        }
      ]
    },
    {
      "cell_type": "markdown",
      "metadata": {
        "id": "UGB1uy0ZMH2i"
      },
      "source": [
        "### 3-5) 설정 (Setting)"
      ]
    },
    {
      "cell_type": "markdown",
      "metadata": {
        "id": "MEwkbJQPMMYJ"
      },
      "source": [
        "새 열을 설정하면 데이터가 인덱스 별로 자동 정렬된다."
      ]
    },
    {
      "cell_type": "code",
      "metadata": {
        "id": "RzIXNm1HMNkb",
        "outputId": "4b364c06-d645-474d-d9e7-05e7a0d29e2f",
        "colab": {
          "base_uri": "https://localhost:8080/"
        }
      },
      "source": [
        "s1 = pd.Series([1,2,3,4,5,6], index=pd.date_range('20130102', periods=6))\n",
        "s1"
      ],
      "execution_count": 76,
      "outputs": [
        {
          "output_type": "execute_result",
          "data": {
            "text/plain": [
              "2013-01-02    1\n",
              "2013-01-03    2\n",
              "2013-01-04    3\n",
              "2013-01-05    4\n",
              "2013-01-06    5\n",
              "2013-01-07    6\n",
              "Freq: D, dtype: int64"
            ]
          },
          "metadata": {
            "tags": []
          },
          "execution_count": 76
        }
      ]
    },
    {
      "cell_type": "code",
      "metadata": {
        "id": "GeeKZaPFNE3g",
        "outputId": "75d4fc8c-2e11-44da-ee7b-fa0af8a4cec0",
        "colab": {
          "base_uri": "https://localhost:8080/",
          "height": 235
        }
      },
      "source": [
        "df['F'] = s1\n",
        "\n",
        "# 라벨에 의해 값을 설정한다.\n",
        "df.at[dates[0],'A'] = 0\n",
        "\n",
        "# 위치에 의해 값을 설정한다.\n",
        "df.iat[0,1] = 0\n",
        "\n",
        "# Numpy 배열을 사용한 할당에 의해 값을 설정한다.\n",
        "df.loc[:,'D'] = np.array([5] * len(df))\n",
        "\n",
        "df"
      ],
      "execution_count": 79,
      "outputs": [
        {
          "output_type": "execute_result",
          "data": {
            "text/html": [
              "<div>\n",
              "<style scoped>\n",
              "    .dataframe tbody tr th:only-of-type {\n",
              "        vertical-align: middle;\n",
              "    }\n",
              "\n",
              "    .dataframe tbody tr th {\n",
              "        vertical-align: top;\n",
              "    }\n",
              "\n",
              "    .dataframe thead th {\n",
              "        text-align: right;\n",
              "    }\n",
              "</style>\n",
              "<table border=\"1\" class=\"dataframe\">\n",
              "  <thead>\n",
              "    <tr style=\"text-align: right;\">\n",
              "      <th></th>\n",
              "      <th>A</th>\n",
              "      <th>B</th>\n",
              "      <th>C</th>\n",
              "      <th>D</th>\n",
              "      <th>F</th>\n",
              "    </tr>\n",
              "  </thead>\n",
              "  <tbody>\n",
              "    <tr>\n",
              "      <th>2013-01-01</th>\n",
              "      <td>0.000000</td>\n",
              "      <td>0.000000</td>\n",
              "      <td>-0.545421</td>\n",
              "      <td>5</td>\n",
              "      <td>NaN</td>\n",
              "    </tr>\n",
              "    <tr>\n",
              "      <th>2013-01-02</th>\n",
              "      <td>0.120775</td>\n",
              "      <td>-0.572338</td>\n",
              "      <td>-2.020728</td>\n",
              "      <td>5</td>\n",
              "      <td>1.0</td>\n",
              "    </tr>\n",
              "    <tr>\n",
              "      <th>2013-01-03</th>\n",
              "      <td>-0.575200</td>\n",
              "      <td>-0.442130</td>\n",
              "      <td>-0.154726</td>\n",
              "      <td>5</td>\n",
              "      <td>2.0</td>\n",
              "    </tr>\n",
              "    <tr>\n",
              "      <th>2013-01-04</th>\n",
              "      <td>0.509850</td>\n",
              "      <td>0.801045</td>\n",
              "      <td>0.015410</td>\n",
              "      <td>5</td>\n",
              "      <td>3.0</td>\n",
              "    </tr>\n",
              "    <tr>\n",
              "      <th>2013-01-05</th>\n",
              "      <td>1.403769</td>\n",
              "      <td>1.191673</td>\n",
              "      <td>-1.332947</td>\n",
              "      <td>5</td>\n",
              "      <td>4.0</td>\n",
              "    </tr>\n",
              "    <tr>\n",
              "      <th>2013-01-06</th>\n",
              "      <td>0.825406</td>\n",
              "      <td>1.283820</td>\n",
              "      <td>0.421918</td>\n",
              "      <td>5</td>\n",
              "      <td>5.0</td>\n",
              "    </tr>\n",
              "  </tbody>\n",
              "</table>\n",
              "</div>"
            ],
            "text/plain": [
              "                   A         B         C  D    F\n",
              "2013-01-01  0.000000  0.000000 -0.545421  5  NaN\n",
              "2013-01-02  0.120775 -0.572338 -2.020728  5  1.0\n",
              "2013-01-03 -0.575200 -0.442130 -0.154726  5  2.0\n",
              "2013-01-04  0.509850  0.801045  0.015410  5  3.0\n",
              "2013-01-05  1.403769  1.191673 -1.332947  5  4.0\n",
              "2013-01-06  0.825406  1.283820  0.421918  5  5.0"
            ]
          },
          "metadata": {
            "tags": []
          },
          "execution_count": 79
        }
      ]
    },
    {
      "cell_type": "markdown",
      "metadata": {
        "id": "axklkJriNe1y"
      },
      "source": [
        "where 연산을 설정한다."
      ]
    },
    {
      "cell_type": "code",
      "metadata": {
        "id": "wxI7Iq3uNgXQ",
        "outputId": "f442fd4c-3455-4d88-b125-88e2eace0fb3",
        "colab": {
          "base_uri": "https://localhost:8080/",
          "height": 235
        }
      },
      "source": [
        "df2 = df.copy()\n",
        "df2[df2 > 0] = -df2\n",
        "df2"
      ],
      "execution_count": 80,
      "outputs": [
        {
          "output_type": "execute_result",
          "data": {
            "text/html": [
              "<div>\n",
              "<style scoped>\n",
              "    .dataframe tbody tr th:only-of-type {\n",
              "        vertical-align: middle;\n",
              "    }\n",
              "\n",
              "    .dataframe tbody tr th {\n",
              "        vertical-align: top;\n",
              "    }\n",
              "\n",
              "    .dataframe thead th {\n",
              "        text-align: right;\n",
              "    }\n",
              "</style>\n",
              "<table border=\"1\" class=\"dataframe\">\n",
              "  <thead>\n",
              "    <tr style=\"text-align: right;\">\n",
              "      <th></th>\n",
              "      <th>A</th>\n",
              "      <th>B</th>\n",
              "      <th>C</th>\n",
              "      <th>D</th>\n",
              "      <th>F</th>\n",
              "    </tr>\n",
              "  </thead>\n",
              "  <tbody>\n",
              "    <tr>\n",
              "      <th>2013-01-01</th>\n",
              "      <td>0.000000</td>\n",
              "      <td>0.000000</td>\n",
              "      <td>-0.545421</td>\n",
              "      <td>-5</td>\n",
              "      <td>NaN</td>\n",
              "    </tr>\n",
              "    <tr>\n",
              "      <th>2013-01-02</th>\n",
              "      <td>-0.120775</td>\n",
              "      <td>-0.572338</td>\n",
              "      <td>-2.020728</td>\n",
              "      <td>-5</td>\n",
              "      <td>-1.0</td>\n",
              "    </tr>\n",
              "    <tr>\n",
              "      <th>2013-01-03</th>\n",
              "      <td>-0.575200</td>\n",
              "      <td>-0.442130</td>\n",
              "      <td>-0.154726</td>\n",
              "      <td>-5</td>\n",
              "      <td>-2.0</td>\n",
              "    </tr>\n",
              "    <tr>\n",
              "      <th>2013-01-04</th>\n",
              "      <td>-0.509850</td>\n",
              "      <td>-0.801045</td>\n",
              "      <td>-0.015410</td>\n",
              "      <td>-5</td>\n",
              "      <td>-3.0</td>\n",
              "    </tr>\n",
              "    <tr>\n",
              "      <th>2013-01-05</th>\n",
              "      <td>-1.403769</td>\n",
              "      <td>-1.191673</td>\n",
              "      <td>-1.332947</td>\n",
              "      <td>-5</td>\n",
              "      <td>-4.0</td>\n",
              "    </tr>\n",
              "    <tr>\n",
              "      <th>2013-01-06</th>\n",
              "      <td>-0.825406</td>\n",
              "      <td>-1.283820</td>\n",
              "      <td>-0.421918</td>\n",
              "      <td>-5</td>\n",
              "      <td>-5.0</td>\n",
              "    </tr>\n",
              "  </tbody>\n",
              "</table>\n",
              "</div>"
            ],
            "text/plain": [
              "                   A         B         C  D    F\n",
              "2013-01-01  0.000000  0.000000 -0.545421 -5  NaN\n",
              "2013-01-02 -0.120775 -0.572338 -2.020728 -5 -1.0\n",
              "2013-01-03 -0.575200 -0.442130 -0.154726 -5 -2.0\n",
              "2013-01-04 -0.509850 -0.801045 -0.015410 -5 -3.0\n",
              "2013-01-05 -1.403769 -1.191673 -1.332947 -5 -4.0\n",
              "2013-01-06 -0.825406 -1.283820 -0.421918 -5 -5.0"
            ]
          },
          "metadata": {
            "tags": []
          },
          "execution_count": 80
        }
      ]
    },
    {
      "cell_type": "markdown",
      "metadata": {
        "id": "E2_mz3d-NiOJ"
      },
      "source": [
        "## 4) 결측치 (Missing Data)"
      ]
    },
    {
      "cell_type": "markdown",
      "metadata": {
        "id": "avn-oA0AmqZo"
      },
      "source": [
        "[Missing data section (Working with missing data)](https://pandas.pydata.org/pandas-docs/stable/user_guide/missing_data.html)  \n",
        "Pandas는 결측치를 표현하기 위해 주로 np.nan 값을 사용한다.  \n",
        "Reindexing으로 지정된 축 상의 인덱스를 변경/추가/삭제할 수 있다.  \n",
        "Reindexing은 데이터의 복사본을 반환한다."
      ]
    },
    {
      "cell_type": "code",
      "metadata": {
        "id": "1kZESTr-nCJy",
        "outputId": "1550b281-9569-4ec3-d3eb-4ee9616c337c",
        "colab": {
          "base_uri": "https://localhost:8080/",
          "height": 173
        }
      },
      "source": [
        "df1 = df.reindex(index=dates[0:4], columns=list(df.columns) + ['E'])\n",
        "df1.loc[dates[0]:dates[1],'E'] = 1\n",
        "df1"
      ],
      "execution_count": 81,
      "outputs": [
        {
          "output_type": "execute_result",
          "data": {
            "text/html": [
              "<div>\n",
              "<style scoped>\n",
              "    .dataframe tbody tr th:only-of-type {\n",
              "        vertical-align: middle;\n",
              "    }\n",
              "\n",
              "    .dataframe tbody tr th {\n",
              "        vertical-align: top;\n",
              "    }\n",
              "\n",
              "    .dataframe thead th {\n",
              "        text-align: right;\n",
              "    }\n",
              "</style>\n",
              "<table border=\"1\" class=\"dataframe\">\n",
              "  <thead>\n",
              "    <tr style=\"text-align: right;\">\n",
              "      <th></th>\n",
              "      <th>A</th>\n",
              "      <th>B</th>\n",
              "      <th>C</th>\n",
              "      <th>D</th>\n",
              "      <th>F</th>\n",
              "      <th>E</th>\n",
              "    </tr>\n",
              "  </thead>\n",
              "  <tbody>\n",
              "    <tr>\n",
              "      <th>2013-01-01</th>\n",
              "      <td>0.000000</td>\n",
              "      <td>0.000000</td>\n",
              "      <td>-0.545421</td>\n",
              "      <td>5</td>\n",
              "      <td>NaN</td>\n",
              "      <td>1.0</td>\n",
              "    </tr>\n",
              "    <tr>\n",
              "      <th>2013-01-02</th>\n",
              "      <td>0.120775</td>\n",
              "      <td>-0.572338</td>\n",
              "      <td>-2.020728</td>\n",
              "      <td>5</td>\n",
              "      <td>1.0</td>\n",
              "      <td>1.0</td>\n",
              "    </tr>\n",
              "    <tr>\n",
              "      <th>2013-01-03</th>\n",
              "      <td>-0.575200</td>\n",
              "      <td>-0.442130</td>\n",
              "      <td>-0.154726</td>\n",
              "      <td>5</td>\n",
              "      <td>2.0</td>\n",
              "      <td>NaN</td>\n",
              "    </tr>\n",
              "    <tr>\n",
              "      <th>2013-01-04</th>\n",
              "      <td>0.509850</td>\n",
              "      <td>0.801045</td>\n",
              "      <td>0.015410</td>\n",
              "      <td>5</td>\n",
              "      <td>3.0</td>\n",
              "      <td>NaN</td>\n",
              "    </tr>\n",
              "  </tbody>\n",
              "</table>\n",
              "</div>"
            ],
            "text/plain": [
              "                   A         B         C  D    F    E\n",
              "2013-01-01  0.000000  0.000000 -0.545421  5  NaN  1.0\n",
              "2013-01-02  0.120775 -0.572338 -2.020728  5  1.0  1.0\n",
              "2013-01-03 -0.575200 -0.442130 -0.154726  5  2.0  NaN\n",
              "2013-01-04  0.509850  0.801045  0.015410  5  3.0  NaN"
            ]
          },
          "metadata": {
            "tags": []
          },
          "execution_count": 81
        }
      ]
    },
    {
      "cell_type": "markdown",
      "metadata": {
        "id": "vsbPQeIhnIXh"
      },
      "source": [
        "결측치를 가지고 있는 행들을 지운다."
      ]
    },
    {
      "cell_type": "code",
      "metadata": {
        "id": "_XryRgHInJb-",
        "outputId": "021d62a3-273d-4be1-96e0-23ac2d71127f",
        "colab": {
          "base_uri": "https://localhost:8080/",
          "height": 80
        }
      },
      "source": [
        "df1.dropna(how='any')"
      ],
      "execution_count": 82,
      "outputs": [
        {
          "output_type": "execute_result",
          "data": {
            "text/html": [
              "<div>\n",
              "<style scoped>\n",
              "    .dataframe tbody tr th:only-of-type {\n",
              "        vertical-align: middle;\n",
              "    }\n",
              "\n",
              "    .dataframe tbody tr th {\n",
              "        vertical-align: top;\n",
              "    }\n",
              "\n",
              "    .dataframe thead th {\n",
              "        text-align: right;\n",
              "    }\n",
              "</style>\n",
              "<table border=\"1\" class=\"dataframe\">\n",
              "  <thead>\n",
              "    <tr style=\"text-align: right;\">\n",
              "      <th></th>\n",
              "      <th>A</th>\n",
              "      <th>B</th>\n",
              "      <th>C</th>\n",
              "      <th>D</th>\n",
              "      <th>F</th>\n",
              "      <th>E</th>\n",
              "    </tr>\n",
              "  </thead>\n",
              "  <tbody>\n",
              "    <tr>\n",
              "      <th>2013-01-02</th>\n",
              "      <td>0.120775</td>\n",
              "      <td>-0.572338</td>\n",
              "      <td>-2.020728</td>\n",
              "      <td>5</td>\n",
              "      <td>1.0</td>\n",
              "      <td>1.0</td>\n",
              "    </tr>\n",
              "  </tbody>\n",
              "</table>\n",
              "</div>"
            ],
            "text/plain": [
              "                   A         B         C  D    F    E\n",
              "2013-01-02  0.120775 -0.572338 -2.020728  5  1.0  1.0"
            ]
          },
          "metadata": {
            "tags": []
          },
          "execution_count": 82
        }
      ]
    },
    {
      "cell_type": "markdown",
      "metadata": {
        "id": "zvf8MNzwnMaO"
      },
      "source": [
        "결측치를 채워 넣는다."
      ]
    },
    {
      "cell_type": "code",
      "metadata": {
        "id": "0EZjse6GnQVu",
        "outputId": "a132f736-e0ce-4a67-cda4-2371e15219d0",
        "colab": {
          "base_uri": "https://localhost:8080/",
          "height": 173
        }
      },
      "source": [
        "df1.fillna(value=5)"
      ],
      "execution_count": 83,
      "outputs": [
        {
          "output_type": "execute_result",
          "data": {
            "text/html": [
              "<div>\n",
              "<style scoped>\n",
              "    .dataframe tbody tr th:only-of-type {\n",
              "        vertical-align: middle;\n",
              "    }\n",
              "\n",
              "    .dataframe tbody tr th {\n",
              "        vertical-align: top;\n",
              "    }\n",
              "\n",
              "    .dataframe thead th {\n",
              "        text-align: right;\n",
              "    }\n",
              "</style>\n",
              "<table border=\"1\" class=\"dataframe\">\n",
              "  <thead>\n",
              "    <tr style=\"text-align: right;\">\n",
              "      <th></th>\n",
              "      <th>A</th>\n",
              "      <th>B</th>\n",
              "      <th>C</th>\n",
              "      <th>D</th>\n",
              "      <th>F</th>\n",
              "      <th>E</th>\n",
              "    </tr>\n",
              "  </thead>\n",
              "  <tbody>\n",
              "    <tr>\n",
              "      <th>2013-01-01</th>\n",
              "      <td>0.000000</td>\n",
              "      <td>0.000000</td>\n",
              "      <td>-0.545421</td>\n",
              "      <td>5</td>\n",
              "      <td>5.0</td>\n",
              "      <td>1.0</td>\n",
              "    </tr>\n",
              "    <tr>\n",
              "      <th>2013-01-02</th>\n",
              "      <td>0.120775</td>\n",
              "      <td>-0.572338</td>\n",
              "      <td>-2.020728</td>\n",
              "      <td>5</td>\n",
              "      <td>1.0</td>\n",
              "      <td>1.0</td>\n",
              "    </tr>\n",
              "    <tr>\n",
              "      <th>2013-01-03</th>\n",
              "      <td>-0.575200</td>\n",
              "      <td>-0.442130</td>\n",
              "      <td>-0.154726</td>\n",
              "      <td>5</td>\n",
              "      <td>2.0</td>\n",
              "      <td>5.0</td>\n",
              "    </tr>\n",
              "    <tr>\n",
              "      <th>2013-01-04</th>\n",
              "      <td>0.509850</td>\n",
              "      <td>0.801045</td>\n",
              "      <td>0.015410</td>\n",
              "      <td>5</td>\n",
              "      <td>3.0</td>\n",
              "      <td>5.0</td>\n",
              "    </tr>\n",
              "  </tbody>\n",
              "</table>\n",
              "</div>"
            ],
            "text/plain": [
              "                   A         B         C  D    F    E\n",
              "2013-01-01  0.000000  0.000000 -0.545421  5  5.0  1.0\n",
              "2013-01-02  0.120775 -0.572338 -2.020728  5  1.0  1.0\n",
              "2013-01-03 -0.575200 -0.442130 -0.154726  5  2.0  5.0\n",
              "2013-01-04  0.509850  0.801045  0.015410  5  3.0  5.0"
            ]
          },
          "metadata": {
            "tags": []
          },
          "execution_count": 83
        }
      ]
    },
    {
      "cell_type": "markdown",
      "metadata": {
        "id": "Mb4C_7CjnUuu"
      },
      "source": [
        "nan인 값에 boolean을 통한 표식을 얻는다.  \n",
        "데이터프레임의 모든 값이 boolean 형태로 표시되도록 하며, nan인 값에만 True가 표시되게 하는 함수이다."
      ]
    },
    {
      "cell_type": "code",
      "metadata": {
        "id": "kg5roznWnbwI",
        "outputId": "7116fb66-f731-4632-9a29-f2eba04752be",
        "colab": {
          "base_uri": "https://localhost:8080/",
          "height": 173
        }
      },
      "source": [
        "pd.isna(df1)"
      ],
      "execution_count": 84,
      "outputs": [
        {
          "output_type": "execute_result",
          "data": {
            "text/html": [
              "<div>\n",
              "<style scoped>\n",
              "    .dataframe tbody tr th:only-of-type {\n",
              "        vertical-align: middle;\n",
              "    }\n",
              "\n",
              "    .dataframe tbody tr th {\n",
              "        vertical-align: top;\n",
              "    }\n",
              "\n",
              "    .dataframe thead th {\n",
              "        text-align: right;\n",
              "    }\n",
              "</style>\n",
              "<table border=\"1\" class=\"dataframe\">\n",
              "  <thead>\n",
              "    <tr style=\"text-align: right;\">\n",
              "      <th></th>\n",
              "      <th>A</th>\n",
              "      <th>B</th>\n",
              "      <th>C</th>\n",
              "      <th>D</th>\n",
              "      <th>F</th>\n",
              "      <th>E</th>\n",
              "    </tr>\n",
              "  </thead>\n",
              "  <tbody>\n",
              "    <tr>\n",
              "      <th>2013-01-01</th>\n",
              "      <td>False</td>\n",
              "      <td>False</td>\n",
              "      <td>False</td>\n",
              "      <td>False</td>\n",
              "      <td>True</td>\n",
              "      <td>False</td>\n",
              "    </tr>\n",
              "    <tr>\n",
              "      <th>2013-01-02</th>\n",
              "      <td>False</td>\n",
              "      <td>False</td>\n",
              "      <td>False</td>\n",
              "      <td>False</td>\n",
              "      <td>False</td>\n",
              "      <td>False</td>\n",
              "    </tr>\n",
              "    <tr>\n",
              "      <th>2013-01-03</th>\n",
              "      <td>False</td>\n",
              "      <td>False</td>\n",
              "      <td>False</td>\n",
              "      <td>False</td>\n",
              "      <td>False</td>\n",
              "      <td>True</td>\n",
              "    </tr>\n",
              "    <tr>\n",
              "      <th>2013-01-04</th>\n",
              "      <td>False</td>\n",
              "      <td>False</td>\n",
              "      <td>False</td>\n",
              "      <td>False</td>\n",
              "      <td>False</td>\n",
              "      <td>True</td>\n",
              "    </tr>\n",
              "  </tbody>\n",
              "</table>\n",
              "</div>"
            ],
            "text/plain": [
              "                A      B      C      D      F      E\n",
              "2013-01-01  False  False  False  False   True  False\n",
              "2013-01-02  False  False  False  False  False  False\n",
              "2013-01-03  False  False  False  False  False   True\n",
              "2013-01-04  False  False  False  False  False   True"
            ]
          },
          "metadata": {
            "tags": []
          },
          "execution_count": 84
        }
      ]
    },
    {
      "cell_type": "markdown",
      "metadata": {
        "id": "VZSSQxESnfhX"
      },
      "source": [
        "## 5) 연산 (Operation)"
      ]
    },
    {
      "cell_type": "markdown",
      "metadata": {
        "id": "QUKguIapnkK-"
      },
      "source": [
        "[이진 (Binary) 연산의 기본 섹션 (Flexible binary operations)](https://pandas.pydata.org/pandas-docs/stable/user_guide/basics.html#flexible-binary-operations)"
      ]
    },
    {
      "cell_type": "markdown",
      "metadata": {
        "id": "fyVuOzbinv66"
      },
      "source": [
        "### 5-1) 통계 (Stats)"
      ]
    },
    {
      "cell_type": "code",
      "metadata": {
        "id": "JwCskjiEn09n"
      },
      "source": [
        "일반적으로 결측치를 제외한 후 연산된다.\n",
        "기술통계를 수행한다."
      ],
      "execution_count": null,
      "outputs": []
    },
    {
      "cell_type": "code",
      "metadata": {
        "id": "YtGmrKSAn3_P",
        "outputId": "e7a34626-449d-4f84-fa04-9d2e37e7bae0",
        "colab": {
          "base_uri": "https://localhost:8080/"
        }
      },
      "source": [
        "df.mean()"
      ],
      "execution_count": 85,
      "outputs": [
        {
          "output_type": "execute_result",
          "data": {
            "text/plain": [
              "A    0.380767\n",
              "B    0.377012\n",
              "C   -0.602749\n",
              "D    5.000000\n",
              "F    3.000000\n",
              "dtype: float64"
            ]
          },
          "metadata": {
            "tags": []
          },
          "execution_count": 85
        }
      ]
    },
    {
      "cell_type": "markdown",
      "metadata": {
        "id": "gEp6d9O_n6WP"
      },
      "source": [
        "다른 축에서 동일한 연산을 수행한다."
      ]
    },
    {
      "cell_type": "code",
      "metadata": {
        "id": "TKtj24CVn_Of",
        "outputId": "1340da40-1d24-4b5f-806e-f3a5d780b5ea",
        "colab": {
          "base_uri": "https://localhost:8080/"
        }
      },
      "source": [
        "df.mean(1)"
      ],
      "execution_count": 86,
      "outputs": [
        {
          "output_type": "execute_result",
          "data": {
            "text/plain": [
              "2013-01-01    1.113645\n",
              "2013-01-02    0.705542\n",
              "2013-01-03    1.165589\n",
              "2013-01-04    1.865261\n",
              "2013-01-05    2.052499\n",
              "2013-01-06    2.506229\n",
              "Freq: D, dtype: float64"
            ]
          },
          "metadata": {
            "tags": []
          },
          "execution_count": 86
        }
      ]
    },
    {
      "cell_type": "markdown",
      "metadata": {
        "id": "z-u20wY8oED5"
      },
      "source": [
        "정렬이 필요하며, 차원이 다른 객체로 연산해보겠다.  \n",
        "pandas는 지정된 차원을 따라 자동으로 브로드 캐스팅된다.  \n",
        "broadcast란 numpy에서 유래한 용어로, n차원이나 스칼라 값으로 연산을 수행할 때 도출되는 결과의 규칙을 설명하는 것을 의미합니다."
      ]
    },
    {
      "cell_type": "code",
      "metadata": {
        "id": "DTWuvYOGoQh-",
        "outputId": "ec381465-5482-4566-db18-774a938bf8d8",
        "colab": {
          "base_uri": "https://localhost:8080/"
        }
      },
      "source": [
        "s = pd.Series([1,3,5,np.nan,6,8], index=dates).shift(2)\n",
        "s"
      ],
      "execution_count": 87,
      "outputs": [
        {
          "output_type": "execute_result",
          "data": {
            "text/plain": [
              "2013-01-01    NaN\n",
              "2013-01-02    NaN\n",
              "2013-01-03    1.0\n",
              "2013-01-04    3.0\n",
              "2013-01-05    5.0\n",
              "2013-01-06    NaN\n",
              "Freq: D, dtype: float64"
            ]
          },
          "metadata": {
            "tags": []
          },
          "execution_count": 87
        }
      ]
    },
    {
      "cell_type": "code",
      "metadata": {
        "id": "GeWjVDwaoSl2",
        "outputId": "1d4c1a08-7f11-4339-c851-f354ea3f10ad",
        "colab": {
          "base_uri": "https://localhost:8080/",
          "height": 235
        }
      },
      "source": [
        "df.sub(s, axis='index')"
      ],
      "execution_count": 88,
      "outputs": [
        {
          "output_type": "execute_result",
          "data": {
            "text/html": [
              "<div>\n",
              "<style scoped>\n",
              "    .dataframe tbody tr th:only-of-type {\n",
              "        vertical-align: middle;\n",
              "    }\n",
              "\n",
              "    .dataframe tbody tr th {\n",
              "        vertical-align: top;\n",
              "    }\n",
              "\n",
              "    .dataframe thead th {\n",
              "        text-align: right;\n",
              "    }\n",
              "</style>\n",
              "<table border=\"1\" class=\"dataframe\">\n",
              "  <thead>\n",
              "    <tr style=\"text-align: right;\">\n",
              "      <th></th>\n",
              "      <th>A</th>\n",
              "      <th>B</th>\n",
              "      <th>C</th>\n",
              "      <th>D</th>\n",
              "      <th>F</th>\n",
              "    </tr>\n",
              "  </thead>\n",
              "  <tbody>\n",
              "    <tr>\n",
              "      <th>2013-01-01</th>\n",
              "      <td>NaN</td>\n",
              "      <td>NaN</td>\n",
              "      <td>NaN</td>\n",
              "      <td>NaN</td>\n",
              "      <td>NaN</td>\n",
              "    </tr>\n",
              "    <tr>\n",
              "      <th>2013-01-02</th>\n",
              "      <td>NaN</td>\n",
              "      <td>NaN</td>\n",
              "      <td>NaN</td>\n",
              "      <td>NaN</td>\n",
              "      <td>NaN</td>\n",
              "    </tr>\n",
              "    <tr>\n",
              "      <th>2013-01-03</th>\n",
              "      <td>-1.575200</td>\n",
              "      <td>-1.442130</td>\n",
              "      <td>-1.154726</td>\n",
              "      <td>4.0</td>\n",
              "      <td>1.0</td>\n",
              "    </tr>\n",
              "    <tr>\n",
              "      <th>2013-01-04</th>\n",
              "      <td>-2.490150</td>\n",
              "      <td>-2.198955</td>\n",
              "      <td>-2.984590</td>\n",
              "      <td>2.0</td>\n",
              "      <td>0.0</td>\n",
              "    </tr>\n",
              "    <tr>\n",
              "      <th>2013-01-05</th>\n",
              "      <td>-3.596231</td>\n",
              "      <td>-3.808327</td>\n",
              "      <td>-6.332947</td>\n",
              "      <td>0.0</td>\n",
              "      <td>-1.0</td>\n",
              "    </tr>\n",
              "    <tr>\n",
              "      <th>2013-01-06</th>\n",
              "      <td>NaN</td>\n",
              "      <td>NaN</td>\n",
              "      <td>NaN</td>\n",
              "      <td>NaN</td>\n",
              "      <td>NaN</td>\n",
              "    </tr>\n",
              "  </tbody>\n",
              "</table>\n",
              "</div>"
            ],
            "text/plain": [
              "                   A         B         C    D    F\n",
              "2013-01-01       NaN       NaN       NaN  NaN  NaN\n",
              "2013-01-02       NaN       NaN       NaN  NaN  NaN\n",
              "2013-01-03 -1.575200 -1.442130 -1.154726  4.0  1.0\n",
              "2013-01-04 -2.490150 -2.198955 -2.984590  2.0  0.0\n",
              "2013-01-05 -3.596231 -3.808327 -6.332947  0.0 -1.0\n",
              "2013-01-06       NaN       NaN       NaN  NaN  NaN"
            ]
          },
          "metadata": {
            "tags": []
          },
          "execution_count": 88
        }
      ]
    },
    {
      "cell_type": "markdown",
      "metadata": {
        "id": "HQHaQtxgoUio"
      },
      "source": [
        "### 5-2) 적용 (Apply)"
      ]
    },
    {
      "cell_type": "markdown",
      "metadata": {
        "id": "uhVmDuGAoZzm"
      },
      "source": [
        "데이터에 함수를 적용한다."
      ]
    },
    {
      "cell_type": "code",
      "metadata": {
        "id": "uOzibB4Loaqf",
        "outputId": "d31f61fd-b8ee-4745-d22d-1078632024a0",
        "colab": {
          "base_uri": "https://localhost:8080/",
          "height": 235
        }
      },
      "source": [
        "df.apply(np.cumsum)"
      ],
      "execution_count": 89,
      "outputs": [
        {
          "output_type": "execute_result",
          "data": {
            "text/html": [
              "<div>\n",
              "<style scoped>\n",
              "    .dataframe tbody tr th:only-of-type {\n",
              "        vertical-align: middle;\n",
              "    }\n",
              "\n",
              "    .dataframe tbody tr th {\n",
              "        vertical-align: top;\n",
              "    }\n",
              "\n",
              "    .dataframe thead th {\n",
              "        text-align: right;\n",
              "    }\n",
              "</style>\n",
              "<table border=\"1\" class=\"dataframe\">\n",
              "  <thead>\n",
              "    <tr style=\"text-align: right;\">\n",
              "      <th></th>\n",
              "      <th>A</th>\n",
              "      <th>B</th>\n",
              "      <th>C</th>\n",
              "      <th>D</th>\n",
              "      <th>F</th>\n",
              "    </tr>\n",
              "  </thead>\n",
              "  <tbody>\n",
              "    <tr>\n",
              "      <th>2013-01-01</th>\n",
              "      <td>0.000000</td>\n",
              "      <td>0.000000</td>\n",
              "      <td>-0.545421</td>\n",
              "      <td>5</td>\n",
              "      <td>NaN</td>\n",
              "    </tr>\n",
              "    <tr>\n",
              "      <th>2013-01-02</th>\n",
              "      <td>0.120775</td>\n",
              "      <td>-0.572338</td>\n",
              "      <td>-2.566149</td>\n",
              "      <td>10</td>\n",
              "      <td>1.0</td>\n",
              "    </tr>\n",
              "    <tr>\n",
              "      <th>2013-01-03</th>\n",
              "      <td>-0.454425</td>\n",
              "      <td>-1.014468</td>\n",
              "      <td>-2.720875</td>\n",
              "      <td>15</td>\n",
              "      <td>3.0</td>\n",
              "    </tr>\n",
              "    <tr>\n",
              "      <th>2013-01-04</th>\n",
              "      <td>0.055426</td>\n",
              "      <td>-0.213423</td>\n",
              "      <td>-2.705465</td>\n",
              "      <td>20</td>\n",
              "      <td>6.0</td>\n",
              "    </tr>\n",
              "    <tr>\n",
              "      <th>2013-01-05</th>\n",
              "      <td>1.459194</td>\n",
              "      <td>0.978250</td>\n",
              "      <td>-4.038412</td>\n",
              "      <td>25</td>\n",
              "      <td>10.0</td>\n",
              "    </tr>\n",
              "    <tr>\n",
              "      <th>2013-01-06</th>\n",
              "      <td>2.284600</td>\n",
              "      <td>2.262070</td>\n",
              "      <td>-3.616494</td>\n",
              "      <td>30</td>\n",
              "      <td>15.0</td>\n",
              "    </tr>\n",
              "  </tbody>\n",
              "</table>\n",
              "</div>"
            ],
            "text/plain": [
              "                   A         B         C   D     F\n",
              "2013-01-01  0.000000  0.000000 -0.545421   5   NaN\n",
              "2013-01-02  0.120775 -0.572338 -2.566149  10   1.0\n",
              "2013-01-03 -0.454425 -1.014468 -2.720875  15   3.0\n",
              "2013-01-04  0.055426 -0.213423 -2.705465  20   6.0\n",
              "2013-01-05  1.459194  0.978250 -4.038412  25  10.0\n",
              "2013-01-06  2.284600  2.262070 -3.616494  30  15.0"
            ]
          },
          "metadata": {
            "tags": []
          },
          "execution_count": 89
        }
      ]
    },
    {
      "cell_type": "code",
      "metadata": {
        "id": "gHHFBozmogb3",
        "outputId": "a7dd4c9d-52c7-4d33-aed6-1ca9e55968a5",
        "colab": {
          "base_uri": "https://localhost:8080/"
        }
      },
      "source": [
        "df.apply(lambda x: x.max() - x.min())"
      ],
      "execution_count": 90,
      "outputs": [
        {
          "output_type": "execute_result",
          "data": {
            "text/plain": [
              "A    1.978968\n",
              "B    1.856158\n",
              "C    2.442645\n",
              "D    0.000000\n",
              "F    4.000000\n",
              "dtype: float64"
            ]
          },
          "metadata": {
            "tags": []
          },
          "execution_count": 90
        }
      ]
    },
    {
      "cell_type": "markdown",
      "metadata": {
        "id": "SQgIVgywojKn"
      },
      "source": [
        "### 5-3) 히스토그래밍 (Histogramming)"
      ]
    },
    {
      "cell_type": "markdown",
      "metadata": {
        "id": "S2VBT1h1orqO"
      },
      "source": [
        "[히스토그래밍과 이산화 (Value counts (histogramming) / mode)](https://pandas.pydata.org/pandas-docs/stable/user_guide/basics.html#value-counts-histogramming-mode)"
      ]
    },
    {
      "cell_type": "code",
      "metadata": {
        "id": "zuFEP1BvpM5v",
        "outputId": "780b7905-5eb1-4358-f8bb-90dfeb5aaeeb",
        "colab": {
          "base_uri": "https://localhost:8080/"
        }
      },
      "source": [
        "s = pd.Series(np.random.randint(0, 7, size=10))\n",
        "s"
      ],
      "execution_count": 91,
      "outputs": [
        {
          "output_type": "execute_result",
          "data": {
            "text/plain": [
              "0    3\n",
              "1    1\n",
              "2    1\n",
              "3    1\n",
              "4    2\n",
              "5    1\n",
              "6    2\n",
              "7    6\n",
              "8    3\n",
              "9    0\n",
              "dtype: int64"
            ]
          },
          "metadata": {
            "tags": []
          },
          "execution_count": 91
        }
      ]
    },
    {
      "cell_type": "code",
      "metadata": {
        "id": "o0NF_T2VpOyH",
        "outputId": "8b27c9f2-fc55-4c69-9991-f8ab6e972fa0",
        "colab": {
          "base_uri": "https://localhost:8080/"
        }
      },
      "source": [
        "s.value_counts()"
      ],
      "execution_count": 92,
      "outputs": [
        {
          "output_type": "execute_result",
          "data": {
            "text/plain": [
              "1    4\n",
              "3    2\n",
              "2    2\n",
              "6    1\n",
              "0    1\n",
              "dtype: int64"
            ]
          },
          "metadata": {
            "tags": []
          },
          "execution_count": 92
        }
      ]
    },
    {
      "cell_type": "markdown",
      "metadata": {
        "id": "yB5KuPUCpQiT"
      },
      "source": [
        "### 5-4) 문자열 메소드 (String Methods)"
      ]
    },
    {
      "cell_type": "markdown",
      "metadata": {
        "id": "IGRTGmVxpVkv"
      },
      "source": [
        "[벡터화된 문자열 메소드 (String methods)](https://pandas.pydata.org/pandas-docs/stable/user_guide/text.html#string-methods)  \n",
        "\n",
        "Series는 다음의 코드와 같이 문자열 처리 메소드 모음 (set)을 가지고 있다.  \n",
        "이 모음은 배열의 각 요소를 쉽게 조작할 수 있도록 만들어주는 문자열의 속성에 포함되어 있다.  \n",
        "\n",
        "문자열의 패턴 일치 확인은 기본적으로 정규 표현식을 사용하며, 몇몇 경우에는 항상 정규 표현식을 사용함에 유의한다."
      ]
    },
    {
      "cell_type": "code",
      "metadata": {
        "id": "MZfu1qkNp04n",
        "outputId": "e1ebc5ea-9221-469d-8cc8-3e5dd90bb8d0",
        "colab": {
          "base_uri": "https://localhost:8080/"
        }
      },
      "source": [
        "s = pd.Series(['A', 'B', 'C', 'Aaba', 'Baca', np.nan, 'CABA', 'dog', 'cat'])\n",
        "s.str.lower()"
      ],
      "execution_count": 93,
      "outputs": [
        {
          "output_type": "execute_result",
          "data": {
            "text/plain": [
              "0       a\n",
              "1       b\n",
              "2       c\n",
              "3    aaba\n",
              "4    baca\n",
              "5     NaN\n",
              "6    caba\n",
              "7     dog\n",
              "8     cat\n",
              "dtype: object"
            ]
          },
          "metadata": {
            "tags": []
          },
          "execution_count": 93
        }
      ]
    },
    {
      "cell_type": "markdown",
      "metadata": {
        "id": "aaSVtLbEqOyB"
      },
      "source": [
        ""
      ]
    },
    {
      "cell_type": "markdown",
      "metadata": {
        "id": "c5CeAjU4p9SI"
      },
      "source": [
        "## 6) 병합 (Merge)"
      ]
    },
    {
      "cell_type": "markdown",
      "metadata": {
        "id": "rJ-avp0wqAJS"
      },
      "source": [
        "### 6-1) 연결 (Concat)"
      ]
    },
    {
      "cell_type": "markdown",
      "metadata": {
        "id": "ORIGQhj_qJ3K"
      },
      "source": [
        "[데이터베이스 스타일 결합 (Database-style DataFrame or named Series joining/merging)](https://pandas.pydata.org/pandas-docs/stable/user_guide/merging.html#database-style-dataframe-or-named-series-joining-merging)  \n",
        "결합 (join) / 병합 (merge) 형태의 연산에 대한 인덱스, 관계 대수 기능을 위한 다양한 형태의 논리를 포함한 Series, 데이터프레임, Panel 객체를 손쉽게 결합할 수 있도록 하는 다양한 기능을 pandas 에서 제공한다.  \n",
        "[concat()](https://pandas.pydata.org/pandas-docs/stable/reference/api/pandas.concat.html)으로 pandas 객체를 연결한다."
      ]
    },
    {
      "cell_type": "code",
      "metadata": {
        "id": "EKJ84y8MqaS3",
        "outputId": "9509de34-9288-4067-8901-137c96b6376c",
        "colab": {
          "base_uri": "https://localhost:8080/",
          "height": 359
        }
      },
      "source": [
        "df = pd.DataFrame(np.random.randn(10, 4))\n",
        "df"
      ],
      "execution_count": 94,
      "outputs": [
        {
          "output_type": "execute_result",
          "data": {
            "text/html": [
              "<div>\n",
              "<style scoped>\n",
              "    .dataframe tbody tr th:only-of-type {\n",
              "        vertical-align: middle;\n",
              "    }\n",
              "\n",
              "    .dataframe tbody tr th {\n",
              "        vertical-align: top;\n",
              "    }\n",
              "\n",
              "    .dataframe thead th {\n",
              "        text-align: right;\n",
              "    }\n",
              "</style>\n",
              "<table border=\"1\" class=\"dataframe\">\n",
              "  <thead>\n",
              "    <tr style=\"text-align: right;\">\n",
              "      <th></th>\n",
              "      <th>0</th>\n",
              "      <th>1</th>\n",
              "      <th>2</th>\n",
              "      <th>3</th>\n",
              "    </tr>\n",
              "  </thead>\n",
              "  <tbody>\n",
              "    <tr>\n",
              "      <th>0</th>\n",
              "      <td>1.279807</td>\n",
              "      <td>-1.153900</td>\n",
              "      <td>-0.582429</td>\n",
              "      <td>2.259070</td>\n",
              "    </tr>\n",
              "    <tr>\n",
              "      <th>1</th>\n",
              "      <td>0.532136</td>\n",
              "      <td>-0.575209</td>\n",
              "      <td>-0.042748</td>\n",
              "      <td>0.484629</td>\n",
              "    </tr>\n",
              "    <tr>\n",
              "      <th>2</th>\n",
              "      <td>0.531710</td>\n",
              "      <td>-0.147753</td>\n",
              "      <td>0.678086</td>\n",
              "      <td>0.120756</td>\n",
              "    </tr>\n",
              "    <tr>\n",
              "      <th>3</th>\n",
              "      <td>-0.533762</td>\n",
              "      <td>-0.226234</td>\n",
              "      <td>-0.250227</td>\n",
              "      <td>1.775457</td>\n",
              "    </tr>\n",
              "    <tr>\n",
              "      <th>4</th>\n",
              "      <td>2.162538</td>\n",
              "      <td>-0.116354</td>\n",
              "      <td>-0.521884</td>\n",
              "      <td>0.673141</td>\n",
              "    </tr>\n",
              "    <tr>\n",
              "      <th>5</th>\n",
              "      <td>-0.057809</td>\n",
              "      <td>-0.355782</td>\n",
              "      <td>1.148990</td>\n",
              "      <td>0.041617</td>\n",
              "    </tr>\n",
              "    <tr>\n",
              "      <th>6</th>\n",
              "      <td>0.765778</td>\n",
              "      <td>-0.145401</td>\n",
              "      <td>-0.604436</td>\n",
              "      <td>-1.779851</td>\n",
              "    </tr>\n",
              "    <tr>\n",
              "      <th>7</th>\n",
              "      <td>0.512580</td>\n",
              "      <td>0.055678</td>\n",
              "      <td>-0.070639</td>\n",
              "      <td>0.009846</td>\n",
              "    </tr>\n",
              "    <tr>\n",
              "      <th>8</th>\n",
              "      <td>-0.360689</td>\n",
              "      <td>1.153401</td>\n",
              "      <td>-0.377757</td>\n",
              "      <td>0.762205</td>\n",
              "    </tr>\n",
              "    <tr>\n",
              "      <th>9</th>\n",
              "      <td>1.038979</td>\n",
              "      <td>-0.550957</td>\n",
              "      <td>-0.740130</td>\n",
              "      <td>-0.839612</td>\n",
              "    </tr>\n",
              "  </tbody>\n",
              "</table>\n",
              "</div>"
            ],
            "text/plain": [
              "          0         1         2         3\n",
              "0  1.279807 -1.153900 -0.582429  2.259070\n",
              "1  0.532136 -0.575209 -0.042748  0.484629\n",
              "2  0.531710 -0.147753  0.678086  0.120756\n",
              "3 -0.533762 -0.226234 -0.250227  1.775457\n",
              "4  2.162538 -0.116354 -0.521884  0.673141\n",
              "5 -0.057809 -0.355782  1.148990  0.041617\n",
              "6  0.765778 -0.145401 -0.604436 -1.779851\n",
              "7  0.512580  0.055678 -0.070639  0.009846\n",
              "8 -0.360689  1.153401 -0.377757  0.762205\n",
              "9  1.038979 -0.550957 -0.740130 -0.839612"
            ]
          },
          "metadata": {
            "tags": []
          },
          "execution_count": 94
        }
      ]
    },
    {
      "cell_type": "code",
      "metadata": {
        "id": "v25QQV6jqeSG",
        "outputId": "55231e5e-93d9-4e07-a8fa-815b3bb897b5",
        "colab": {
          "base_uri": "https://localhost:8080/",
          "height": 359
        }
      },
      "source": [
        "pieces = [df[:3], df[3:7], df[7:]]\n",
        "pd.concat(pieces)"
      ],
      "execution_count": 95,
      "outputs": [
        {
          "output_type": "execute_result",
          "data": {
            "text/html": [
              "<div>\n",
              "<style scoped>\n",
              "    .dataframe tbody tr th:only-of-type {\n",
              "        vertical-align: middle;\n",
              "    }\n",
              "\n",
              "    .dataframe tbody tr th {\n",
              "        vertical-align: top;\n",
              "    }\n",
              "\n",
              "    .dataframe thead th {\n",
              "        text-align: right;\n",
              "    }\n",
              "</style>\n",
              "<table border=\"1\" class=\"dataframe\">\n",
              "  <thead>\n",
              "    <tr style=\"text-align: right;\">\n",
              "      <th></th>\n",
              "      <th>0</th>\n",
              "      <th>1</th>\n",
              "      <th>2</th>\n",
              "      <th>3</th>\n",
              "    </tr>\n",
              "  </thead>\n",
              "  <tbody>\n",
              "    <tr>\n",
              "      <th>0</th>\n",
              "      <td>1.279807</td>\n",
              "      <td>-1.153900</td>\n",
              "      <td>-0.582429</td>\n",
              "      <td>2.259070</td>\n",
              "    </tr>\n",
              "    <tr>\n",
              "      <th>1</th>\n",
              "      <td>0.532136</td>\n",
              "      <td>-0.575209</td>\n",
              "      <td>-0.042748</td>\n",
              "      <td>0.484629</td>\n",
              "    </tr>\n",
              "    <tr>\n",
              "      <th>2</th>\n",
              "      <td>0.531710</td>\n",
              "      <td>-0.147753</td>\n",
              "      <td>0.678086</td>\n",
              "      <td>0.120756</td>\n",
              "    </tr>\n",
              "    <tr>\n",
              "      <th>3</th>\n",
              "      <td>-0.533762</td>\n",
              "      <td>-0.226234</td>\n",
              "      <td>-0.250227</td>\n",
              "      <td>1.775457</td>\n",
              "    </tr>\n",
              "    <tr>\n",
              "      <th>4</th>\n",
              "      <td>2.162538</td>\n",
              "      <td>-0.116354</td>\n",
              "      <td>-0.521884</td>\n",
              "      <td>0.673141</td>\n",
              "    </tr>\n",
              "    <tr>\n",
              "      <th>5</th>\n",
              "      <td>-0.057809</td>\n",
              "      <td>-0.355782</td>\n",
              "      <td>1.148990</td>\n",
              "      <td>0.041617</td>\n",
              "    </tr>\n",
              "    <tr>\n",
              "      <th>6</th>\n",
              "      <td>0.765778</td>\n",
              "      <td>-0.145401</td>\n",
              "      <td>-0.604436</td>\n",
              "      <td>-1.779851</td>\n",
              "    </tr>\n",
              "    <tr>\n",
              "      <th>7</th>\n",
              "      <td>0.512580</td>\n",
              "      <td>0.055678</td>\n",
              "      <td>-0.070639</td>\n",
              "      <td>0.009846</td>\n",
              "    </tr>\n",
              "    <tr>\n",
              "      <th>8</th>\n",
              "      <td>-0.360689</td>\n",
              "      <td>1.153401</td>\n",
              "      <td>-0.377757</td>\n",
              "      <td>0.762205</td>\n",
              "    </tr>\n",
              "    <tr>\n",
              "      <th>9</th>\n",
              "      <td>1.038979</td>\n",
              "      <td>-0.550957</td>\n",
              "      <td>-0.740130</td>\n",
              "      <td>-0.839612</td>\n",
              "    </tr>\n",
              "  </tbody>\n",
              "</table>\n",
              "</div>"
            ],
            "text/plain": [
              "          0         1         2         3\n",
              "0  1.279807 -1.153900 -0.582429  2.259070\n",
              "1  0.532136 -0.575209 -0.042748  0.484629\n",
              "2  0.531710 -0.147753  0.678086  0.120756\n",
              "3 -0.533762 -0.226234 -0.250227  1.775457\n",
              "4  2.162538 -0.116354 -0.521884  0.673141\n",
              "5 -0.057809 -0.355782  1.148990  0.041617\n",
              "6  0.765778 -0.145401 -0.604436 -1.779851\n",
              "7  0.512580  0.055678 -0.070639  0.009846\n",
              "8 -0.360689  1.153401 -0.377757  0.762205\n",
              "9  1.038979 -0.550957 -0.740130 -0.839612"
            ]
          },
          "metadata": {
            "tags": []
          },
          "execution_count": 95
        }
      ]
    },
    {
      "cell_type": "markdown",
      "metadata": {
        "id": "zDNMEt_7qsDT"
      },
      "source": [
        "### 6-2) 결합 (Join)"
      ]
    },
    {
      "cell_type": "markdown",
      "metadata": {
        "id": "rMSseHg7qwko"
      },
      "source": [
        "SQL 방식으로 병합한다."
      ]
    },
    {
      "cell_type": "code",
      "metadata": {
        "id": "9_RXxt-fq76v",
        "outputId": "8af43045-6710-4fa9-d99e-f4b85cd4f164",
        "colab": {
          "base_uri": "https://localhost:8080/",
          "height": 111
        }
      },
      "source": [
        "left = pd.DataFrame({'key': ['foo', 'foo'], 'lval': [1, 2]})\n",
        "left"
      ],
      "execution_count": 96,
      "outputs": [
        {
          "output_type": "execute_result",
          "data": {
            "text/html": [
              "<div>\n",
              "<style scoped>\n",
              "    .dataframe tbody tr th:only-of-type {\n",
              "        vertical-align: middle;\n",
              "    }\n",
              "\n",
              "    .dataframe tbody tr th {\n",
              "        vertical-align: top;\n",
              "    }\n",
              "\n",
              "    .dataframe thead th {\n",
              "        text-align: right;\n",
              "    }\n",
              "</style>\n",
              "<table border=\"1\" class=\"dataframe\">\n",
              "  <thead>\n",
              "    <tr style=\"text-align: right;\">\n",
              "      <th></th>\n",
              "      <th>key</th>\n",
              "      <th>lval</th>\n",
              "    </tr>\n",
              "  </thead>\n",
              "  <tbody>\n",
              "    <tr>\n",
              "      <th>0</th>\n",
              "      <td>foo</td>\n",
              "      <td>1</td>\n",
              "    </tr>\n",
              "    <tr>\n",
              "      <th>1</th>\n",
              "      <td>foo</td>\n",
              "      <td>2</td>\n",
              "    </tr>\n",
              "  </tbody>\n",
              "</table>\n",
              "</div>"
            ],
            "text/plain": [
              "   key  lval\n",
              "0  foo     1\n",
              "1  foo     2"
            ]
          },
          "metadata": {
            "tags": []
          },
          "execution_count": 96
        }
      ]
    },
    {
      "cell_type": "code",
      "metadata": {
        "id": "M5QTfdvUq_MI",
        "outputId": "27272f35-79b2-47d0-cb73-c3c7bf460ca4",
        "colab": {
          "base_uri": "https://localhost:8080/",
          "height": 111
        }
      },
      "source": [
        "right = pd.DataFrame({'key': ['foo', 'foo'], 'rval': [4, 5]})\n",
        "right"
      ],
      "execution_count": 97,
      "outputs": [
        {
          "output_type": "execute_result",
          "data": {
            "text/html": [
              "<div>\n",
              "<style scoped>\n",
              "    .dataframe tbody tr th:only-of-type {\n",
              "        vertical-align: middle;\n",
              "    }\n",
              "\n",
              "    .dataframe tbody tr th {\n",
              "        vertical-align: top;\n",
              "    }\n",
              "\n",
              "    .dataframe thead th {\n",
              "        text-align: right;\n",
              "    }\n",
              "</style>\n",
              "<table border=\"1\" class=\"dataframe\">\n",
              "  <thead>\n",
              "    <tr style=\"text-align: right;\">\n",
              "      <th></th>\n",
              "      <th>key</th>\n",
              "      <th>rval</th>\n",
              "    </tr>\n",
              "  </thead>\n",
              "  <tbody>\n",
              "    <tr>\n",
              "      <th>0</th>\n",
              "      <td>foo</td>\n",
              "      <td>4</td>\n",
              "    </tr>\n",
              "    <tr>\n",
              "      <th>1</th>\n",
              "      <td>foo</td>\n",
              "      <td>5</td>\n",
              "    </tr>\n",
              "  </tbody>\n",
              "</table>\n",
              "</div>"
            ],
            "text/plain": [
              "   key  rval\n",
              "0  foo     4\n",
              "1  foo     5"
            ]
          },
          "metadata": {
            "tags": []
          },
          "execution_count": 97
        }
      ]
    },
    {
      "cell_type": "code",
      "metadata": {
        "id": "3GwF1eHIq_-R",
        "outputId": "82b74554-1f3c-4e20-d02f-544297971488",
        "colab": {
          "base_uri": "https://localhost:8080/",
          "height": 173
        }
      },
      "source": [
        "pd.merge(left, right, on= 'key')"
      ],
      "execution_count": 98,
      "outputs": [
        {
          "output_type": "execute_result",
          "data": {
            "text/html": [
              "<div>\n",
              "<style scoped>\n",
              "    .dataframe tbody tr th:only-of-type {\n",
              "        vertical-align: middle;\n",
              "    }\n",
              "\n",
              "    .dataframe tbody tr th {\n",
              "        vertical-align: top;\n",
              "    }\n",
              "\n",
              "    .dataframe thead th {\n",
              "        text-align: right;\n",
              "    }\n",
              "</style>\n",
              "<table border=\"1\" class=\"dataframe\">\n",
              "  <thead>\n",
              "    <tr style=\"text-align: right;\">\n",
              "      <th></th>\n",
              "      <th>key</th>\n",
              "      <th>lval</th>\n",
              "      <th>rval</th>\n",
              "    </tr>\n",
              "  </thead>\n",
              "  <tbody>\n",
              "    <tr>\n",
              "      <th>0</th>\n",
              "      <td>foo</td>\n",
              "      <td>1</td>\n",
              "      <td>4</td>\n",
              "    </tr>\n",
              "    <tr>\n",
              "      <th>1</th>\n",
              "      <td>foo</td>\n",
              "      <td>1</td>\n",
              "      <td>5</td>\n",
              "    </tr>\n",
              "    <tr>\n",
              "      <th>2</th>\n",
              "      <td>foo</td>\n",
              "      <td>2</td>\n",
              "      <td>4</td>\n",
              "    </tr>\n",
              "    <tr>\n",
              "      <th>3</th>\n",
              "      <td>foo</td>\n",
              "      <td>2</td>\n",
              "      <td>5</td>\n",
              "    </tr>\n",
              "  </tbody>\n",
              "</table>\n",
              "</div>"
            ],
            "text/plain": [
              "   key  lval  rval\n",
              "0  foo     1     4\n",
              "1  foo     1     5\n",
              "2  foo     2     4\n",
              "3  foo     2     5"
            ]
          },
          "metadata": {
            "tags": []
          },
          "execution_count": 98
        }
      ]
    },
    {
      "cell_type": "markdown",
      "metadata": {
        "id": "x9hvf8RvrL_f"
      },
      "source": [
        "다른 예시이다."
      ]
    },
    {
      "cell_type": "code",
      "metadata": {
        "id": "qDJqnSK5rNpn",
        "outputId": "bc9f350d-976b-4295-eee4-9d4d71e568a2",
        "colab": {
          "base_uri": "https://localhost:8080/",
          "height": 111
        }
      },
      "source": [
        "left = pd.DataFrame({'key' : ['foo', 'bar'], 'lval' : [1, 2]})\n",
        "left"
      ],
      "execution_count": 99,
      "outputs": [
        {
          "output_type": "execute_result",
          "data": {
            "text/html": [
              "<div>\n",
              "<style scoped>\n",
              "    .dataframe tbody tr th:only-of-type {\n",
              "        vertical-align: middle;\n",
              "    }\n",
              "\n",
              "    .dataframe tbody tr th {\n",
              "        vertical-align: top;\n",
              "    }\n",
              "\n",
              "    .dataframe thead th {\n",
              "        text-align: right;\n",
              "    }\n",
              "</style>\n",
              "<table border=\"1\" class=\"dataframe\">\n",
              "  <thead>\n",
              "    <tr style=\"text-align: right;\">\n",
              "      <th></th>\n",
              "      <th>key</th>\n",
              "      <th>lval</th>\n",
              "    </tr>\n",
              "  </thead>\n",
              "  <tbody>\n",
              "    <tr>\n",
              "      <th>0</th>\n",
              "      <td>foo</td>\n",
              "      <td>1</td>\n",
              "    </tr>\n",
              "    <tr>\n",
              "      <th>1</th>\n",
              "      <td>bar</td>\n",
              "      <td>2</td>\n",
              "    </tr>\n",
              "  </tbody>\n",
              "</table>\n",
              "</div>"
            ],
            "text/plain": [
              "   key  lval\n",
              "0  foo     1\n",
              "1  bar     2"
            ]
          },
          "metadata": {
            "tags": []
          },
          "execution_count": 99
        }
      ]
    },
    {
      "cell_type": "code",
      "metadata": {
        "id": "1vV3BLeQrPsn",
        "outputId": "8ac82f58-e6e1-4143-fe52-827b42d6b625",
        "colab": {
          "base_uri": "https://localhost:8080/",
          "height": 111
        }
      },
      "source": [
        "right = pd.DataFrame({'key': ['foo', 'bar'], 'rval': [4, 5]})\n",
        "right"
      ],
      "execution_count": 100,
      "outputs": [
        {
          "output_type": "execute_result",
          "data": {
            "text/html": [
              "<div>\n",
              "<style scoped>\n",
              "    .dataframe tbody tr th:only-of-type {\n",
              "        vertical-align: middle;\n",
              "    }\n",
              "\n",
              "    .dataframe tbody tr th {\n",
              "        vertical-align: top;\n",
              "    }\n",
              "\n",
              "    .dataframe thead th {\n",
              "        text-align: right;\n",
              "    }\n",
              "</style>\n",
              "<table border=\"1\" class=\"dataframe\">\n",
              "  <thead>\n",
              "    <tr style=\"text-align: right;\">\n",
              "      <th></th>\n",
              "      <th>key</th>\n",
              "      <th>rval</th>\n",
              "    </tr>\n",
              "  </thead>\n",
              "  <tbody>\n",
              "    <tr>\n",
              "      <th>0</th>\n",
              "      <td>foo</td>\n",
              "      <td>4</td>\n",
              "    </tr>\n",
              "    <tr>\n",
              "      <th>1</th>\n",
              "      <td>bar</td>\n",
              "      <td>5</td>\n",
              "    </tr>\n",
              "  </tbody>\n",
              "</table>\n",
              "</div>"
            ],
            "text/plain": [
              "   key  rval\n",
              "0  foo     4\n",
              "1  bar     5"
            ]
          },
          "metadata": {
            "tags": []
          },
          "execution_count": 100
        }
      ]
    },
    {
      "cell_type": "code",
      "metadata": {
        "id": "RohtP3mOrR_H",
        "outputId": "22f59d5f-d702-4e25-8e55-e5a3fc9db3cb",
        "colab": {
          "base_uri": "https://localhost:8080/",
          "height": 111
        }
      },
      "source": [
        "pd.merge(left, right, on= 'key')"
      ],
      "execution_count": 101,
      "outputs": [
        {
          "output_type": "execute_result",
          "data": {
            "text/html": [
              "<div>\n",
              "<style scoped>\n",
              "    .dataframe tbody tr th:only-of-type {\n",
              "        vertical-align: middle;\n",
              "    }\n",
              "\n",
              "    .dataframe tbody tr th {\n",
              "        vertical-align: top;\n",
              "    }\n",
              "\n",
              "    .dataframe thead th {\n",
              "        text-align: right;\n",
              "    }\n",
              "</style>\n",
              "<table border=\"1\" class=\"dataframe\">\n",
              "  <thead>\n",
              "    <tr style=\"text-align: right;\">\n",
              "      <th></th>\n",
              "      <th>key</th>\n",
              "      <th>lval</th>\n",
              "      <th>rval</th>\n",
              "    </tr>\n",
              "  </thead>\n",
              "  <tbody>\n",
              "    <tr>\n",
              "      <th>0</th>\n",
              "      <td>foo</td>\n",
              "      <td>1</td>\n",
              "      <td>4</td>\n",
              "    </tr>\n",
              "    <tr>\n",
              "      <th>1</th>\n",
              "      <td>bar</td>\n",
              "      <td>2</td>\n",
              "      <td>5</td>\n",
              "    </tr>\n",
              "  </tbody>\n",
              "</table>\n",
              "</div>"
            ],
            "text/plain": [
              "   key  lval  rval\n",
              "0  foo     1     4\n",
              "1  bar     2     5"
            ]
          },
          "metadata": {
            "tags": []
          },
          "execution_count": 101
        }
      ]
    },
    {
      "cell_type": "markdown",
      "metadata": {
        "id": "S2n7jW45rZhR"
      },
      "source": [
        "### 6-3) 추가 (Append)"
      ]
    },
    {
      "cell_type": "markdown",
      "metadata": {
        "id": "a0f5BKm7rhfd"
      },
      "source": [
        "[Appending rows to a DataFrame](https://pandas.pydata.org/pandas-docs/stable/user_guide/merging.html#appending-rows-to-a-dataframe)  \n",
        "데이터프레임에 행을 추가한다."
      ]
    },
    {
      "cell_type": "code",
      "metadata": {
        "id": "YnFqZLWqroWF",
        "outputId": "7fe65abe-31e6-4290-ddb4-0160f3b4fb79",
        "colab": {
          "base_uri": "https://localhost:8080/",
          "height": 297
        }
      },
      "source": [
        "df = pd.DataFrame(np.random.randn(8, 4), columns=['A', 'B', 'C', 'D'])\n",
        "df"
      ],
      "execution_count": 102,
      "outputs": [
        {
          "output_type": "execute_result",
          "data": {
            "text/html": [
              "<div>\n",
              "<style scoped>\n",
              "    .dataframe tbody tr th:only-of-type {\n",
              "        vertical-align: middle;\n",
              "    }\n",
              "\n",
              "    .dataframe tbody tr th {\n",
              "        vertical-align: top;\n",
              "    }\n",
              "\n",
              "    .dataframe thead th {\n",
              "        text-align: right;\n",
              "    }\n",
              "</style>\n",
              "<table border=\"1\" class=\"dataframe\">\n",
              "  <thead>\n",
              "    <tr style=\"text-align: right;\">\n",
              "      <th></th>\n",
              "      <th>A</th>\n",
              "      <th>B</th>\n",
              "      <th>C</th>\n",
              "      <th>D</th>\n",
              "    </tr>\n",
              "  </thead>\n",
              "  <tbody>\n",
              "    <tr>\n",
              "      <th>0</th>\n",
              "      <td>0.061291</td>\n",
              "      <td>1.294748</td>\n",
              "      <td>1.034918</td>\n",
              "      <td>1.133735</td>\n",
              "    </tr>\n",
              "    <tr>\n",
              "      <th>1</th>\n",
              "      <td>0.350266</td>\n",
              "      <td>0.612054</td>\n",
              "      <td>-0.184834</td>\n",
              "      <td>-0.349107</td>\n",
              "    </tr>\n",
              "    <tr>\n",
              "      <th>2</th>\n",
              "      <td>0.161551</td>\n",
              "      <td>1.173609</td>\n",
              "      <td>1.759626</td>\n",
              "      <td>-0.416150</td>\n",
              "    </tr>\n",
              "    <tr>\n",
              "      <th>3</th>\n",
              "      <td>0.208048</td>\n",
              "      <td>2.164734</td>\n",
              "      <td>-0.798397</td>\n",
              "      <td>1.449171</td>\n",
              "    </tr>\n",
              "    <tr>\n",
              "      <th>4</th>\n",
              "      <td>-0.777391</td>\n",
              "      <td>-1.097352</td>\n",
              "      <td>1.458079</td>\n",
              "      <td>2.725382</td>\n",
              "    </tr>\n",
              "    <tr>\n",
              "      <th>5</th>\n",
              "      <td>-1.336344</td>\n",
              "      <td>1.087275</td>\n",
              "      <td>0.883582</td>\n",
              "      <td>-0.455446</td>\n",
              "    </tr>\n",
              "    <tr>\n",
              "      <th>6</th>\n",
              "      <td>0.937276</td>\n",
              "      <td>-1.917829</td>\n",
              "      <td>0.637797</td>\n",
              "      <td>-1.077501</td>\n",
              "    </tr>\n",
              "    <tr>\n",
              "      <th>7</th>\n",
              "      <td>0.721358</td>\n",
              "      <td>2.959415</td>\n",
              "      <td>0.398118</td>\n",
              "      <td>-0.245919</td>\n",
              "    </tr>\n",
              "  </tbody>\n",
              "</table>\n",
              "</div>"
            ],
            "text/plain": [
              "          A         B         C         D\n",
              "0  0.061291  1.294748  1.034918  1.133735\n",
              "1  0.350266  0.612054 -0.184834 -0.349107\n",
              "2  0.161551  1.173609  1.759626 -0.416150\n",
              "3  0.208048  2.164734 -0.798397  1.449171\n",
              "4 -0.777391 -1.097352  1.458079  2.725382\n",
              "5 -1.336344  1.087275  0.883582 -0.455446\n",
              "6  0.937276 -1.917829  0.637797 -1.077501\n",
              "7  0.721358  2.959415  0.398118 -0.245919"
            ]
          },
          "metadata": {
            "tags": []
          },
          "execution_count": 102
        }
      ]
    },
    {
      "cell_type": "code",
      "metadata": {
        "id": "nnLQCrkyrsFX",
        "outputId": "c5012287-6ea5-416a-efd7-fde5aad45ac0",
        "colab": {
          "base_uri": "https://localhost:8080/",
          "height": 328
        }
      },
      "source": [
        "s = df.iloc[3]\n",
        "df.append(s, ignore_index=True)"
      ],
      "execution_count": 103,
      "outputs": [
        {
          "output_type": "execute_result",
          "data": {
            "text/html": [
              "<div>\n",
              "<style scoped>\n",
              "    .dataframe tbody tr th:only-of-type {\n",
              "        vertical-align: middle;\n",
              "    }\n",
              "\n",
              "    .dataframe tbody tr th {\n",
              "        vertical-align: top;\n",
              "    }\n",
              "\n",
              "    .dataframe thead th {\n",
              "        text-align: right;\n",
              "    }\n",
              "</style>\n",
              "<table border=\"1\" class=\"dataframe\">\n",
              "  <thead>\n",
              "    <tr style=\"text-align: right;\">\n",
              "      <th></th>\n",
              "      <th>A</th>\n",
              "      <th>B</th>\n",
              "      <th>C</th>\n",
              "      <th>D</th>\n",
              "    </tr>\n",
              "  </thead>\n",
              "  <tbody>\n",
              "    <tr>\n",
              "      <th>0</th>\n",
              "      <td>0.061291</td>\n",
              "      <td>1.294748</td>\n",
              "      <td>1.034918</td>\n",
              "      <td>1.133735</td>\n",
              "    </tr>\n",
              "    <tr>\n",
              "      <th>1</th>\n",
              "      <td>0.350266</td>\n",
              "      <td>0.612054</td>\n",
              "      <td>-0.184834</td>\n",
              "      <td>-0.349107</td>\n",
              "    </tr>\n",
              "    <tr>\n",
              "      <th>2</th>\n",
              "      <td>0.161551</td>\n",
              "      <td>1.173609</td>\n",
              "      <td>1.759626</td>\n",
              "      <td>-0.416150</td>\n",
              "    </tr>\n",
              "    <tr>\n",
              "      <th>3</th>\n",
              "      <td>0.208048</td>\n",
              "      <td>2.164734</td>\n",
              "      <td>-0.798397</td>\n",
              "      <td>1.449171</td>\n",
              "    </tr>\n",
              "    <tr>\n",
              "      <th>4</th>\n",
              "      <td>-0.777391</td>\n",
              "      <td>-1.097352</td>\n",
              "      <td>1.458079</td>\n",
              "      <td>2.725382</td>\n",
              "    </tr>\n",
              "    <tr>\n",
              "      <th>5</th>\n",
              "      <td>-1.336344</td>\n",
              "      <td>1.087275</td>\n",
              "      <td>0.883582</td>\n",
              "      <td>-0.455446</td>\n",
              "    </tr>\n",
              "    <tr>\n",
              "      <th>6</th>\n",
              "      <td>0.937276</td>\n",
              "      <td>-1.917829</td>\n",
              "      <td>0.637797</td>\n",
              "      <td>-1.077501</td>\n",
              "    </tr>\n",
              "    <tr>\n",
              "      <th>7</th>\n",
              "      <td>0.721358</td>\n",
              "      <td>2.959415</td>\n",
              "      <td>0.398118</td>\n",
              "      <td>-0.245919</td>\n",
              "    </tr>\n",
              "    <tr>\n",
              "      <th>8</th>\n",
              "      <td>0.208048</td>\n",
              "      <td>2.164734</td>\n",
              "      <td>-0.798397</td>\n",
              "      <td>1.449171</td>\n",
              "    </tr>\n",
              "  </tbody>\n",
              "</table>\n",
              "</div>"
            ],
            "text/plain": [
              "          A         B         C         D\n",
              "0  0.061291  1.294748  1.034918  1.133735\n",
              "1  0.350266  0.612054 -0.184834 -0.349107\n",
              "2  0.161551  1.173609  1.759626 -0.416150\n",
              "3  0.208048  2.164734 -0.798397  1.449171\n",
              "4 -0.777391 -1.097352  1.458079  2.725382\n",
              "5 -1.336344  1.087275  0.883582 -0.455446\n",
              "6  0.937276 -1.917829  0.637797 -1.077501\n",
              "7  0.721358  2.959415  0.398118 -0.245919\n",
              "8  0.208048  2.164734 -0.798397  1.449171"
            ]
          },
          "metadata": {
            "tags": []
          },
          "execution_count": 103
        }
      ]
    },
    {
      "cell_type": "markdown",
      "metadata": {
        "id": "VyRzJG82sdFX"
      },
      "source": [
        "## 7) 그룹화 (Grouping)"
      ]
    },
    {
      "cell_type": "markdown",
      "metadata": {
        "id": "hgxh5wQasg59"
      },
      "source": [
        "[그룹화(Group by: split-apply-combine)](https://pandas.pydata.org/pandas-docs/stable/user_guide/groupby.html)는 다음 단계 중 하나 이상을 포함하는 과정을 가리킨다.\n",
        "\n",
        "- 몇몇 기준에 따라 여러 그룹으로 데이터를 분할 (splitting)  \n",
        "- 각 그룹에 독립적으로 함수를 적용 (applying)  \n",
        "- 결과물들을 하나의 데이터 구조로 결합 (combining)"
      ]
    },
    {
      "cell_type": "code",
      "metadata": {
        "id": "ARwInDWGsw_F",
        "outputId": "8937b7cd-2bb3-4da5-ff09-97b7d23b2375",
        "colab": {
          "base_uri": "https://localhost:8080/",
          "height": 297
        }
      },
      "source": [
        "df = pd.DataFrame(\n",
        "    {\n",
        "        'A' : ['foo', 'bar', 'foo', 'bar', 'foo', 'bar', 'foo', 'foo'],\n",
        "        'B' : ['one', 'one', 'two', 'three', 'two', 'two', 'one', 'three'],\n",
        "        'C' : np.random.randn(8),\n",
        "        'D' : np.random.randn(8)\n",
        "    })\n",
        "df"
      ],
      "execution_count": 104,
      "outputs": [
        {
          "output_type": "execute_result",
          "data": {
            "text/html": [
              "<div>\n",
              "<style scoped>\n",
              "    .dataframe tbody tr th:only-of-type {\n",
              "        vertical-align: middle;\n",
              "    }\n",
              "\n",
              "    .dataframe tbody tr th {\n",
              "        vertical-align: top;\n",
              "    }\n",
              "\n",
              "    .dataframe thead th {\n",
              "        text-align: right;\n",
              "    }\n",
              "</style>\n",
              "<table border=\"1\" class=\"dataframe\">\n",
              "  <thead>\n",
              "    <tr style=\"text-align: right;\">\n",
              "      <th></th>\n",
              "      <th>A</th>\n",
              "      <th>B</th>\n",
              "      <th>C</th>\n",
              "      <th>D</th>\n",
              "    </tr>\n",
              "  </thead>\n",
              "  <tbody>\n",
              "    <tr>\n",
              "      <th>0</th>\n",
              "      <td>foo</td>\n",
              "      <td>one</td>\n",
              "      <td>-0.531629</td>\n",
              "      <td>-0.841219</td>\n",
              "    </tr>\n",
              "    <tr>\n",
              "      <th>1</th>\n",
              "      <td>bar</td>\n",
              "      <td>one</td>\n",
              "      <td>0.847370</td>\n",
              "      <td>-0.702148</td>\n",
              "    </tr>\n",
              "    <tr>\n",
              "      <th>2</th>\n",
              "      <td>foo</td>\n",
              "      <td>two</td>\n",
              "      <td>-3.025496</td>\n",
              "      <td>-0.458174</td>\n",
              "    </tr>\n",
              "    <tr>\n",
              "      <th>3</th>\n",
              "      <td>bar</td>\n",
              "      <td>three</td>\n",
              "      <td>-0.317416</td>\n",
              "      <td>-1.938912</td>\n",
              "    </tr>\n",
              "    <tr>\n",
              "      <th>4</th>\n",
              "      <td>foo</td>\n",
              "      <td>two</td>\n",
              "      <td>-0.128090</td>\n",
              "      <td>-0.880979</td>\n",
              "    </tr>\n",
              "    <tr>\n",
              "      <th>5</th>\n",
              "      <td>bar</td>\n",
              "      <td>two</td>\n",
              "      <td>-1.918498</td>\n",
              "      <td>0.091863</td>\n",
              "    </tr>\n",
              "    <tr>\n",
              "      <th>6</th>\n",
              "      <td>foo</td>\n",
              "      <td>one</td>\n",
              "      <td>-1.142854</td>\n",
              "      <td>0.159617</td>\n",
              "    </tr>\n",
              "    <tr>\n",
              "      <th>7</th>\n",
              "      <td>foo</td>\n",
              "      <td>three</td>\n",
              "      <td>-1.046234</td>\n",
              "      <td>0.334159</td>\n",
              "    </tr>\n",
              "  </tbody>\n",
              "</table>\n",
              "</div>"
            ],
            "text/plain": [
              "     A      B         C         D\n",
              "0  foo    one -0.531629 -0.841219\n",
              "1  bar    one  0.847370 -0.702148\n",
              "2  foo    two -3.025496 -0.458174\n",
              "3  bar  three -0.317416 -1.938912\n",
              "4  foo    two -0.128090 -0.880979\n",
              "5  bar    two -1.918498  0.091863\n",
              "6  foo    one -1.142854  0.159617\n",
              "7  foo  three -1.046234  0.334159"
            ]
          },
          "metadata": {
            "tags": []
          },
          "execution_count": 104
        }
      ]
    },
    {
      "cell_type": "markdown",
      "metadata": {
        "id": "bhfAS-zJsz3Z"
      },
      "source": [
        "생성된 데이터프레임을 그룹화한 후 각 그룹에 sum() 함수를 적용한다."
      ]
    },
    {
      "cell_type": "code",
      "metadata": {
        "id": "GR9cTZIvs1Vo",
        "outputId": "0273b31a-ef1f-468d-94ff-501a696f59e2",
        "colab": {
          "base_uri": "https://localhost:8080/",
          "height": 142
        }
      },
      "source": [
        "df.groupby('A').sum()"
      ],
      "execution_count": 105,
      "outputs": [
        {
          "output_type": "execute_result",
          "data": {
            "text/html": [
              "<div>\n",
              "<style scoped>\n",
              "    .dataframe tbody tr th:only-of-type {\n",
              "        vertical-align: middle;\n",
              "    }\n",
              "\n",
              "    .dataframe tbody tr th {\n",
              "        vertical-align: top;\n",
              "    }\n",
              "\n",
              "    .dataframe thead th {\n",
              "        text-align: right;\n",
              "    }\n",
              "</style>\n",
              "<table border=\"1\" class=\"dataframe\">\n",
              "  <thead>\n",
              "    <tr style=\"text-align: right;\">\n",
              "      <th></th>\n",
              "      <th>C</th>\n",
              "      <th>D</th>\n",
              "    </tr>\n",
              "    <tr>\n",
              "      <th>A</th>\n",
              "      <th></th>\n",
              "      <th></th>\n",
              "    </tr>\n",
              "  </thead>\n",
              "  <tbody>\n",
              "    <tr>\n",
              "      <th>bar</th>\n",
              "      <td>-1.388545</td>\n",
              "      <td>-2.549197</td>\n",
              "    </tr>\n",
              "    <tr>\n",
              "      <th>foo</th>\n",
              "      <td>-5.874302</td>\n",
              "      <td>-1.686597</td>\n",
              "    </tr>\n",
              "  </tbody>\n",
              "</table>\n",
              "</div>"
            ],
            "text/plain": [
              "            C         D\n",
              "A                      \n",
              "bar -1.388545 -2.549197\n",
              "foo -5.874302 -1.686597"
            ]
          },
          "metadata": {
            "tags": []
          },
          "execution_count": 105
        }
      ]
    },
    {
      "cell_type": "markdown",
      "metadata": {
        "id": "6pSWLXT4s3C3"
      },
      "source": [
        "여러 열을 기준으로 그룹화하면 계층적 인덱스가 형성된다.  \n",
        "여기에도 sum 함수를 적용할 수 있다."
      ]
    },
    {
      "cell_type": "code",
      "metadata": {
        "id": "tLKJPSVns6Yp",
        "outputId": "7e6e7ca9-a8f6-4bc5-b8ae-954c1bdbc902",
        "colab": {
          "base_uri": "https://localhost:8080/",
          "height": 266
        }
      },
      "source": [
        "df.groupby(['A','B']).sum()"
      ],
      "execution_count": 106,
      "outputs": [
        {
          "output_type": "execute_result",
          "data": {
            "text/html": [
              "<div>\n",
              "<style scoped>\n",
              "    .dataframe tbody tr th:only-of-type {\n",
              "        vertical-align: middle;\n",
              "    }\n",
              "\n",
              "    .dataframe tbody tr th {\n",
              "        vertical-align: top;\n",
              "    }\n",
              "\n",
              "    .dataframe thead th {\n",
              "        text-align: right;\n",
              "    }\n",
              "</style>\n",
              "<table border=\"1\" class=\"dataframe\">\n",
              "  <thead>\n",
              "    <tr style=\"text-align: right;\">\n",
              "      <th></th>\n",
              "      <th></th>\n",
              "      <th>C</th>\n",
              "      <th>D</th>\n",
              "    </tr>\n",
              "    <tr>\n",
              "      <th>A</th>\n",
              "      <th>B</th>\n",
              "      <th></th>\n",
              "      <th></th>\n",
              "    </tr>\n",
              "  </thead>\n",
              "  <tbody>\n",
              "    <tr>\n",
              "      <th rowspan=\"3\" valign=\"top\">bar</th>\n",
              "      <th>one</th>\n",
              "      <td>0.847370</td>\n",
              "      <td>-0.702148</td>\n",
              "    </tr>\n",
              "    <tr>\n",
              "      <th>three</th>\n",
              "      <td>-0.317416</td>\n",
              "      <td>-1.938912</td>\n",
              "    </tr>\n",
              "    <tr>\n",
              "      <th>two</th>\n",
              "      <td>-1.918498</td>\n",
              "      <td>0.091863</td>\n",
              "    </tr>\n",
              "    <tr>\n",
              "      <th rowspan=\"3\" valign=\"top\">foo</th>\n",
              "      <th>one</th>\n",
              "      <td>-1.674483</td>\n",
              "      <td>-0.681602</td>\n",
              "    </tr>\n",
              "    <tr>\n",
              "      <th>three</th>\n",
              "      <td>-1.046234</td>\n",
              "      <td>0.334159</td>\n",
              "    </tr>\n",
              "    <tr>\n",
              "      <th>two</th>\n",
              "      <td>-3.153585</td>\n",
              "      <td>-1.339153</td>\n",
              "    </tr>\n",
              "  </tbody>\n",
              "</table>\n",
              "</div>"
            ],
            "text/plain": [
              "                  C         D\n",
              "A   B                        \n",
              "bar one    0.847370 -0.702148\n",
              "    three -0.317416 -1.938912\n",
              "    two   -1.918498  0.091863\n",
              "foo one   -1.674483 -0.681602\n",
              "    three -1.046234  0.334159\n",
              "    two   -3.153585 -1.339153"
            ]
          },
          "metadata": {
            "tags": []
          },
          "execution_count": 106
        }
      ]
    },
    {
      "cell_type": "markdown",
      "metadata": {
        "id": "H75_Ftwjs9Fd"
      },
      "source": [
        "## 8) 변형 (Reshaping)"
      ]
    },
    {
      "cell_type": "markdown",
      "metadata": {
        "id": "-bcRoHvys_3l"
      },
      "source": [
        "[계층적 인덱싱 (Advanced indexing with hierarchical index)](https://pandas.pydata.org/pandas-docs/stable/user_guide/advanced.html#advanced-indexing-with-hierarchical-index)  \n",
        "[변형 (Reshaping by stacking and unstacking)](https://pandas.pydata.org/pandas-docs/stable/user_guide/reshaping.html#reshaping-by-stacking-and-unstacking)"
      ]
    },
    {
      "cell_type": "markdown",
      "metadata": {
        "id": "OvImWdBJtbrF"
      },
      "source": [
        "### 8-1) 스택 (Stack)"
      ]
    },
    {
      "cell_type": "code",
      "metadata": {
        "id": "RXq6myf3thMy",
        "outputId": "929c454a-a8ba-45f3-a6e1-2237064bbe3b",
        "colab": {
          "base_uri": "https://localhost:8080/",
          "height": 204
        }
      },
      "source": [
        "tuples = list(zip(*[['bar', 'bar', 'baz', 'baz',\n",
        "                     'foo', 'foo', 'qux', 'qux'],\n",
        "                    ['one', 'two', 'one', 'two',\n",
        "                     'one', 'two', 'one', 'two']]))\n",
        "index = pd.MultiIndex.from_tuples(tuples, names=['first', 'second'])\n",
        "df = pd.DataFrame(np.random.randn(8, 2), index=index, columns=['A', 'B'])\n",
        "df2  =  df[:4]\n",
        "df2"
      ],
      "execution_count": 107,
      "outputs": [
        {
          "output_type": "execute_result",
          "data": {
            "text/html": [
              "<div>\n",
              "<style scoped>\n",
              "    .dataframe tbody tr th:only-of-type {\n",
              "        vertical-align: middle;\n",
              "    }\n",
              "\n",
              "    .dataframe tbody tr th {\n",
              "        vertical-align: top;\n",
              "    }\n",
              "\n",
              "    .dataframe thead th {\n",
              "        text-align: right;\n",
              "    }\n",
              "</style>\n",
              "<table border=\"1\" class=\"dataframe\">\n",
              "  <thead>\n",
              "    <tr style=\"text-align: right;\">\n",
              "      <th></th>\n",
              "      <th></th>\n",
              "      <th>A</th>\n",
              "      <th>B</th>\n",
              "    </tr>\n",
              "    <tr>\n",
              "      <th>first</th>\n",
              "      <th>second</th>\n",
              "      <th></th>\n",
              "      <th></th>\n",
              "    </tr>\n",
              "  </thead>\n",
              "  <tbody>\n",
              "    <tr>\n",
              "      <th rowspan=\"2\" valign=\"top\">bar</th>\n",
              "      <th>one</th>\n",
              "      <td>0.779699</td>\n",
              "      <td>-0.960938</td>\n",
              "    </tr>\n",
              "    <tr>\n",
              "      <th>two</th>\n",
              "      <td>1.442232</td>\n",
              "      <td>-0.931635</td>\n",
              "    </tr>\n",
              "    <tr>\n",
              "      <th rowspan=\"2\" valign=\"top\">baz</th>\n",
              "      <th>one</th>\n",
              "      <td>-0.185774</td>\n",
              "      <td>-0.529952</td>\n",
              "    </tr>\n",
              "    <tr>\n",
              "      <th>two</th>\n",
              "      <td>-0.794478</td>\n",
              "      <td>0.736231</td>\n",
              "    </tr>\n",
              "  </tbody>\n",
              "</table>\n",
              "</div>"
            ],
            "text/plain": [
              "                     A         B\n",
              "first second                    \n",
              "bar   one     0.779699 -0.960938\n",
              "      two     1.442232 -0.931635\n",
              "baz   one    -0.185774 -0.529952\n",
              "      two    -0.794478  0.736231"
            ]
          },
          "metadata": {
            "tags": []
          },
          "execution_count": 107
        }
      ]
    },
    {
      "cell_type": "markdown",
      "metadata": {
        "id": "PoQyNzl6tlGd"
      },
      "source": [
        "[stack()](https://pandas.pydata.org/pandas-docs/stable/reference/api/pandas.DataFrame.stack.html) 메소드는 데이터프레임 열들의 계층을 \"압축\"한다."
      ]
    },
    {
      "cell_type": "code",
      "metadata": {
        "id": "AH4ledTftsVg",
        "outputId": "a92fdf65-e121-4e0b-bebc-4b25eb6703d7",
        "colab": {
          "base_uri": "https://localhost:8080/"
        }
      },
      "source": [
        "stacked = df2.stack()\n",
        "stacked"
      ],
      "execution_count": 108,
      "outputs": [
        {
          "output_type": "execute_result",
          "data": {
            "text/plain": [
              "first  second   \n",
              "bar    one     A    0.779699\n",
              "               B   -0.960938\n",
              "       two     A    1.442232\n",
              "               B   -0.931635\n",
              "baz    one     A   -0.185774\n",
              "               B   -0.529952\n",
              "       two     A   -0.794478\n",
              "               B    0.736231\n",
              "dtype: float64"
            ]
          },
          "metadata": {
            "tags": []
          },
          "execution_count": 108
        }
      ]
    },
    {
      "cell_type": "markdown",
      "metadata": {
        "id": "Vbsc6_mZt2P8"
      },
      "source": [
        "\"Stack된\" 데이터프레임 또는 (MultiIndex를 인덱스로 사용하는) Series인 경우, stack()의 역 연산은 [unstack()](https://pandas.pydata.org/pandas-docs/stable/reference/api/pandas.DataFrame.unstack.html)이며, 기본적으로 마지막 계층을 unstack합니다."
      ]
    },
    {
      "cell_type": "code",
      "metadata": {
        "id": "xTeDYQRIt-_a",
        "outputId": "800811a4-9e86-4cd5-f68f-5fdc4e5b67f2",
        "colab": {
          "base_uri": "https://localhost:8080/",
          "height": 204
        }
      },
      "source": [
        "stacked.unstack()"
      ],
      "execution_count": 109,
      "outputs": [
        {
          "output_type": "execute_result",
          "data": {
            "text/html": [
              "<div>\n",
              "<style scoped>\n",
              "    .dataframe tbody tr th:only-of-type {\n",
              "        vertical-align: middle;\n",
              "    }\n",
              "\n",
              "    .dataframe tbody tr th {\n",
              "        vertical-align: top;\n",
              "    }\n",
              "\n",
              "    .dataframe thead th {\n",
              "        text-align: right;\n",
              "    }\n",
              "</style>\n",
              "<table border=\"1\" class=\"dataframe\">\n",
              "  <thead>\n",
              "    <tr style=\"text-align: right;\">\n",
              "      <th></th>\n",
              "      <th></th>\n",
              "      <th>A</th>\n",
              "      <th>B</th>\n",
              "    </tr>\n",
              "    <tr>\n",
              "      <th>first</th>\n",
              "      <th>second</th>\n",
              "      <th></th>\n",
              "      <th></th>\n",
              "    </tr>\n",
              "  </thead>\n",
              "  <tbody>\n",
              "    <tr>\n",
              "      <th rowspan=\"2\" valign=\"top\">bar</th>\n",
              "      <th>one</th>\n",
              "      <td>0.779699</td>\n",
              "      <td>-0.960938</td>\n",
              "    </tr>\n",
              "    <tr>\n",
              "      <th>two</th>\n",
              "      <td>1.442232</td>\n",
              "      <td>-0.931635</td>\n",
              "    </tr>\n",
              "    <tr>\n",
              "      <th rowspan=\"2\" valign=\"top\">baz</th>\n",
              "      <th>one</th>\n",
              "      <td>-0.185774</td>\n",
              "      <td>-0.529952</td>\n",
              "    </tr>\n",
              "    <tr>\n",
              "      <th>two</th>\n",
              "      <td>-0.794478</td>\n",
              "      <td>0.736231</td>\n",
              "    </tr>\n",
              "  </tbody>\n",
              "</table>\n",
              "</div>"
            ],
            "text/plain": [
              "                     A         B\n",
              "first second                    \n",
              "bar   one     0.779699 -0.960938\n",
              "      two     1.442232 -0.931635\n",
              "baz   one    -0.185774 -0.529952\n",
              "      two    -0.794478  0.736231"
            ]
          },
          "metadata": {
            "tags": []
          },
          "execution_count": 109
        }
      ]
    },
    {
      "cell_type": "code",
      "metadata": {
        "id": "oIWysrahuACv",
        "outputId": "69653ce2-a536-4d1f-ba62-6577c396d901",
        "colab": {
          "base_uri": "https://localhost:8080/",
          "height": 204
        }
      },
      "source": [
        "stacked.unstack(1)"
      ],
      "execution_count": 110,
      "outputs": [
        {
          "output_type": "execute_result",
          "data": {
            "text/html": [
              "<div>\n",
              "<style scoped>\n",
              "    .dataframe tbody tr th:only-of-type {\n",
              "        vertical-align: middle;\n",
              "    }\n",
              "\n",
              "    .dataframe tbody tr th {\n",
              "        vertical-align: top;\n",
              "    }\n",
              "\n",
              "    .dataframe thead th {\n",
              "        text-align: right;\n",
              "    }\n",
              "</style>\n",
              "<table border=\"1\" class=\"dataframe\">\n",
              "  <thead>\n",
              "    <tr style=\"text-align: right;\">\n",
              "      <th></th>\n",
              "      <th>second</th>\n",
              "      <th>one</th>\n",
              "      <th>two</th>\n",
              "    </tr>\n",
              "    <tr>\n",
              "      <th>first</th>\n",
              "      <th></th>\n",
              "      <th></th>\n",
              "      <th></th>\n",
              "    </tr>\n",
              "  </thead>\n",
              "  <tbody>\n",
              "    <tr>\n",
              "      <th rowspan=\"2\" valign=\"top\">bar</th>\n",
              "      <th>A</th>\n",
              "      <td>0.779699</td>\n",
              "      <td>1.442232</td>\n",
              "    </tr>\n",
              "    <tr>\n",
              "      <th>B</th>\n",
              "      <td>-0.960938</td>\n",
              "      <td>-0.931635</td>\n",
              "    </tr>\n",
              "    <tr>\n",
              "      <th rowspan=\"2\" valign=\"top\">baz</th>\n",
              "      <th>A</th>\n",
              "      <td>-0.185774</td>\n",
              "      <td>-0.794478</td>\n",
              "    </tr>\n",
              "    <tr>\n",
              "      <th>B</th>\n",
              "      <td>-0.529952</td>\n",
              "      <td>0.736231</td>\n",
              "    </tr>\n",
              "  </tbody>\n",
              "</table>\n",
              "</div>"
            ],
            "text/plain": [
              "second        one       two\n",
              "first                      \n",
              "bar   A  0.779699  1.442232\n",
              "      B -0.960938 -0.931635\n",
              "baz   A -0.185774 -0.794478\n",
              "      B -0.529952  0.736231"
            ]
          },
          "metadata": {
            "tags": []
          },
          "execution_count": 110
        }
      ]
    },
    {
      "cell_type": "code",
      "metadata": {
        "id": "VFJiXjguuCCx",
        "outputId": "ac1b4f17-d3ef-405c-e280-f5abfdd86374",
        "colab": {
          "base_uri": "https://localhost:8080/",
          "height": 204
        }
      },
      "source": [
        "stacked.unstack(0)"
      ],
      "execution_count": 111,
      "outputs": [
        {
          "output_type": "execute_result",
          "data": {
            "text/html": [
              "<div>\n",
              "<style scoped>\n",
              "    .dataframe tbody tr th:only-of-type {\n",
              "        vertical-align: middle;\n",
              "    }\n",
              "\n",
              "    .dataframe tbody tr th {\n",
              "        vertical-align: top;\n",
              "    }\n",
              "\n",
              "    .dataframe thead th {\n",
              "        text-align: right;\n",
              "    }\n",
              "</style>\n",
              "<table border=\"1\" class=\"dataframe\">\n",
              "  <thead>\n",
              "    <tr style=\"text-align: right;\">\n",
              "      <th></th>\n",
              "      <th>first</th>\n",
              "      <th>bar</th>\n",
              "      <th>baz</th>\n",
              "    </tr>\n",
              "    <tr>\n",
              "      <th>second</th>\n",
              "      <th></th>\n",
              "      <th></th>\n",
              "      <th></th>\n",
              "    </tr>\n",
              "  </thead>\n",
              "  <tbody>\n",
              "    <tr>\n",
              "      <th rowspan=\"2\" valign=\"top\">one</th>\n",
              "      <th>A</th>\n",
              "      <td>0.779699</td>\n",
              "      <td>-0.185774</td>\n",
              "    </tr>\n",
              "    <tr>\n",
              "      <th>B</th>\n",
              "      <td>-0.960938</td>\n",
              "      <td>-0.529952</td>\n",
              "    </tr>\n",
              "    <tr>\n",
              "      <th rowspan=\"2\" valign=\"top\">two</th>\n",
              "      <th>A</th>\n",
              "      <td>1.442232</td>\n",
              "      <td>-0.794478</td>\n",
              "    </tr>\n",
              "    <tr>\n",
              "      <th>B</th>\n",
              "      <td>-0.931635</td>\n",
              "      <td>0.736231</td>\n",
              "    </tr>\n",
              "  </tbody>\n",
              "</table>\n",
              "</div>"
            ],
            "text/plain": [
              "first          bar       baz\n",
              "second                      \n",
              "one    A  0.779699 -0.185774\n",
              "       B -0.960938 -0.529952\n",
              "two    A  1.442232 -0.794478\n",
              "       B -0.931635  0.736231"
            ]
          },
          "metadata": {
            "tags": []
          },
          "execution_count": 111
        }
      ]
    },
    {
      "cell_type": "markdown",
      "metadata": {
        "id": "fwIhlGzXuEt-"
      },
      "source": [
        "### 8-2) 피벗 테이블 (Pivot Tables)"
      ]
    },
    {
      "cell_type": "markdown",
      "metadata": {
        "id": "u65ynZBCuK2P"
      },
      "source": [
        "[Reshaping by pivoting DataFrame objects](https://pandas.pydata.org/pandas-docs/stable/user_guide/reshaping.html#reshaping-by-pivoting-dataframe-objects)"
      ]
    },
    {
      "cell_type": "code",
      "metadata": {
        "id": "-XFv3I6kuS94",
        "outputId": "ec999748-f25b-42d6-d1f4-06b4c6093974",
        "colab": {
          "base_uri": "https://localhost:8080/",
          "height": 421
        }
      },
      "source": [
        "df = pd.DataFrame({'A' : ['one', 'one', 'two', 'three'] * 3,\n",
        "                   'B' : ['A', 'B', 'C'] * 4,\n",
        "                   'C' : ['foo', 'foo', 'foo', 'bar', 'bar', 'bar'] * 2,\n",
        "                   'D' : np.random.randn(12),\n",
        "                   'E' : np.random.randn(12)})\n",
        "df"
      ],
      "execution_count": 112,
      "outputs": [
        {
          "output_type": "execute_result",
          "data": {
            "text/html": [
              "<div>\n",
              "<style scoped>\n",
              "    .dataframe tbody tr th:only-of-type {\n",
              "        vertical-align: middle;\n",
              "    }\n",
              "\n",
              "    .dataframe tbody tr th {\n",
              "        vertical-align: top;\n",
              "    }\n",
              "\n",
              "    .dataframe thead th {\n",
              "        text-align: right;\n",
              "    }\n",
              "</style>\n",
              "<table border=\"1\" class=\"dataframe\">\n",
              "  <thead>\n",
              "    <tr style=\"text-align: right;\">\n",
              "      <th></th>\n",
              "      <th>A</th>\n",
              "      <th>B</th>\n",
              "      <th>C</th>\n",
              "      <th>D</th>\n",
              "      <th>E</th>\n",
              "    </tr>\n",
              "  </thead>\n",
              "  <tbody>\n",
              "    <tr>\n",
              "      <th>0</th>\n",
              "      <td>one</td>\n",
              "      <td>A</td>\n",
              "      <td>foo</td>\n",
              "      <td>-0.388590</td>\n",
              "      <td>-0.092924</td>\n",
              "    </tr>\n",
              "    <tr>\n",
              "      <th>1</th>\n",
              "      <td>one</td>\n",
              "      <td>B</td>\n",
              "      <td>foo</td>\n",
              "      <td>0.096758</td>\n",
              "      <td>-1.404417</td>\n",
              "    </tr>\n",
              "    <tr>\n",
              "      <th>2</th>\n",
              "      <td>two</td>\n",
              "      <td>C</td>\n",
              "      <td>foo</td>\n",
              "      <td>0.235439</td>\n",
              "      <td>-1.441384</td>\n",
              "    </tr>\n",
              "    <tr>\n",
              "      <th>3</th>\n",
              "      <td>three</td>\n",
              "      <td>A</td>\n",
              "      <td>bar</td>\n",
              "      <td>1.644634</td>\n",
              "      <td>-1.404461</td>\n",
              "    </tr>\n",
              "    <tr>\n",
              "      <th>4</th>\n",
              "      <td>one</td>\n",
              "      <td>B</td>\n",
              "      <td>bar</td>\n",
              "      <td>-0.137766</td>\n",
              "      <td>-0.732040</td>\n",
              "    </tr>\n",
              "    <tr>\n",
              "      <th>5</th>\n",
              "      <td>one</td>\n",
              "      <td>C</td>\n",
              "      <td>bar</td>\n",
              "      <td>-0.385584</td>\n",
              "      <td>0.876041</td>\n",
              "    </tr>\n",
              "    <tr>\n",
              "      <th>6</th>\n",
              "      <td>two</td>\n",
              "      <td>A</td>\n",
              "      <td>foo</td>\n",
              "      <td>-1.144518</td>\n",
              "      <td>1.714938</td>\n",
              "    </tr>\n",
              "    <tr>\n",
              "      <th>7</th>\n",
              "      <td>three</td>\n",
              "      <td>B</td>\n",
              "      <td>foo</td>\n",
              "      <td>-0.287536</td>\n",
              "      <td>0.984071</td>\n",
              "    </tr>\n",
              "    <tr>\n",
              "      <th>8</th>\n",
              "      <td>one</td>\n",
              "      <td>C</td>\n",
              "      <td>foo</td>\n",
              "      <td>0.670096</td>\n",
              "      <td>-0.093942</td>\n",
              "    </tr>\n",
              "    <tr>\n",
              "      <th>9</th>\n",
              "      <td>one</td>\n",
              "      <td>A</td>\n",
              "      <td>bar</td>\n",
              "      <td>-0.540043</td>\n",
              "      <td>-0.589907</td>\n",
              "    </tr>\n",
              "    <tr>\n",
              "      <th>10</th>\n",
              "      <td>two</td>\n",
              "      <td>B</td>\n",
              "      <td>bar</td>\n",
              "      <td>1.116471</td>\n",
              "      <td>1.360887</td>\n",
              "    </tr>\n",
              "    <tr>\n",
              "      <th>11</th>\n",
              "      <td>three</td>\n",
              "      <td>C</td>\n",
              "      <td>bar</td>\n",
              "      <td>-0.751042</td>\n",
              "      <td>0.641450</td>\n",
              "    </tr>\n",
              "  </tbody>\n",
              "</table>\n",
              "</div>"
            ],
            "text/plain": [
              "        A  B    C         D         E\n",
              "0     one  A  foo -0.388590 -0.092924\n",
              "1     one  B  foo  0.096758 -1.404417\n",
              "2     two  C  foo  0.235439 -1.441384\n",
              "3   three  A  bar  1.644634 -1.404461\n",
              "4     one  B  bar -0.137766 -0.732040\n",
              "5     one  C  bar -0.385584  0.876041\n",
              "6     two  A  foo -1.144518  1.714938\n",
              "7   three  B  foo -0.287536  0.984071\n",
              "8     one  C  foo  0.670096 -0.093942\n",
              "9     one  A  bar -0.540043 -0.589907\n",
              "10    two  B  bar  1.116471  1.360887\n",
              "11  three  C  bar -0.751042  0.641450"
            ]
          },
          "metadata": {
            "tags": []
          },
          "execution_count": 112
        }
      ]
    },
    {
      "cell_type": "code",
      "metadata": {
        "id": "WPCD6GtOuVvg",
        "outputId": "d0307b57-8577-44da-a66d-9e88c4055cc3",
        "colab": {
          "base_uri": "https://localhost:8080/",
          "height": 359
        }
      },
      "source": [
        "pd.pivot_table(df, values='D', index=['A', 'B'], columns=['C'])"
      ],
      "execution_count": 113,
      "outputs": [
        {
          "output_type": "execute_result",
          "data": {
            "text/html": [
              "<div>\n",
              "<style scoped>\n",
              "    .dataframe tbody tr th:only-of-type {\n",
              "        vertical-align: middle;\n",
              "    }\n",
              "\n",
              "    .dataframe tbody tr th {\n",
              "        vertical-align: top;\n",
              "    }\n",
              "\n",
              "    .dataframe thead th {\n",
              "        text-align: right;\n",
              "    }\n",
              "</style>\n",
              "<table border=\"1\" class=\"dataframe\">\n",
              "  <thead>\n",
              "    <tr style=\"text-align: right;\">\n",
              "      <th></th>\n",
              "      <th>C</th>\n",
              "      <th>bar</th>\n",
              "      <th>foo</th>\n",
              "    </tr>\n",
              "    <tr>\n",
              "      <th>A</th>\n",
              "      <th>B</th>\n",
              "      <th></th>\n",
              "      <th></th>\n",
              "    </tr>\n",
              "  </thead>\n",
              "  <tbody>\n",
              "    <tr>\n",
              "      <th rowspan=\"3\" valign=\"top\">one</th>\n",
              "      <th>A</th>\n",
              "      <td>-0.540043</td>\n",
              "      <td>-0.388590</td>\n",
              "    </tr>\n",
              "    <tr>\n",
              "      <th>B</th>\n",
              "      <td>-0.137766</td>\n",
              "      <td>0.096758</td>\n",
              "    </tr>\n",
              "    <tr>\n",
              "      <th>C</th>\n",
              "      <td>-0.385584</td>\n",
              "      <td>0.670096</td>\n",
              "    </tr>\n",
              "    <tr>\n",
              "      <th rowspan=\"3\" valign=\"top\">three</th>\n",
              "      <th>A</th>\n",
              "      <td>1.644634</td>\n",
              "      <td>NaN</td>\n",
              "    </tr>\n",
              "    <tr>\n",
              "      <th>B</th>\n",
              "      <td>NaN</td>\n",
              "      <td>-0.287536</td>\n",
              "    </tr>\n",
              "    <tr>\n",
              "      <th>C</th>\n",
              "      <td>-0.751042</td>\n",
              "      <td>NaN</td>\n",
              "    </tr>\n",
              "    <tr>\n",
              "      <th rowspan=\"3\" valign=\"top\">two</th>\n",
              "      <th>A</th>\n",
              "      <td>NaN</td>\n",
              "      <td>-1.144518</td>\n",
              "    </tr>\n",
              "    <tr>\n",
              "      <th>B</th>\n",
              "      <td>1.116471</td>\n",
              "      <td>NaN</td>\n",
              "    </tr>\n",
              "    <tr>\n",
              "      <th>C</th>\n",
              "      <td>NaN</td>\n",
              "      <td>0.235439</td>\n",
              "    </tr>\n",
              "  </tbody>\n",
              "</table>\n",
              "</div>"
            ],
            "text/plain": [
              "C             bar       foo\n",
              "A     B                    \n",
              "one   A -0.540043 -0.388590\n",
              "      B -0.137766  0.096758\n",
              "      C -0.385584  0.670096\n",
              "three A  1.644634       NaN\n",
              "      B       NaN -0.287536\n",
              "      C -0.751042       NaN\n",
              "two   A       NaN -1.144518\n",
              "      B  1.116471       NaN\n",
              "      C       NaN  0.235439"
            ]
          },
          "metadata": {
            "tags": []
          },
          "execution_count": 113
        }
      ]
    },
    {
      "cell_type": "markdown",
      "metadata": {
        "id": "urpMSnBluhXF"
      },
      "source": [
        "## 9) 시계열 (Time Series)"
      ]
    },
    {
      "cell_type": "markdown",
      "metadata": {
        "id": "VqZLNoNQum4T"
      },
      "source": [
        "[시계열 (Time series / date functionality)](https://pandas.pydata.org/pandas-docs/stable/user_guide/timeseries.html)  \n",
        "Pandas는 자주 일어나는 변환 (예시 : 5분마다 일어나는 데이터에 대한 2차 데이터 변환) 사이에 수행하는 리샘플링 연산을 위한 간단하고, 강력하며, 효율적인 함수를 제공한다. 이는 재무 (금융) 응용에서 매우 일반적이지만 이에 국한되지는 않는다."
      ]
    },
    {
      "cell_type": "code",
      "metadata": {
        "id": "8Ke_zU4ju1e3",
        "outputId": "79a016fb-5290-4c5c-a986-ea9441992dab",
        "colab": {
          "base_uri": "https://localhost:8080/"
        }
      },
      "source": [
        "rng = pd.date_range('1/1/2012', periods=100, freq='S')\n",
        "ts = pd.Series(np.random.randint(0, 500, len(rng)), index=rng)\n",
        "ts.resample('5Min').sum()"
      ],
      "execution_count": 114,
      "outputs": [
        {
          "output_type": "execute_result",
          "data": {
            "text/plain": [
              "2012-01-01    27558\n",
              "Freq: 5T, dtype: int64"
            ]
          },
          "metadata": {
            "tags": []
          },
          "execution_count": 114
        }
      ]
    },
    {
      "cell_type": "markdown",
      "metadata": {
        "id": "h8ydV_fxu-zI"
      },
      "source": [
        "시간대를 표현한다."
      ]
    },
    {
      "cell_type": "code",
      "metadata": {
        "id": "gh48NCOZvAqH",
        "outputId": "b32604ef-99b7-49b4-cb44-bb25813b5864",
        "colab": {
          "base_uri": "https://localhost:8080/"
        }
      },
      "source": [
        "rng = pd.date_range('3/6/2012 00:00', periods=5, freq='D')\n",
        "ts = pd.Series(np.random.randn(len(rng)), rng)\n",
        "ts"
      ],
      "execution_count": 115,
      "outputs": [
        {
          "output_type": "execute_result",
          "data": {
            "text/plain": [
              "2012-03-06    1.212536\n",
              "2012-03-07    0.751280\n",
              "2012-03-08    1.779794\n",
              "2012-03-09   -0.981566\n",
              "2012-03-10    0.161867\n",
              "Freq: D, dtype: float64"
            ]
          },
          "metadata": {
            "tags": []
          },
          "execution_count": 115
        }
      ]
    },
    {
      "cell_type": "code",
      "metadata": {
        "id": "1qAMPQbMvENP",
        "outputId": "e9993b69-bc57-4013-8787-703f32c7192e",
        "colab": {
          "base_uri": "https://localhost:8080/"
        }
      },
      "source": [
        "ts_utc = ts.tz_localize('UTC')\n",
        "ts_utc"
      ],
      "execution_count": 116,
      "outputs": [
        {
          "output_type": "execute_result",
          "data": {
            "text/plain": [
              "2012-03-06 00:00:00+00:00    1.212536\n",
              "2012-03-07 00:00:00+00:00    0.751280\n",
              "2012-03-08 00:00:00+00:00    1.779794\n",
              "2012-03-09 00:00:00+00:00   -0.981566\n",
              "2012-03-10 00:00:00+00:00    0.161867\n",
              "Freq: D, dtype: float64"
            ]
          },
          "metadata": {
            "tags": []
          },
          "execution_count": 116
        }
      ]
    },
    {
      "cell_type": "markdown",
      "metadata": {
        "id": "qcqGUeJSvF4D"
      },
      "source": [
        "다른 시간대로 변환한다."
      ]
    },
    {
      "cell_type": "code",
      "metadata": {
        "id": "ynJkDzjevHMb",
        "outputId": "c8c6ca62-fc93-4281-d68e-b6416018a47c",
        "colab": {
          "base_uri": "https://localhost:8080/"
        }
      },
      "source": [
        "ts_utc.tz_convert('US/Eastern')"
      ],
      "execution_count": 117,
      "outputs": [
        {
          "output_type": "execute_result",
          "data": {
            "text/plain": [
              "2012-03-05 19:00:00-05:00    1.212536\n",
              "2012-03-06 19:00:00-05:00    0.751280\n",
              "2012-03-07 19:00:00-05:00    1.779794\n",
              "2012-03-08 19:00:00-05:00   -0.981566\n",
              "2012-03-09 19:00:00-05:00    0.161867\n",
              "Freq: D, dtype: float64"
            ]
          },
          "metadata": {
            "tags": []
          },
          "execution_count": 117
        }
      ]
    },
    {
      "cell_type": "markdown",
      "metadata": {
        "id": "8BtD0Iy3vJKv"
      },
      "source": [
        "시간 표현 ↔ 기간 표현으로 변환한다."
      ]
    },
    {
      "cell_type": "code",
      "metadata": {
        "id": "pSSveQsmvKrv",
        "outputId": "f783f44e-5036-4fbb-aa36-f13c140f7ced",
        "colab": {
          "base_uri": "https://localhost:8080/"
        }
      },
      "source": [
        "rng = pd.date_range('1/1/2012', periods=5, freq='M')\n",
        "ts = pd.Series(np.random.randn(len(rng)), index=rng)\n",
        "ts"
      ],
      "execution_count": 118,
      "outputs": [
        {
          "output_type": "execute_result",
          "data": {
            "text/plain": [
              "2012-01-31   -1.147594\n",
              "2012-02-29    2.187776\n",
              "2012-03-31   -0.567851\n",
              "2012-04-30    1.944352\n",
              "2012-05-31   -0.638937\n",
              "Freq: M, dtype: float64"
            ]
          },
          "metadata": {
            "tags": []
          },
          "execution_count": 118
        }
      ]
    },
    {
      "cell_type": "code",
      "metadata": {
        "id": "7gxemQnPvM8A",
        "outputId": "15724e30-f1f4-4c58-dcd3-61f15d4041e8",
        "colab": {
          "base_uri": "https://localhost:8080/"
        }
      },
      "source": [
        "ps = ts.to_period()\n",
        "ps"
      ],
      "execution_count": 119,
      "outputs": [
        {
          "output_type": "execute_result",
          "data": {
            "text/plain": [
              "2012-01   -1.147594\n",
              "2012-02    2.187776\n",
              "2012-03   -0.567851\n",
              "2012-04    1.944352\n",
              "2012-05   -0.638937\n",
              "Freq: M, dtype: float64"
            ]
          },
          "metadata": {
            "tags": []
          },
          "execution_count": 119
        }
      ]
    },
    {
      "cell_type": "code",
      "metadata": {
        "id": "C6M5Nz1ZvQ6A",
        "outputId": "05844853-a0ab-4150-ca74-45321ccf086a",
        "colab": {
          "base_uri": "https://localhost:8080/"
        }
      },
      "source": [
        "ps.to_timestamp()"
      ],
      "execution_count": 120,
      "outputs": [
        {
          "output_type": "execute_result",
          "data": {
            "text/plain": [
              "2012-01-01   -1.147594\n",
              "2012-02-01    2.187776\n",
              "2012-03-01   -0.567851\n",
              "2012-04-01    1.944352\n",
              "2012-05-01   -0.638937\n",
              "Freq: MS, dtype: float64"
            ]
          },
          "metadata": {
            "tags": []
          },
          "execution_count": 120
        }
      ]
    },
    {
      "cell_type": "markdown",
      "metadata": {
        "id": "R9t6Mmd4vTQA"
      },
      "source": [
        "기간 ↔ 시간 변환은 편리한 산술 기능들을 사용할 수 있도록 만들어준다. 다음 예제에서, 우리는 11월에 끝나는 연말 결산의 분기별 빈도를 분기말 익월의 월말일 오전 9시로 변환한다."
      ]
    },
    {
      "cell_type": "code",
      "metadata": {
        "id": "FY1sX9LNvWMY",
        "outputId": "fcf6eaf6-e580-4a94-f890-1abdb51af793",
        "colab": {
          "base_uri": "https://localhost:8080/"
        }
      },
      "source": [
        "prng = pd.period_range('1990Q1', '2000Q4', freq='Q-NOV')\n",
        "ts = pd.Series(np.random.randn(len(prng)), prng)\n",
        "ts.index = (prng.asfreq('M', 'e') + 1).asfreq('H', 's') + 9\n",
        "ts.head()"
      ],
      "execution_count": 121,
      "outputs": [
        {
          "output_type": "execute_result",
          "data": {
            "text/plain": [
              "1990-03-01 09:00    0.079946\n",
              "1990-06-01 09:00   -0.277186\n",
              "1990-09-01 09:00   -0.848088\n",
              "1990-12-01 09:00   -0.181953\n",
              "1991-03-01 09:00   -1.110753\n",
              "Freq: H, dtype: float64"
            ]
          },
          "metadata": {
            "tags": []
          },
          "execution_count": 121
        }
      ]
    },
    {
      "cell_type": "markdown",
      "metadata": {
        "id": "5sfPc1huvht7"
      },
      "source": [
        "## 10) 범주화 (Categoricals)"
      ]
    },
    {
      "cell_type": "markdown",
      "metadata": {
        "id": "B2kYYZZOvloQ"
      },
      "source": [
        "[범주형 소개 (Categorical data)](https://pandas.pydata.org/pandas-docs/stable/user_guide/categorical.html)  \n",
        "[API 문서 (API reference)](https://pandas.pydata.org/pandas-docs/stable/reference/index.html)  \n",
        "Pandas는 데이터프레임 내에 범주형 데이터를 포함할 수 있다."
      ]
    },
    {
      "cell_type": "markdown",
      "metadata": {
        "id": "Z5lkrcRev1V6"
      },
      "source": [
        "가공하지 않은 성적을 범주형 데이터로 변환한다."
      ]
    },
    {
      "cell_type": "code",
      "metadata": {
        "id": "wGHJ2X8zv2oT",
        "outputId": "67d734e5-4d0a-4969-8d43-5cda4f18dd25",
        "colab": {
          "base_uri": "https://localhost:8080/"
        }
      },
      "source": [
        "df = pd.DataFrame({\"id\":[1,2,3,4,5,6], \"raw_grade\":['a', 'b', 'b', 'a', 'a', 'e']})\n",
        "df[\"grade\"] = df[\"raw_grade\"].astype(\"category\")\n",
        "df[\"grade\"]"
      ],
      "execution_count": 123,
      "outputs": [
        {
          "output_type": "execute_result",
          "data": {
            "text/plain": [
              "0    a\n",
              "1    b\n",
              "2    b\n",
              "3    a\n",
              "4    a\n",
              "5    e\n",
              "Name: grade, dtype: category\n",
              "Categories (3, object): ['a', 'b', 'e']"
            ]
          },
          "metadata": {
            "tags": []
          },
          "execution_count": 123
        }
      ]
    },
    {
      "cell_type": "markdown",
      "metadata": {
        "id": "FN-04Vx5wCJ_"
      },
      "source": [
        "범주에 더 의미 있는 이름을 붙여준다. (Series.cat.categories로 할당하는 것이 적합하다)."
      ]
    },
    {
      "cell_type": "code",
      "metadata": {
        "id": "F1BCQH_fwHVg"
      },
      "source": [
        "df[\"grade\"].cat.categories = [\"very good\", \"good\", \"very bad\"]"
      ],
      "execution_count": 124,
      "outputs": []
    },
    {
      "cell_type": "markdown",
      "metadata": {
        "id": "w2dAVJ8swLqO"
      },
      "source": [
        "범주의 순서를 바꾸고 동시에 누락된 범주를 추가한다. (Series.cat에 속하는 메소드는 기본적으로 새로운 Series를 반환한다)."
      ]
    },
    {
      "cell_type": "code",
      "metadata": {
        "id": "CHQ97i_3wP2w",
        "outputId": "e278ef50-80eb-4b6f-fed8-0d99fd9032a7",
        "colab": {
          "base_uri": "https://localhost:8080/"
        }
      },
      "source": [
        "df[\"grade\"] = df[\"grade\"].cat.set_categories([\"very bad\", \"bad\", \"medium\", \"good\", \"very good\"])\n",
        "df[\"grade\"]"
      ],
      "execution_count": 125,
      "outputs": [
        {
          "output_type": "execute_result",
          "data": {
            "text/plain": [
              "0    very good\n",
              "1         good\n",
              "2         good\n",
              "3    very good\n",
              "4    very good\n",
              "5     very bad\n",
              "Name: grade, dtype: category\n",
              "Categories (5, object): ['very bad', 'bad', 'medium', 'good', 'very good']"
            ]
          },
          "metadata": {
            "tags": []
          },
          "execution_count": 125
        }
      ]
    },
    {
      "cell_type": "markdown",
      "metadata": {
        "id": "KMWxuS9Cwadg"
      },
      "source": [
        "정렬은 사전 순서가 아닌, 해당 범주에서 지정된 순서대로 배열한다.  \n",
        "(very bad, bad, medium, good, very good 의 순서로 기재되어 있기 때문에 정렬 결과도 해당 순서대로 배열된다.)"
      ]
    },
    {
      "cell_type": "code",
      "metadata": {
        "id": "kTcHRmzVwiQv",
        "outputId": "abf901f6-8f8d-4245-e7bb-7c5f832743a9",
        "colab": {
          "base_uri": "https://localhost:8080/",
          "height": 235
        }
      },
      "source": [
        "df.sort_values(by=\"grade\")"
      ],
      "execution_count": 126,
      "outputs": [
        {
          "output_type": "execute_result",
          "data": {
            "text/html": [
              "<div>\n",
              "<style scoped>\n",
              "    .dataframe tbody tr th:only-of-type {\n",
              "        vertical-align: middle;\n",
              "    }\n",
              "\n",
              "    .dataframe tbody tr th {\n",
              "        vertical-align: top;\n",
              "    }\n",
              "\n",
              "    .dataframe thead th {\n",
              "        text-align: right;\n",
              "    }\n",
              "</style>\n",
              "<table border=\"1\" class=\"dataframe\">\n",
              "  <thead>\n",
              "    <tr style=\"text-align: right;\">\n",
              "      <th></th>\n",
              "      <th>id</th>\n",
              "      <th>raw_grade</th>\n",
              "      <th>grade</th>\n",
              "    </tr>\n",
              "  </thead>\n",
              "  <tbody>\n",
              "    <tr>\n",
              "      <th>5</th>\n",
              "      <td>6</td>\n",
              "      <td>e</td>\n",
              "      <td>very bad</td>\n",
              "    </tr>\n",
              "    <tr>\n",
              "      <th>1</th>\n",
              "      <td>2</td>\n",
              "      <td>b</td>\n",
              "      <td>good</td>\n",
              "    </tr>\n",
              "    <tr>\n",
              "      <th>2</th>\n",
              "      <td>3</td>\n",
              "      <td>b</td>\n",
              "      <td>good</td>\n",
              "    </tr>\n",
              "    <tr>\n",
              "      <th>0</th>\n",
              "      <td>1</td>\n",
              "      <td>a</td>\n",
              "      <td>very good</td>\n",
              "    </tr>\n",
              "    <tr>\n",
              "      <th>3</th>\n",
              "      <td>4</td>\n",
              "      <td>a</td>\n",
              "      <td>very good</td>\n",
              "    </tr>\n",
              "    <tr>\n",
              "      <th>4</th>\n",
              "      <td>5</td>\n",
              "      <td>a</td>\n",
              "      <td>very good</td>\n",
              "    </tr>\n",
              "  </tbody>\n",
              "</table>\n",
              "</div>"
            ],
            "text/plain": [
              "   id raw_grade      grade\n",
              "5   6         e   very bad\n",
              "1   2         b       good\n",
              "2   3         b       good\n",
              "0   1         a  very good\n",
              "3   4         a  very good\n",
              "4   5         a  very good"
            ]
          },
          "metadata": {
            "tags": []
          },
          "execution_count": 126
        }
      ]
    },
    {
      "cell_type": "markdown",
      "metadata": {
        "id": "PAyHr0VUwmBR"
      },
      "source": [
        "범주의 열을 기준으로 그룹화하면 빈 범주도 표시된다."
      ]
    },
    {
      "cell_type": "code",
      "metadata": {
        "id": "j-Nzq9UAwoRA",
        "outputId": "30324f4d-0b61-42ee-a3cd-ca05e042557f",
        "colab": {
          "base_uri": "https://localhost:8080/"
        }
      },
      "source": [
        "df.groupby(\"grade\").size()"
      ],
      "execution_count": 127,
      "outputs": [
        {
          "output_type": "execute_result",
          "data": {
            "text/plain": [
              "grade\n",
              "very bad     1\n",
              "bad          0\n",
              "medium       0\n",
              "good         2\n",
              "very good    3\n",
              "dtype: int64"
            ]
          },
          "metadata": {
            "tags": []
          },
          "execution_count": 127
        }
      ]
    },
    {
      "cell_type": "markdown",
      "metadata": {
        "id": "RZobV_qMwspc"
      },
      "source": [
        "## 11) 그래프 (Plotting)"
      ]
    },
    {
      "cell_type": "markdown",
      "metadata": {
        "id": "240tmfQLwzNU"
      },
      "source": [
        "[Visualization](https://pandas.pydata.org/pandas-docs/stable/user_guide/visualization.html)"
      ]
    },
    {
      "cell_type": "code",
      "metadata": {
        "id": "ENge24tow3QZ",
        "outputId": "799930a1-3202-4f16-c0a6-fd1b2ce3fc8e",
        "colab": {
          "base_uri": "https://localhost:8080/",
          "height": 295
        }
      },
      "source": [
        "ts = pd.Series(np.random.randn(1000), index=pd.date_range('1/1/2000', periods=1000))\n",
        "ts = ts.cumsum()\n",
        "ts.plot()"
      ],
      "execution_count": 128,
      "outputs": [
        {
          "output_type": "execute_result",
          "data": {
            "text/plain": [
              "<matplotlib.axes._subplots.AxesSubplot at 0x7f2486b26fd0>"
            ]
          },
          "metadata": {
            "tags": []
          },
          "execution_count": 128
        },
        {
          "output_type": "display_data",
          "data": {
            "image/png": "[encoded data removed]",
            "text/plain": [
              "<Figure size 432x288 with 1 Axes>"
            ]
          },
          "metadata": {
            "tags": [],
            "needs_background": "light"
          }
        }
      ]
    },
    {
      "cell_type": "markdown",
      "metadata": {
        "id": "O0IlwslRw7vY"
      },
      "source": [
        "데이터프레임에서 [plot()](https://pandas.pydata.org/pandas-docs/stable/reference/api/pandas.DataFrame.plot.html) 메소드는 라벨이 존재하는 모든 열을 그릴 때 편리하다."
      ]
    },
    {
      "cell_type": "code",
      "metadata": {
        "id": "YNeuYijmw_zg",
        "outputId": "3b6f81f8-eedf-49dc-bc58-8835b8374b96",
        "colab": {
          "base_uri": "https://localhost:8080/",
          "height": 313
        }
      },
      "source": [
        "df = pd.DataFrame(np.random.randn(1000, 4), index=ts.index,\n",
        "                  columns=['A', 'B', 'C', 'D'])  \n",
        "df = df.cumsum()\n",
        "plt.figure(); df.plot(); plt.legend(loc='best')"
      ],
      "execution_count": 129,
      "outputs": [
        {
          "output_type": "execute_result",
          "data": {
            "text/plain": [
              "<matplotlib.legend.Legend at 0x7f24869c8b38>"
            ]
          },
          "metadata": {
            "tags": []
          },
          "execution_count": 129
        },
        {
          "output_type": "display_data",
          "data": {
            "text/plain": [
              "<Figure size 432x288 with 0 Axes>"
            ]
          },
          "metadata": {
            "tags": []
          }
        },
        {
          "output_type": "display_data",
          "data": {
            "image/png": "[encoded data removed]",
            "text/plain": [
              "<Figure size 432x288 with 1 Axes>"
            ]
          },
          "metadata": {
            "tags": [],
            "needs_background": "light"
          }
        }
      ]
    },
    {
      "cell_type": "markdown",
      "metadata": {
        "id": "0X9rAAjexGID"
      },
      "source": [
        "## 12) 데이터 입/출력 (Getting Data In/Out)"
      ]
    },
    {
      "cell_type": "markdown",
      "metadata": {
        "id": "mqVspxKaxM5G"
      },
      "source": [
        "### 12-1) CSV"
      ]
    },
    {
      "cell_type": "markdown",
      "metadata": {
        "id": "VfKTYyiqxQdp"
      },
      "source": [
        "[csv 파일에 쓴다.](https://pandas.pydata.org/pandas-docs/stable/user_guide/io.html#io-store-in-csv)"
      ]
    },
    {
      "cell_type": "code",
      "metadata": {
        "id": "T49FzOFnxTW5"
      },
      "source": [
        "df.to_csv('foo.csv')"
      ],
      "execution_count": 130,
      "outputs": []
    },
    {
      "cell_type": "markdown",
      "metadata": {
        "id": "6N5np1tbxuCA"
      },
      "source": [
        "[csv 파일을 읽는다.](https://pandas.pydata.org/pandas-docs/stable/user_guide/io.html#io-read-csv-table)"
      ]
    },
    {
      "cell_type": "code",
      "metadata": {
        "id": "i8R15UQZxyhm",
        "outputId": "efa95596-35a6-40db-9ffc-cda0eb5e95e0",
        "colab": {
          "base_uri": "https://localhost:8080/",
          "height": 419
        }
      },
      "source": [
        "pd.read_csv('foo.csv')"
      ],
      "execution_count": 131,
      "outputs": [
        {
          "output_type": "execute_result",
          "data": {
            "text/html": [
              "<div>\n",
              "<style scoped>\n",
              "    .dataframe tbody tr th:only-of-type {\n",
              "        vertical-align: middle;\n",
              "    }\n",
              "\n",
              "    .dataframe tbody tr th {\n",
              "        vertical-align: top;\n",
              "    }\n",
              "\n",
              "    .dataframe thead th {\n",
              "        text-align: right;\n",
              "    }\n",
              "</style>\n",
              "<table border=\"1\" class=\"dataframe\">\n",
              "  <thead>\n",
              "    <tr style=\"text-align: right;\">\n",
              "      <th></th>\n",
              "      <th>Unnamed: 0</th>\n",
              "      <th>A</th>\n",
              "      <th>B</th>\n",
              "      <th>C</th>\n",
              "      <th>D</th>\n",
              "    </tr>\n",
              "  </thead>\n",
              "  <tbody>\n",
              "    <tr>\n",
              "      <th>0</th>\n",
              "      <td>2000-01-01</td>\n",
              "      <td>0.360804</td>\n",
              "      <td>1.476213</td>\n",
              "      <td>-1.265585</td>\n",
              "      <td>-0.240420</td>\n",
              "    </tr>\n",
              "    <tr>\n",
              "      <th>1</th>\n",
              "      <td>2000-01-02</td>\n",
              "      <td>0.152304</td>\n",
              "      <td>2.910805</td>\n",
              "      <td>-0.935624</td>\n",
              "      <td>0.640792</td>\n",
              "    </tr>\n",
              "    <tr>\n",
              "      <th>2</th>\n",
              "      <td>2000-01-03</td>\n",
              "      <td>0.149786</td>\n",
              "      <td>3.056196</td>\n",
              "      <td>-0.101461</td>\n",
              "      <td>0.915478</td>\n",
              "    </tr>\n",
              "    <tr>\n",
              "      <th>3</th>\n",
              "      <td>2000-01-04</td>\n",
              "      <td>0.448929</td>\n",
              "      <td>1.637972</td>\n",
              "      <td>-0.117874</td>\n",
              "      <td>-0.625844</td>\n",
              "    </tr>\n",
              "    <tr>\n",
              "      <th>4</th>\n",
              "      <td>2000-01-05</td>\n",
              "      <td>0.942632</td>\n",
              "      <td>1.786469</td>\n",
              "      <td>-0.512949</td>\n",
              "      <td>-2.706819</td>\n",
              "    </tr>\n",
              "    <tr>\n",
              "      <th>...</th>\n",
              "      <td>...</td>\n",
              "      <td>...</td>\n",
              "      <td>...</td>\n",
              "      <td>...</td>\n",
              "      <td>...</td>\n",
              "    </tr>\n",
              "    <tr>\n",
              "      <th>995</th>\n",
              "      <td>2002-09-22</td>\n",
              "      <td>-8.745917</td>\n",
              "      <td>28.871050</td>\n",
              "      <td>5.372952</td>\n",
              "      <td>-34.693096</td>\n",
              "    </tr>\n",
              "    <tr>\n",
              "      <th>996</th>\n",
              "      <td>2002-09-23</td>\n",
              "      <td>-8.355598</td>\n",
              "      <td>28.768257</td>\n",
              "      <td>5.388912</td>\n",
              "      <td>-33.545690</td>\n",
              "    </tr>\n",
              "    <tr>\n",
              "      <th>997</th>\n",
              "      <td>2002-09-24</td>\n",
              "      <td>-9.838548</td>\n",
              "      <td>28.876310</td>\n",
              "      <td>7.481758</td>\n",
              "      <td>-33.658828</td>\n",
              "    </tr>\n",
              "    <tr>\n",
              "      <th>998</th>\n",
              "      <td>2002-09-25</td>\n",
              "      <td>-10.267756</td>\n",
              "      <td>29.122170</td>\n",
              "      <td>7.903836</td>\n",
              "      <td>-33.454289</td>\n",
              "    </tr>\n",
              "    <tr>\n",
              "      <th>999</th>\n",
              "      <td>2002-09-26</td>\n",
              "      <td>-9.947559</td>\n",
              "      <td>28.628743</td>\n",
              "      <td>6.611331</td>\n",
              "      <td>-32.886421</td>\n",
              "    </tr>\n",
              "  </tbody>\n",
              "</table>\n",
              "<p>1000 rows × 5 columns</p>\n",
              "</div>"
            ],
            "text/plain": [
              "     Unnamed: 0          A          B         C          D\n",
              "0    2000-01-01   0.360804   1.476213 -1.265585  -0.240420\n",
              "1    2000-01-02   0.152304   2.910805 -0.935624   0.640792\n",
              "2    2000-01-03   0.149786   3.056196 -0.101461   0.915478\n",
              "3    2000-01-04   0.448929   1.637972 -0.117874  -0.625844\n",
              "4    2000-01-05   0.942632   1.786469 -0.512949  -2.706819\n",
              "..          ...        ...        ...       ...        ...\n",
              "995  2002-09-22  -8.745917  28.871050  5.372952 -34.693096\n",
              "996  2002-09-23  -8.355598  28.768257  5.388912 -33.545690\n",
              "997  2002-09-24  -9.838548  28.876310  7.481758 -33.658828\n",
              "998  2002-09-25 -10.267756  29.122170  7.903836 -33.454289\n",
              "999  2002-09-26  -9.947559  28.628743  6.611331 -32.886421\n",
              "\n",
              "[1000 rows x 5 columns]"
            ]
          },
          "metadata": {
            "tags": []
          },
          "execution_count": 131
        }
      ]
    },
    {
      "cell_type": "markdown",
      "metadata": {
        "id": "OZJNgyNXyLKJ"
      },
      "source": [
        "### 12-2) HDF5"
      ]
    },
    {
      "cell_type": "markdown",
      "metadata": {
        "id": "t8N_suFtyVbQ"
      },
      "source": [
        "[HDF5 Store에 쓰고 읽어온다.](https://pandas.pydata.org/pandas-docs/stable/user_guide/io.html#hdf5-pytables)"
      ]
    },
    {
      "cell_type": "code",
      "metadata": {
        "id": "WIItuIh7yZGA",
        "outputId": "b68299fc-e51a-4268-a002-f3803755a5cd",
        "colab": {
          "base_uri": "https://localhost:8080/",
          "height": 419
        }
      },
      "source": [
        "df.to_hdf('foo.h5','df')\n",
        "pd.read_hdf('foo.h5','df')"
      ],
      "execution_count": 132,
      "outputs": [
        {
          "output_type": "execute_result",
          "data": {
            "text/html": [
              "<div>\n",
              "<style scoped>\n",
              "    .dataframe tbody tr th:only-of-type {\n",
              "        vertical-align: middle;\n",
              "    }\n",
              "\n",
              "    .dataframe tbody tr th {\n",
              "        vertical-align: top;\n",
              "    }\n",
              "\n",
              "    .dataframe thead th {\n",
              "        text-align: right;\n",
              "    }\n",
              "</style>\n",
              "<table border=\"1\" class=\"dataframe\">\n",
              "  <thead>\n",
              "    <tr style=\"text-align: right;\">\n",
              "      <th></th>\n",
              "      <th>A</th>\n",
              "      <th>B</th>\n",
              "      <th>C</th>\n",
              "      <th>D</th>\n",
              "    </tr>\n",
              "  </thead>\n",
              "  <tbody>\n",
              "    <tr>\n",
              "      <th>2000-01-01</th>\n",
              "      <td>0.360804</td>\n",
              "      <td>1.476213</td>\n",
              "      <td>-1.265585</td>\n",
              "      <td>-0.240420</td>\n",
              "    </tr>\n",
              "    <tr>\n",
              "      <th>2000-01-02</th>\n",
              "      <td>0.152304</td>\n",
              "      <td>2.910805</td>\n",
              "      <td>-0.935624</td>\n",
              "      <td>0.640792</td>\n",
              "    </tr>\n",
              "    <tr>\n",
              "      <th>2000-01-03</th>\n",
              "      <td>0.149786</td>\n",
              "      <td>3.056196</td>\n",
              "      <td>-0.101461</td>\n",
              "      <td>0.915478</td>\n",
              "    </tr>\n",
              "    <tr>\n",
              "      <th>2000-01-04</th>\n",
              "      <td>0.448929</td>\n",
              "      <td>1.637972</td>\n",
              "      <td>-0.117874</td>\n",
              "      <td>-0.625844</td>\n",
              "    </tr>\n",
              "    <tr>\n",
              "      <th>2000-01-05</th>\n",
              "      <td>0.942632</td>\n",
              "      <td>1.786469</td>\n",
              "      <td>-0.512949</td>\n",
              "      <td>-2.706819</td>\n",
              "    </tr>\n",
              "    <tr>\n",
              "      <th>...</th>\n",
              "      <td>...</td>\n",
              "      <td>...</td>\n",
              "      <td>...</td>\n",
              "      <td>...</td>\n",
              "    </tr>\n",
              "    <tr>\n",
              "      <th>2002-09-22</th>\n",
              "      <td>-8.745917</td>\n",
              "      <td>28.871050</td>\n",
              "      <td>5.372952</td>\n",
              "      <td>-34.693096</td>\n",
              "    </tr>\n",
              "    <tr>\n",
              "      <th>2002-09-23</th>\n",
              "      <td>-8.355598</td>\n",
              "      <td>28.768257</td>\n",
              "      <td>5.388912</td>\n",
              "      <td>-33.545690</td>\n",
              "    </tr>\n",
              "    <tr>\n",
              "      <th>2002-09-24</th>\n",
              "      <td>-9.838548</td>\n",
              "      <td>28.876310</td>\n",
              "      <td>7.481758</td>\n",
              "      <td>-33.658828</td>\n",
              "    </tr>\n",
              "    <tr>\n",
              "      <th>2002-09-25</th>\n",
              "      <td>-10.267756</td>\n",
              "      <td>29.122170</td>\n",
              "      <td>7.903836</td>\n",
              "      <td>-33.454289</td>\n",
              "    </tr>\n",
              "    <tr>\n",
              "      <th>2002-09-26</th>\n",
              "      <td>-9.947559</td>\n",
              "      <td>28.628743</td>\n",
              "      <td>6.611331</td>\n",
              "      <td>-32.886421</td>\n",
              "    </tr>\n",
              "  </tbody>\n",
              "</table>\n",
              "<p>1000 rows × 4 columns</p>\n",
              "</div>"
            ],
            "text/plain": [
              "                    A          B         C          D\n",
              "2000-01-01   0.360804   1.476213 -1.265585  -0.240420\n",
              "2000-01-02   0.152304   2.910805 -0.935624   0.640792\n",
              "2000-01-03   0.149786   3.056196 -0.101461   0.915478\n",
              "2000-01-04   0.448929   1.637972 -0.117874  -0.625844\n",
              "2000-01-05   0.942632   1.786469 -0.512949  -2.706819\n",
              "...               ...        ...       ...        ...\n",
              "2002-09-22  -8.745917  28.871050  5.372952 -34.693096\n",
              "2002-09-23  -8.355598  28.768257  5.388912 -33.545690\n",
              "2002-09-24  -9.838548  28.876310  7.481758 -33.658828\n",
              "2002-09-25 -10.267756  29.122170  7.903836 -33.454289\n",
              "2002-09-26  -9.947559  28.628743  6.611331 -32.886421\n",
              "\n",
              "[1000 rows x 4 columns]"
            ]
          },
          "metadata": {
            "tags": []
          },
          "execution_count": 132
        }
      ]
    },
    {
      "cell_type": "markdown",
      "metadata": {
        "id": "IPhEuWd9yjLn"
      },
      "source": [
        "### 12-3) Excel"
      ]
    },
    {
      "cell_type": "markdown",
      "metadata": {
        "id": "8vqMwL_Qyrlx"
      },
      "source": [
        "[엑셀 파일(MS Excel)에 쓴다.](https://pandas.pydata.org/pandas-docs/stable/user_guide/io.html#writing-excel-files) "
      ]
    },
    {
      "cell_type": "code",
      "metadata": {
        "id": "QtEsIt5JzDxh"
      },
      "source": [
        "df.to_excel('foo.xlsx', sheet_name='Sheet1')"
      ],
      "execution_count": 133,
      "outputs": []
    },
    {
      "cell_type": "markdown",
      "metadata": {
        "id": "5G4EDsNgy8wR"
      },
      "source": [
        "[엑셀 파일(MS Excel)을 읽어온다.](https://pandas.pydata.org/pandas-docs/stable/user_guide/io.html#reading-excel-files) "
      ]
    },
    {
      "cell_type": "code",
      "metadata": {
        "id": "SAycjjxUzFMZ",
        "outputId": "c6e83613-e64c-49c9-be09-68a375f176ee",
        "colab": {
          "base_uri": "https://localhost:8080/",
          "height": 419
        }
      },
      "source": [
        "pd.read_excel('foo.xlsx', 'Sheet1', index_col=None, na_values=['NA'])"
      ],
      "execution_count": 134,
      "outputs": [
        {
          "output_type": "execute_result",
          "data": {
            "text/html": [
              "<div>\n",
              "<style scoped>\n",
              "    .dataframe tbody tr th:only-of-type {\n",
              "        vertical-align: middle;\n",
              "    }\n",
              "\n",
              "    .dataframe tbody tr th {\n",
              "        vertical-align: top;\n",
              "    }\n",
              "\n",
              "    .dataframe thead th {\n",
              "        text-align: right;\n",
              "    }\n",
              "</style>\n",
              "<table border=\"1\" class=\"dataframe\">\n",
              "  <thead>\n",
              "    <tr style=\"text-align: right;\">\n",
              "      <th></th>\n",
              "      <th>Unnamed: 0</th>\n",
              "      <th>A</th>\n",
              "      <th>B</th>\n",
              "      <th>C</th>\n",
              "      <th>D</th>\n",
              "    </tr>\n",
              "  </thead>\n",
              "  <tbody>\n",
              "    <tr>\n",
              "      <th>0</th>\n",
              "      <td>2000-01-01</td>\n",
              "      <td>0.360804</td>\n",
              "      <td>1.476213</td>\n",
              "      <td>-1.265585</td>\n",
              "      <td>-0.240420</td>\n",
              "    </tr>\n",
              "    <tr>\n",
              "      <th>1</th>\n",
              "      <td>2000-01-02</td>\n",
              "      <td>0.152304</td>\n",
              "      <td>2.910805</td>\n",
              "      <td>-0.935624</td>\n",
              "      <td>0.640792</td>\n",
              "    </tr>\n",
              "    <tr>\n",
              "      <th>2</th>\n",
              "      <td>2000-01-03</td>\n",
              "      <td>0.149786</td>\n",
              "      <td>3.056196</td>\n",
              "      <td>-0.101461</td>\n",
              "      <td>0.915478</td>\n",
              "    </tr>\n",
              "    <tr>\n",
              "      <th>3</th>\n",
              "      <td>2000-01-04</td>\n",
              "      <td>0.448929</td>\n",
              "      <td>1.637972</td>\n",
              "      <td>-0.117874</td>\n",
              "      <td>-0.625844</td>\n",
              "    </tr>\n",
              "    <tr>\n",
              "      <th>4</th>\n",
              "      <td>2000-01-05</td>\n",
              "      <td>0.942632</td>\n",
              "      <td>1.786469</td>\n",
              "      <td>-0.512949</td>\n",
              "      <td>-2.706819</td>\n",
              "    </tr>\n",
              "    <tr>\n",
              "      <th>...</th>\n",
              "      <td>...</td>\n",
              "      <td>...</td>\n",
              "      <td>...</td>\n",
              "      <td>...</td>\n",
              "      <td>...</td>\n",
              "    </tr>\n",
              "    <tr>\n",
              "      <th>995</th>\n",
              "      <td>2002-09-22</td>\n",
              "      <td>-8.745917</td>\n",
              "      <td>28.871050</td>\n",
              "      <td>5.372952</td>\n",
              "      <td>-34.693096</td>\n",
              "    </tr>\n",
              "    <tr>\n",
              "      <th>996</th>\n",
              "      <td>2002-09-23</td>\n",
              "      <td>-8.355598</td>\n",
              "      <td>28.768257</td>\n",
              "      <td>5.388912</td>\n",
              "      <td>-33.545690</td>\n",
              "    </tr>\n",
              "    <tr>\n",
              "      <th>997</th>\n",
              "      <td>2002-09-24</td>\n",
              "      <td>-9.838548</td>\n",
              "      <td>28.876310</td>\n",
              "      <td>7.481758</td>\n",
              "      <td>-33.658828</td>\n",
              "    </tr>\n",
              "    <tr>\n",
              "      <th>998</th>\n",
              "      <td>2002-09-25</td>\n",
              "      <td>-10.267756</td>\n",
              "      <td>29.122170</td>\n",
              "      <td>7.903836</td>\n",
              "      <td>-33.454289</td>\n",
              "    </tr>\n",
              "    <tr>\n",
              "      <th>999</th>\n",
              "      <td>2002-09-26</td>\n",
              "      <td>-9.947559</td>\n",
              "      <td>28.628743</td>\n",
              "      <td>6.611331</td>\n",
              "      <td>-32.886421</td>\n",
              "    </tr>\n",
              "  </tbody>\n",
              "</table>\n",
              "<p>1000 rows × 5 columns</p>\n",
              "</div>"
            ],
            "text/plain": [
              "    Unnamed: 0          A          B         C          D\n",
              "0   2000-01-01   0.360804   1.476213 -1.265585  -0.240420\n",
              "1   2000-01-02   0.152304   2.910805 -0.935624   0.640792\n",
              "2   2000-01-03   0.149786   3.056196 -0.101461   0.915478\n",
              "3   2000-01-04   0.448929   1.637972 -0.117874  -0.625844\n",
              "4   2000-01-05   0.942632   1.786469 -0.512949  -2.706819\n",
              "..         ...        ...        ...       ...        ...\n",
              "995 2002-09-22  -8.745917  28.871050  5.372952 -34.693096\n",
              "996 2002-09-23  -8.355598  28.768257  5.388912 -33.545690\n",
              "997 2002-09-24  -9.838548  28.876310  7.481758 -33.658828\n",
              "998 2002-09-25 -10.267756  29.122170  7.903836 -33.454289\n",
              "999 2002-09-26  -9.947559  28.628743  6.611331 -32.886421\n",
              "\n",
              "[1000 rows x 5 columns]"
            ]
          },
          "metadata": {
            "tags": []
          },
          "execution_count": 134
        }
      ]
    },
    {
      "cell_type": "markdown",
      "metadata": {
        "id": "x1LjPPfzzJMP"
      },
      "source": [
        "## 13) 잡았다! (Gotchas)"
      ]
    },
    {
      "cell_type": "markdown",
      "metadata": {
        "id": "8dmKvna_zNjN"
      },
      "source": [
        "연산 수행 시 다음과 같은 예외 상황을 볼 수도 있다."
      ]
    },
    {
      "cell_type": "code",
      "metadata": {
        "id": "-uF2ZSS3zO1w",
        "outputId": "37257514-7772-4e92-9e78-ffd842e0b908",
        "colab": {
          "base_uri": "https://localhost:8080/",
          "height": 316
        }
      },
      "source": [
        "if pd.Series([False, True, False]):\n",
        "    print(\"I was true\")"
      ],
      "execution_count": 135,
      "outputs": [
        {
          "output_type": "error",
          "ename": "ValueError",
          "evalue": "ignored",
          "traceback": [
            "\u001b[0;31m---------------------------------------------------------------------------\u001b[0m",
            "\u001b[0;31mValueError\u001b[0m                                Traceback (most recent call last)",
            "\u001b[0;32m<ipython-input-135-5c782b38cd2f>\u001b[0m in \u001b[0;36m<module>\u001b[0;34m()\u001b[0m\n\u001b[0;32m----> 1\u001b[0;31m \u001b[0;32mif\u001b[0m \u001b[0mpd\u001b[0m\u001b[0;34m.\u001b[0m\u001b[0mSeries\u001b[0m\u001b[0;34m(\u001b[0m\u001b[0;34m[\u001b[0m\u001b[0;32mFalse\u001b[0m\u001b[0;34m,\u001b[0m \u001b[0;32mTrue\u001b[0m\u001b[0;34m,\u001b[0m \u001b[0;32mFalse\u001b[0m\u001b[0;34m]\u001b[0m\u001b[0;34m)\u001b[0m\u001b[0;34m:\u001b[0m\u001b[0;34m\u001b[0m\u001b[0;34m\u001b[0m\u001b[0m\n\u001b[0m\u001b[1;32m      2\u001b[0m     \u001b[0mprint\u001b[0m\u001b[0;34m(\u001b[0m\u001b[0;34m\"I was true\"\u001b[0m\u001b[0;34m)\u001b[0m\u001b[0;34m\u001b[0m\u001b[0;34m\u001b[0m\u001b[0m\n",
            "\u001b[0;32m/usr/local/lib/python3.6/dist-packages/pandas/core/generic.py\u001b[0m in \u001b[0;36m__nonzero__\u001b[0;34m(self)\u001b[0m\n\u001b[1;32m   1328\u001b[0m     \u001b[0;32mdef\u001b[0m \u001b[0m__nonzero__\u001b[0m\u001b[0;34m(\u001b[0m\u001b[0mself\u001b[0m\u001b[0;34m)\u001b[0m\u001b[0;34m:\u001b[0m\u001b[0;34m\u001b[0m\u001b[0;34m\u001b[0m\u001b[0m\n\u001b[1;32m   1329\u001b[0m         raise ValueError(\n\u001b[0;32m-> 1330\u001b[0;31m             \u001b[0;34mf\"The truth value of a {type(self).__name__} is ambiguous. \"\u001b[0m\u001b[0;34m\u001b[0m\u001b[0;34m\u001b[0m\u001b[0m\n\u001b[0m\u001b[1;32m   1331\u001b[0m             \u001b[0;34m\"Use a.empty, a.bool(), a.item(), a.any() or a.all().\"\u001b[0m\u001b[0;34m\u001b[0m\u001b[0;34m\u001b[0m\u001b[0m\n\u001b[1;32m   1332\u001b[0m         )\n",
            "\u001b[0;31mValueError\u001b[0m: The truth value of a Series is ambiguous. Use a.empty, a.bool(), a.item(), a.any() or a.all()."
          ]
        }
      ]
    },
    {
      "cell_type": "markdown",
      "metadata": {
        "id": "ZwyrHt0UzSjx"
      },
      "source": [
        "이러한 경우에는 any(), all(), empty 등을 사용해서 무엇을 원하는지를 선택 (반영)해주어야 한다."
      ]
    },
    {
      "cell_type": "code",
      "metadata": {
        "id": "mm3VYUbUzUpT",
        "outputId": "082a6825-49e1-4858-a2f5-187a67bca21e",
        "colab": {
          "base_uri": "https://localhost:8080/"
        }
      },
      "source": [
        "if pd.Series([False, True, False])is not None:\n",
        "      print(\"I was not None\")"
      ],
      "execution_count": 136,
      "outputs": [
        {
          "output_type": "stream",
          "text": [
            "I was not None\n"
          ],
          "name": "stdout"
        }
      ]
    }
  ]
}